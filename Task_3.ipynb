{
  "cells": [
    {
      "cell_type": "markdown",
      "metadata": {
        "id": "view-in-github",
        "colab_type": "text"
      },
      "source": [
        "<a href=\"https://colab.research.google.com/github/ismailsangu/IE423-TASK/blob/main/Task_3.ipynb\" target=\"_parent\"><img src=\"https://colab.research.google.com/assets/colab-badge.svg\" alt=\"Open In Colab\"/></a>"
      ]
    },
    {
      "cell_type": "markdown",
      "source": [
        "#Prediciton of cuatomer purchase amount in Black Friday:"
      ],
      "metadata": {
        "id": "_-OjEy-mKXwu"
      }
    },
    {
      "cell_type": "markdown",
      "metadata": {
        "id": "vcJSyUqtTYch"
      },
      "source": [
        "## Initialize"
      ]
    },
    {
      "cell_type": "code",
      "execution_count": 26,
      "metadata": {
        "id": "-S-sN02aTYch"
      },
      "outputs": [],
      "source": [
        "import pandas as pd\n",
        "import numpy as np\n",
        "\n",
        "import sklearn\n",
        "from sklearn.model_selection import train_test_split\n",
        "from sklearn.metrics import mean_absolute_error\n",
        "\n",
        "import warnings\n",
        "warnings.simplefilter(action='ignore', category=FutureWarning)"
      ]
    },
    {
      "cell_type": "markdown",
      "metadata": {
        "id": "jJtIOQYYTYcj"
      },
      "source": [
        "## Load Data"
      ]
    },
    {
      "cell_type": "code",
      "source": [
        "from google.colab import drive\n",
        "drive.mount('/content/drive')"
      ],
      "metadata": {
        "colab": {
          "base_uri": "https://localhost:8080/"
        },
        "id": "HE48nV2eT1EE",
        "outputId": "3371560b-042c-4a3e-f971-5ad8240cff49"
      },
      "execution_count": 4,
      "outputs": [
        {
          "output_type": "stream",
          "name": "stdout",
          "text": [
            "Drive already mounted at /content/drive; to attempt to forcibly remount, call drive.mount(\"/content/drive\", force_remount=True).\n"
          ]
        }
      ]
    },
    {
      "cell_type": "code",
      "execution_count": 5,
      "metadata": {
        "id": "FrYuRb53TYcj"
      },
      "outputs": [],
      "source": [
        "dfBF = pd.read_csv('/content/drive/MyDrive/Data_Sets/train.csv')\n",
        "\n",
        "# Select target as a series and features as dataframe\n",
        "y = dfBF.loc[:,['Purchase']].values.ravel()\n",
        "X = dfBF.drop(['Purchase'],axis=1)\n",
        "\n",
        "# Split into training and test sets\n",
        "X_train, X_test, y_train, y_test = train_test_split(X,y,train_size=0.8, test_size=0.2,random_state=1)"
      ]
    },
    {
      "cell_type": "code",
      "source": [
        "dfBF.head()"
      ],
      "metadata": {
        "colab": {
          "base_uri": "https://localhost:8080/",
          "height": 206
        },
        "id": "JCPPaxZMg0fz",
        "outputId": "2feb9ff4-2ee9-4b62-ff27-b1e3296843ef"
      },
      "execution_count": 6,
      "outputs": [
        {
          "output_type": "execute_result",
          "data": {
            "text/plain": [
              "   User_ID Product_ID Gender   Age  Occupation City_Category  \\\n",
              "0  1000001  P00069042      F  0-17          10             A   \n",
              "1  1000001  P00248942      F  0-17          10             A   \n",
              "2  1000001  P00087842      F  0-17          10             A   \n",
              "3  1000001  P00085442      F  0-17          10             A   \n",
              "4  1000002  P00285442      M   55+          16             C   \n",
              "\n",
              "  Stay_In_Current_City_Years  Marital_Status  Product_Category_1  \\\n",
              "0                          2               0                   3   \n",
              "1                          2               0                   1   \n",
              "2                          2               0                  12   \n",
              "3                          2               0                  12   \n",
              "4                         4+               0                   8   \n",
              "\n",
              "   Product_Category_2  Product_Category_3  Purchase  \n",
              "0                 NaN                 NaN      8370  \n",
              "1                 6.0                14.0     15200  \n",
              "2                 NaN                 NaN      1422  \n",
              "3                14.0                 NaN      1057  \n",
              "4                 NaN                 NaN      7969  "
            ],
            "text/html": [
              "\n",
              "  <div id=\"df-6f7e9d13-f45b-4ddc-8864-b031f6935622\" class=\"colab-df-container\">\n",
              "    <div>\n",
              "<style scoped>\n",
              "    .dataframe tbody tr th:only-of-type {\n",
              "        vertical-align: middle;\n",
              "    }\n",
              "\n",
              "    .dataframe tbody tr th {\n",
              "        vertical-align: top;\n",
              "    }\n",
              "\n",
              "    .dataframe thead th {\n",
              "        text-align: right;\n",
              "    }\n",
              "</style>\n",
              "<table border=\"1\" class=\"dataframe\">\n",
              "  <thead>\n",
              "    <tr style=\"text-align: right;\">\n",
              "      <th></th>\n",
              "      <th>User_ID</th>\n",
              "      <th>Product_ID</th>\n",
              "      <th>Gender</th>\n",
              "      <th>Age</th>\n",
              "      <th>Occupation</th>\n",
              "      <th>City_Category</th>\n",
              "      <th>Stay_In_Current_City_Years</th>\n",
              "      <th>Marital_Status</th>\n",
              "      <th>Product_Category_1</th>\n",
              "      <th>Product_Category_2</th>\n",
              "      <th>Product_Category_3</th>\n",
              "      <th>Purchase</th>\n",
              "    </tr>\n",
              "  </thead>\n",
              "  <tbody>\n",
              "    <tr>\n",
              "      <th>0</th>\n",
              "      <td>1000001</td>\n",
              "      <td>P00069042</td>\n",
              "      <td>F</td>\n",
              "      <td>0-17</td>\n",
              "      <td>10</td>\n",
              "      <td>A</td>\n",
              "      <td>2</td>\n",
              "      <td>0</td>\n",
              "      <td>3</td>\n",
              "      <td>NaN</td>\n",
              "      <td>NaN</td>\n",
              "      <td>8370</td>\n",
              "    </tr>\n",
              "    <tr>\n",
              "      <th>1</th>\n",
              "      <td>1000001</td>\n",
              "      <td>P00248942</td>\n",
              "      <td>F</td>\n",
              "      <td>0-17</td>\n",
              "      <td>10</td>\n",
              "      <td>A</td>\n",
              "      <td>2</td>\n",
              "      <td>0</td>\n",
              "      <td>1</td>\n",
              "      <td>6.0</td>\n",
              "      <td>14.0</td>\n",
              "      <td>15200</td>\n",
              "    </tr>\n",
              "    <tr>\n",
              "      <th>2</th>\n",
              "      <td>1000001</td>\n",
              "      <td>P00087842</td>\n",
              "      <td>F</td>\n",
              "      <td>0-17</td>\n",
              "      <td>10</td>\n",
              "      <td>A</td>\n",
              "      <td>2</td>\n",
              "      <td>0</td>\n",
              "      <td>12</td>\n",
              "      <td>NaN</td>\n",
              "      <td>NaN</td>\n",
              "      <td>1422</td>\n",
              "    </tr>\n",
              "    <tr>\n",
              "      <th>3</th>\n",
              "      <td>1000001</td>\n",
              "      <td>P00085442</td>\n",
              "      <td>F</td>\n",
              "      <td>0-17</td>\n",
              "      <td>10</td>\n",
              "      <td>A</td>\n",
              "      <td>2</td>\n",
              "      <td>0</td>\n",
              "      <td>12</td>\n",
              "      <td>14.0</td>\n",
              "      <td>NaN</td>\n",
              "      <td>1057</td>\n",
              "    </tr>\n",
              "    <tr>\n",
              "      <th>4</th>\n",
              "      <td>1000002</td>\n",
              "      <td>P00285442</td>\n",
              "      <td>M</td>\n",
              "      <td>55+</td>\n",
              "      <td>16</td>\n",
              "      <td>C</td>\n",
              "      <td>4+</td>\n",
              "      <td>0</td>\n",
              "      <td>8</td>\n",
              "      <td>NaN</td>\n",
              "      <td>NaN</td>\n",
              "      <td>7969</td>\n",
              "    </tr>\n",
              "  </tbody>\n",
              "</table>\n",
              "</div>\n",
              "    <div class=\"colab-df-buttons\">\n",
              "\n",
              "  <div class=\"colab-df-container\">\n",
              "    <button class=\"colab-df-convert\" onclick=\"convertToInteractive('df-6f7e9d13-f45b-4ddc-8864-b031f6935622')\"\n",
              "            title=\"Convert this dataframe to an interactive table.\"\n",
              "            style=\"display:none;\">\n",
              "\n",
              "  <svg xmlns=\"http://www.w3.org/2000/svg\" height=\"24px\" viewBox=\"0 -960 960 960\">\n",
              "    <path d=\"M120-120v-720h720v720H120Zm60-500h600v-160H180v160Zm220 220h160v-160H400v160Zm0 220h160v-160H400v160ZM180-400h160v-160H180v160Zm440 0h160v-160H620v160ZM180-180h160v-160H180v160Zm440 0h160v-160H620v160Z\"/>\n",
              "  </svg>\n",
              "    </button>\n",
              "\n",
              "  <style>\n",
              "    .colab-df-container {\n",
              "      display:flex;\n",
              "      gap: 12px;\n",
              "    }\n",
              "\n",
              "    .colab-df-convert {\n",
              "      background-color: #E8F0FE;\n",
              "      border: none;\n",
              "      border-radius: 50%;\n",
              "      cursor: pointer;\n",
              "      display: none;\n",
              "      fill: #1967D2;\n",
              "      height: 32px;\n",
              "      padding: 0 0 0 0;\n",
              "      width: 32px;\n",
              "    }\n",
              "\n",
              "    .colab-df-convert:hover {\n",
              "      background-color: #E2EBFA;\n",
              "      box-shadow: 0px 1px 2px rgba(60, 64, 67, 0.3), 0px 1px 3px 1px rgba(60, 64, 67, 0.15);\n",
              "      fill: #174EA6;\n",
              "    }\n",
              "\n",
              "    .colab-df-buttons div {\n",
              "      margin-bottom: 4px;\n",
              "    }\n",
              "\n",
              "    [theme=dark] .colab-df-convert {\n",
              "      background-color: #3B4455;\n",
              "      fill: #D2E3FC;\n",
              "    }\n",
              "\n",
              "    [theme=dark] .colab-df-convert:hover {\n",
              "      background-color: #434B5C;\n",
              "      box-shadow: 0px 1px 3px 1px rgba(0, 0, 0, 0.15);\n",
              "      filter: drop-shadow(0px 1px 2px rgba(0, 0, 0, 0.3));\n",
              "      fill: #FFFFFF;\n",
              "    }\n",
              "  </style>\n",
              "\n",
              "    <script>\n",
              "      const buttonEl =\n",
              "        document.querySelector('#df-6f7e9d13-f45b-4ddc-8864-b031f6935622 button.colab-df-convert');\n",
              "      buttonEl.style.display =\n",
              "        google.colab.kernel.accessAllowed ? 'block' : 'none';\n",
              "\n",
              "      async function convertToInteractive(key) {\n",
              "        const element = document.querySelector('#df-6f7e9d13-f45b-4ddc-8864-b031f6935622');\n",
              "        const dataTable =\n",
              "          await google.colab.kernel.invokeFunction('convertToInteractive',\n",
              "                                                    [key], {});\n",
              "        if (!dataTable) return;\n",
              "\n",
              "        const docLinkHtml = 'Like what you see? Visit the ' +\n",
              "          '<a target=\"_blank\" href=https://colab.research.google.com/notebooks/data_table.ipynb>data table notebook</a>'\n",
              "          + ' to learn more about interactive tables.';\n",
              "        element.innerHTML = '';\n",
              "        dataTable['output_type'] = 'display_data';\n",
              "        await google.colab.output.renderOutput(dataTable, element);\n",
              "        const docLink = document.createElement('div');\n",
              "        docLink.innerHTML = docLinkHtml;\n",
              "        element.appendChild(docLink);\n",
              "      }\n",
              "    </script>\n",
              "  </div>\n",
              "\n",
              "\n",
              "<div id=\"df-a37a8923-163a-40a3-b6b5-753a9be29958\">\n",
              "  <button class=\"colab-df-quickchart\" onclick=\"quickchart('df-a37a8923-163a-40a3-b6b5-753a9be29958')\"\n",
              "            title=\"Suggest charts\"\n",
              "            style=\"display:none;\">\n",
              "\n",
              "<svg xmlns=\"http://www.w3.org/2000/svg\" height=\"24px\"viewBox=\"0 0 24 24\"\n",
              "     width=\"24px\">\n",
              "    <g>\n",
              "        <path d=\"M19 3H5c-1.1 0-2 .9-2 2v14c0 1.1.9 2 2 2h14c1.1 0 2-.9 2-2V5c0-1.1-.9-2-2-2zM9 17H7v-7h2v7zm4 0h-2V7h2v10zm4 0h-2v-4h2v4z\"/>\n",
              "    </g>\n",
              "</svg>\n",
              "  </button>\n",
              "\n",
              "<style>\n",
              "  .colab-df-quickchart {\n",
              "      --bg-color: #E8F0FE;\n",
              "      --fill-color: #1967D2;\n",
              "      --hover-bg-color: #E2EBFA;\n",
              "      --hover-fill-color: #174EA6;\n",
              "      --disabled-fill-color: #AAA;\n",
              "      --disabled-bg-color: #DDD;\n",
              "  }\n",
              "\n",
              "  [theme=dark] .colab-df-quickchart {\n",
              "      --bg-color: #3B4455;\n",
              "      --fill-color: #D2E3FC;\n",
              "      --hover-bg-color: #434B5C;\n",
              "      --hover-fill-color: #FFFFFF;\n",
              "      --disabled-bg-color: #3B4455;\n",
              "      --disabled-fill-color: #666;\n",
              "  }\n",
              "\n",
              "  .colab-df-quickchart {\n",
              "    background-color: var(--bg-color);\n",
              "    border: none;\n",
              "    border-radius: 50%;\n",
              "    cursor: pointer;\n",
              "    display: none;\n",
              "    fill: var(--fill-color);\n",
              "    height: 32px;\n",
              "    padding: 0;\n",
              "    width: 32px;\n",
              "  }\n",
              "\n",
              "  .colab-df-quickchart:hover {\n",
              "    background-color: var(--hover-bg-color);\n",
              "    box-shadow: 0 1px 2px rgba(60, 64, 67, 0.3), 0 1px 3px 1px rgba(60, 64, 67, 0.15);\n",
              "    fill: var(--button-hover-fill-color);\n",
              "  }\n",
              "\n",
              "  .colab-df-quickchart-complete:disabled,\n",
              "  .colab-df-quickchart-complete:disabled:hover {\n",
              "    background-color: var(--disabled-bg-color);\n",
              "    fill: var(--disabled-fill-color);\n",
              "    box-shadow: none;\n",
              "  }\n",
              "\n",
              "  .colab-df-spinner {\n",
              "    border: 2px solid var(--fill-color);\n",
              "    border-color: transparent;\n",
              "    border-bottom-color: var(--fill-color);\n",
              "    animation:\n",
              "      spin 1s steps(1) infinite;\n",
              "  }\n",
              "\n",
              "  @keyframes spin {\n",
              "    0% {\n",
              "      border-color: transparent;\n",
              "      border-bottom-color: var(--fill-color);\n",
              "      border-left-color: var(--fill-color);\n",
              "    }\n",
              "    20% {\n",
              "      border-color: transparent;\n",
              "      border-left-color: var(--fill-color);\n",
              "      border-top-color: var(--fill-color);\n",
              "    }\n",
              "    30% {\n",
              "      border-color: transparent;\n",
              "      border-left-color: var(--fill-color);\n",
              "      border-top-color: var(--fill-color);\n",
              "      border-right-color: var(--fill-color);\n",
              "    }\n",
              "    40% {\n",
              "      border-color: transparent;\n",
              "      border-right-color: var(--fill-color);\n",
              "      border-top-color: var(--fill-color);\n",
              "    }\n",
              "    60% {\n",
              "      border-color: transparent;\n",
              "      border-right-color: var(--fill-color);\n",
              "    }\n",
              "    80% {\n",
              "      border-color: transparent;\n",
              "      border-right-color: var(--fill-color);\n",
              "      border-bottom-color: var(--fill-color);\n",
              "    }\n",
              "    90% {\n",
              "      border-color: transparent;\n",
              "      border-bottom-color: var(--fill-color);\n",
              "    }\n",
              "  }\n",
              "</style>\n",
              "\n",
              "  <script>\n",
              "    async function quickchart(key) {\n",
              "      const quickchartButtonEl =\n",
              "        document.querySelector('#' + key + ' button');\n",
              "      quickchartButtonEl.disabled = true;  // To prevent multiple clicks.\n",
              "      quickchartButtonEl.classList.add('colab-df-spinner');\n",
              "      try {\n",
              "        const charts = await google.colab.kernel.invokeFunction(\n",
              "            'suggestCharts', [key], {});\n",
              "      } catch (error) {\n",
              "        console.error('Error during call to suggestCharts:', error);\n",
              "      }\n",
              "      quickchartButtonEl.classList.remove('colab-df-spinner');\n",
              "      quickchartButtonEl.classList.add('colab-df-quickchart-complete');\n",
              "    }\n",
              "    (() => {\n",
              "      let quickchartButtonEl =\n",
              "        document.querySelector('#df-a37a8923-163a-40a3-b6b5-753a9be29958 button');\n",
              "      quickchartButtonEl.style.display =\n",
              "        google.colab.kernel.accessAllowed ? 'block' : 'none';\n",
              "    })();\n",
              "  </script>\n",
              "</div>\n",
              "\n",
              "    </div>\n",
              "  </div>\n"
            ],
            "application/vnd.google.colaboratory.intrinsic+json": {
              "type": "dataframe",
              "variable_name": "dfBF"
            }
          },
          "metadata": {},
          "execution_count": 6
        }
      ]
    },
    {
      "cell_type": "code",
      "source": [
        "dfBF.describe()"
      ],
      "metadata": {
        "colab": {
          "base_uri": "https://localhost:8080/",
          "height": 300
        },
        "id": "cileaP-CiIu1",
        "outputId": "78d726bb-3552-4630-ea38-5df803fae681"
      },
      "execution_count": 7,
      "outputs": [
        {
          "output_type": "execute_result",
          "data": {
            "text/plain": [
              "            User_ID     Occupation  Marital_Status  Product_Category_1  \\\n",
              "count  5.500680e+05  550068.000000   550068.000000       550068.000000   \n",
              "mean   1.003029e+06       8.076707        0.409653            5.404270   \n",
              "std    1.727592e+03       6.522660        0.491770            3.936211   \n",
              "min    1.000001e+06       0.000000        0.000000            1.000000   \n",
              "25%    1.001516e+06       2.000000        0.000000            1.000000   \n",
              "50%    1.003077e+06       7.000000        0.000000            5.000000   \n",
              "75%    1.004478e+06      14.000000        1.000000            8.000000   \n",
              "max    1.006040e+06      20.000000        1.000000           20.000000   \n",
              "\n",
              "       Product_Category_2  Product_Category_3       Purchase  \n",
              "count       376430.000000       166821.000000  550068.000000  \n",
              "mean             9.842329           12.668243    9263.968713  \n",
              "std              5.086590            4.125338    5023.065394  \n",
              "min              2.000000            3.000000      12.000000  \n",
              "25%              5.000000            9.000000    5823.000000  \n",
              "50%              9.000000           14.000000    8047.000000  \n",
              "75%             15.000000           16.000000   12054.000000  \n",
              "max             18.000000           18.000000   23961.000000  "
            ],
            "text/html": [
              "\n",
              "  <div id=\"df-bd511ec5-8d2f-45ef-bb79-a0d46a90333b\" class=\"colab-df-container\">\n",
              "    <div>\n",
              "<style scoped>\n",
              "    .dataframe tbody tr th:only-of-type {\n",
              "        vertical-align: middle;\n",
              "    }\n",
              "\n",
              "    .dataframe tbody tr th {\n",
              "        vertical-align: top;\n",
              "    }\n",
              "\n",
              "    .dataframe thead th {\n",
              "        text-align: right;\n",
              "    }\n",
              "</style>\n",
              "<table border=\"1\" class=\"dataframe\">\n",
              "  <thead>\n",
              "    <tr style=\"text-align: right;\">\n",
              "      <th></th>\n",
              "      <th>User_ID</th>\n",
              "      <th>Occupation</th>\n",
              "      <th>Marital_Status</th>\n",
              "      <th>Product_Category_1</th>\n",
              "      <th>Product_Category_2</th>\n",
              "      <th>Product_Category_3</th>\n",
              "      <th>Purchase</th>\n",
              "    </tr>\n",
              "  </thead>\n",
              "  <tbody>\n",
              "    <tr>\n",
              "      <th>count</th>\n",
              "      <td>5.500680e+05</td>\n",
              "      <td>550068.000000</td>\n",
              "      <td>550068.000000</td>\n",
              "      <td>550068.000000</td>\n",
              "      <td>376430.000000</td>\n",
              "      <td>166821.000000</td>\n",
              "      <td>550068.000000</td>\n",
              "    </tr>\n",
              "    <tr>\n",
              "      <th>mean</th>\n",
              "      <td>1.003029e+06</td>\n",
              "      <td>8.076707</td>\n",
              "      <td>0.409653</td>\n",
              "      <td>5.404270</td>\n",
              "      <td>9.842329</td>\n",
              "      <td>12.668243</td>\n",
              "      <td>9263.968713</td>\n",
              "    </tr>\n",
              "    <tr>\n",
              "      <th>std</th>\n",
              "      <td>1.727592e+03</td>\n",
              "      <td>6.522660</td>\n",
              "      <td>0.491770</td>\n",
              "      <td>3.936211</td>\n",
              "      <td>5.086590</td>\n",
              "      <td>4.125338</td>\n",
              "      <td>5023.065394</td>\n",
              "    </tr>\n",
              "    <tr>\n",
              "      <th>min</th>\n",
              "      <td>1.000001e+06</td>\n",
              "      <td>0.000000</td>\n",
              "      <td>0.000000</td>\n",
              "      <td>1.000000</td>\n",
              "      <td>2.000000</td>\n",
              "      <td>3.000000</td>\n",
              "      <td>12.000000</td>\n",
              "    </tr>\n",
              "    <tr>\n",
              "      <th>25%</th>\n",
              "      <td>1.001516e+06</td>\n",
              "      <td>2.000000</td>\n",
              "      <td>0.000000</td>\n",
              "      <td>1.000000</td>\n",
              "      <td>5.000000</td>\n",
              "      <td>9.000000</td>\n",
              "      <td>5823.000000</td>\n",
              "    </tr>\n",
              "    <tr>\n",
              "      <th>50%</th>\n",
              "      <td>1.003077e+06</td>\n",
              "      <td>7.000000</td>\n",
              "      <td>0.000000</td>\n",
              "      <td>5.000000</td>\n",
              "      <td>9.000000</td>\n",
              "      <td>14.000000</td>\n",
              "      <td>8047.000000</td>\n",
              "    </tr>\n",
              "    <tr>\n",
              "      <th>75%</th>\n",
              "      <td>1.004478e+06</td>\n",
              "      <td>14.000000</td>\n",
              "      <td>1.000000</td>\n",
              "      <td>8.000000</td>\n",
              "      <td>15.000000</td>\n",
              "      <td>16.000000</td>\n",
              "      <td>12054.000000</td>\n",
              "    </tr>\n",
              "    <tr>\n",
              "      <th>max</th>\n",
              "      <td>1.006040e+06</td>\n",
              "      <td>20.000000</td>\n",
              "      <td>1.000000</td>\n",
              "      <td>20.000000</td>\n",
              "      <td>18.000000</td>\n",
              "      <td>18.000000</td>\n",
              "      <td>23961.000000</td>\n",
              "    </tr>\n",
              "  </tbody>\n",
              "</table>\n",
              "</div>\n",
              "    <div class=\"colab-df-buttons\">\n",
              "\n",
              "  <div class=\"colab-df-container\">\n",
              "    <button class=\"colab-df-convert\" onclick=\"convertToInteractive('df-bd511ec5-8d2f-45ef-bb79-a0d46a90333b')\"\n",
              "            title=\"Convert this dataframe to an interactive table.\"\n",
              "            style=\"display:none;\">\n",
              "\n",
              "  <svg xmlns=\"http://www.w3.org/2000/svg\" height=\"24px\" viewBox=\"0 -960 960 960\">\n",
              "    <path d=\"M120-120v-720h720v720H120Zm60-500h600v-160H180v160Zm220 220h160v-160H400v160Zm0 220h160v-160H400v160ZM180-400h160v-160H180v160Zm440 0h160v-160H620v160ZM180-180h160v-160H180v160Zm440 0h160v-160H620v160Z\"/>\n",
              "  </svg>\n",
              "    </button>\n",
              "\n",
              "  <style>\n",
              "    .colab-df-container {\n",
              "      display:flex;\n",
              "      gap: 12px;\n",
              "    }\n",
              "\n",
              "    .colab-df-convert {\n",
              "      background-color: #E8F0FE;\n",
              "      border: none;\n",
              "      border-radius: 50%;\n",
              "      cursor: pointer;\n",
              "      display: none;\n",
              "      fill: #1967D2;\n",
              "      height: 32px;\n",
              "      padding: 0 0 0 0;\n",
              "      width: 32px;\n",
              "    }\n",
              "\n",
              "    .colab-df-convert:hover {\n",
              "      background-color: #E2EBFA;\n",
              "      box-shadow: 0px 1px 2px rgba(60, 64, 67, 0.3), 0px 1px 3px 1px rgba(60, 64, 67, 0.15);\n",
              "      fill: #174EA6;\n",
              "    }\n",
              "\n",
              "    .colab-df-buttons div {\n",
              "      margin-bottom: 4px;\n",
              "    }\n",
              "\n",
              "    [theme=dark] .colab-df-convert {\n",
              "      background-color: #3B4455;\n",
              "      fill: #D2E3FC;\n",
              "    }\n",
              "\n",
              "    [theme=dark] .colab-df-convert:hover {\n",
              "      background-color: #434B5C;\n",
              "      box-shadow: 0px 1px 3px 1px rgba(0, 0, 0, 0.15);\n",
              "      filter: drop-shadow(0px 1px 2px rgba(0, 0, 0, 0.3));\n",
              "      fill: #FFFFFF;\n",
              "    }\n",
              "  </style>\n",
              "\n",
              "    <script>\n",
              "      const buttonEl =\n",
              "        document.querySelector('#df-bd511ec5-8d2f-45ef-bb79-a0d46a90333b button.colab-df-convert');\n",
              "      buttonEl.style.display =\n",
              "        google.colab.kernel.accessAllowed ? 'block' : 'none';\n",
              "\n",
              "      async function convertToInteractive(key) {\n",
              "        const element = document.querySelector('#df-bd511ec5-8d2f-45ef-bb79-a0d46a90333b');\n",
              "        const dataTable =\n",
              "          await google.colab.kernel.invokeFunction('convertToInteractive',\n",
              "                                                    [key], {});\n",
              "        if (!dataTable) return;\n",
              "\n",
              "        const docLinkHtml = 'Like what you see? Visit the ' +\n",
              "          '<a target=\"_blank\" href=https://colab.research.google.com/notebooks/data_table.ipynb>data table notebook</a>'\n",
              "          + ' to learn more about interactive tables.';\n",
              "        element.innerHTML = '';\n",
              "        dataTable['output_type'] = 'display_data';\n",
              "        await google.colab.output.renderOutput(dataTable, element);\n",
              "        const docLink = document.createElement('div');\n",
              "        docLink.innerHTML = docLinkHtml;\n",
              "        element.appendChild(docLink);\n",
              "      }\n",
              "    </script>\n",
              "  </div>\n",
              "\n",
              "\n",
              "<div id=\"df-229625ef-33df-4ebe-9fca-98ec30d6422a\">\n",
              "  <button class=\"colab-df-quickchart\" onclick=\"quickchart('df-229625ef-33df-4ebe-9fca-98ec30d6422a')\"\n",
              "            title=\"Suggest charts\"\n",
              "            style=\"display:none;\">\n",
              "\n",
              "<svg xmlns=\"http://www.w3.org/2000/svg\" height=\"24px\"viewBox=\"0 0 24 24\"\n",
              "     width=\"24px\">\n",
              "    <g>\n",
              "        <path d=\"M19 3H5c-1.1 0-2 .9-2 2v14c0 1.1.9 2 2 2h14c1.1 0 2-.9 2-2V5c0-1.1-.9-2-2-2zM9 17H7v-7h2v7zm4 0h-2V7h2v10zm4 0h-2v-4h2v4z\"/>\n",
              "    </g>\n",
              "</svg>\n",
              "  </button>\n",
              "\n",
              "<style>\n",
              "  .colab-df-quickchart {\n",
              "      --bg-color: #E8F0FE;\n",
              "      --fill-color: #1967D2;\n",
              "      --hover-bg-color: #E2EBFA;\n",
              "      --hover-fill-color: #174EA6;\n",
              "      --disabled-fill-color: #AAA;\n",
              "      --disabled-bg-color: #DDD;\n",
              "  }\n",
              "\n",
              "  [theme=dark] .colab-df-quickchart {\n",
              "      --bg-color: #3B4455;\n",
              "      --fill-color: #D2E3FC;\n",
              "      --hover-bg-color: #434B5C;\n",
              "      --hover-fill-color: #FFFFFF;\n",
              "      --disabled-bg-color: #3B4455;\n",
              "      --disabled-fill-color: #666;\n",
              "  }\n",
              "\n",
              "  .colab-df-quickchart {\n",
              "    background-color: var(--bg-color);\n",
              "    border: none;\n",
              "    border-radius: 50%;\n",
              "    cursor: pointer;\n",
              "    display: none;\n",
              "    fill: var(--fill-color);\n",
              "    height: 32px;\n",
              "    padding: 0;\n",
              "    width: 32px;\n",
              "  }\n",
              "\n",
              "  .colab-df-quickchart:hover {\n",
              "    background-color: var(--hover-bg-color);\n",
              "    box-shadow: 0 1px 2px rgba(60, 64, 67, 0.3), 0 1px 3px 1px rgba(60, 64, 67, 0.15);\n",
              "    fill: var(--button-hover-fill-color);\n",
              "  }\n",
              "\n",
              "  .colab-df-quickchart-complete:disabled,\n",
              "  .colab-df-quickchart-complete:disabled:hover {\n",
              "    background-color: var(--disabled-bg-color);\n",
              "    fill: var(--disabled-fill-color);\n",
              "    box-shadow: none;\n",
              "  }\n",
              "\n",
              "  .colab-df-spinner {\n",
              "    border: 2px solid var(--fill-color);\n",
              "    border-color: transparent;\n",
              "    border-bottom-color: var(--fill-color);\n",
              "    animation:\n",
              "      spin 1s steps(1) infinite;\n",
              "  }\n",
              "\n",
              "  @keyframes spin {\n",
              "    0% {\n",
              "      border-color: transparent;\n",
              "      border-bottom-color: var(--fill-color);\n",
              "      border-left-color: var(--fill-color);\n",
              "    }\n",
              "    20% {\n",
              "      border-color: transparent;\n",
              "      border-left-color: var(--fill-color);\n",
              "      border-top-color: var(--fill-color);\n",
              "    }\n",
              "    30% {\n",
              "      border-color: transparent;\n",
              "      border-left-color: var(--fill-color);\n",
              "      border-top-color: var(--fill-color);\n",
              "      border-right-color: var(--fill-color);\n",
              "    }\n",
              "    40% {\n",
              "      border-color: transparent;\n",
              "      border-right-color: var(--fill-color);\n",
              "      border-top-color: var(--fill-color);\n",
              "    }\n",
              "    60% {\n",
              "      border-color: transparent;\n",
              "      border-right-color: var(--fill-color);\n",
              "    }\n",
              "    80% {\n",
              "      border-color: transparent;\n",
              "      border-right-color: var(--fill-color);\n",
              "      border-bottom-color: var(--fill-color);\n",
              "    }\n",
              "    90% {\n",
              "      border-color: transparent;\n",
              "      border-bottom-color: var(--fill-color);\n",
              "    }\n",
              "  }\n",
              "</style>\n",
              "\n",
              "  <script>\n",
              "    async function quickchart(key) {\n",
              "      const quickchartButtonEl =\n",
              "        document.querySelector('#' + key + ' button');\n",
              "      quickchartButtonEl.disabled = true;  // To prevent multiple clicks.\n",
              "      quickchartButtonEl.classList.add('colab-df-spinner');\n",
              "      try {\n",
              "        const charts = await google.colab.kernel.invokeFunction(\n",
              "            'suggestCharts', [key], {});\n",
              "      } catch (error) {\n",
              "        console.error('Error during call to suggestCharts:', error);\n",
              "      }\n",
              "      quickchartButtonEl.classList.remove('colab-df-spinner');\n",
              "      quickchartButtonEl.classList.add('colab-df-quickchart-complete');\n",
              "    }\n",
              "    (() => {\n",
              "      let quickchartButtonEl =\n",
              "        document.querySelector('#df-229625ef-33df-4ebe-9fca-98ec30d6422a button');\n",
              "      quickchartButtonEl.style.display =\n",
              "        google.colab.kernel.accessAllowed ? 'block' : 'none';\n",
              "    })();\n",
              "  </script>\n",
              "</div>\n",
              "\n",
              "    </div>\n",
              "  </div>\n"
            ],
            "application/vnd.google.colaboratory.intrinsic+json": {
              "type": "dataframe",
              "summary": "{\n  \"name\": \"dfBF\",\n  \"rows\": 8,\n  \"fields\": [\n    {\n      \"column\": \"User_ID\",\n      \"properties\": {\n        \"dtype\": \"number\",\n        \"std\": 367117.89753373514,\n        \"min\": 1727.5915855305516,\n        \"max\": 1006040.0,\n        \"num_unique_values\": 8,\n        \"samples\": [\n          1003028.8424013031,\n          1003077.0,\n          550068.0\n        ],\n        \"semantic_type\": \"\",\n        \"description\": \"\"\n      }\n    },\n    {\n      \"column\": \"Occupation\",\n      \"properties\": {\n        \"dtype\": \"number\",\n        \"std\": 194475.49735336297,\n        \"min\": 0.0,\n        \"max\": 550068.0,\n        \"num_unique_values\": 8,\n        \"samples\": [\n          8.076706879876669,\n          7.0,\n          550068.0\n        ],\n        \"semantic_type\": \"\",\n        \"description\": \"\"\n      }\n    },\n    {\n      \"column\": \"Marital_Status\",\n      \"properties\": {\n        \"dtype\": \"number\",\n        \"std\": 194478.25991330715,\n        \"min\": 0.0,\n        \"max\": 550068.0,\n        \"num_unique_values\": 5,\n        \"samples\": [\n          0.40965298835780306,\n          1.0,\n          0.49177012631733\n        ],\n        \"semantic_type\": \"\",\n        \"description\": \"\"\n      }\n    },\n    {\n      \"column\": \"Product_Category_1\",\n      \"properties\": {\n        \"dtype\": \"number\",\n        \"std\": 194476.16701795228,\n        \"min\": 1.0,\n        \"max\": 550068.0,\n        \"num_unique_values\": 7,\n        \"samples\": [\n          550068.0,\n          5.404270017525106,\n          8.0\n        ],\n        \"semantic_type\": \"\",\n        \"description\": \"\"\n      }\n    },\n    {\n      \"column\": \"Product_Category_2\",\n      \"properties\": {\n        \"dtype\": \"number\",\n        \"std\": 133084.87402923752,\n        \"min\": 2.0,\n        \"max\": 376430.0,\n        \"num_unique_values\": 8,\n        \"samples\": [\n          9.842329251122386,\n          9.0,\n          376430.0\n        ],\n        \"semantic_type\": \"\",\n        \"description\": \"\"\n      }\n    },\n    {\n      \"column\": \"Product_Category_3\",\n      \"properties\": {\n        \"dtype\": \"number\",\n        \"std\": 58976.25175409139,\n        \"min\": 3.0,\n        \"max\": 166821.0,\n        \"num_unique_values\": 8,\n        \"samples\": [\n          12.668243206790512,\n          14.0,\n          166821.0\n        ],\n        \"semantic_type\": \"\",\n        \"description\": \"\"\n      }\n    },\n    {\n      \"column\": \"Purchase\",\n      \"properties\": {\n        \"dtype\": \"number\",\n        \"std\": 191363.80903912007,\n        \"min\": 12.0,\n        \"max\": 550068.0,\n        \"num_unique_values\": 8,\n        \"samples\": [\n          9263.968712959126,\n          8047.0,\n          550068.0\n        ],\n        \"semantic_type\": \"\",\n        \"description\": \"\"\n      }\n    }\n  ]\n}"
            }
          },
          "metadata": {},
          "execution_count": 7
        }
      ]
    },
    {
      "cell_type": "code",
      "source": [
        "dfBF.duplicated().value_counts()"
      ],
      "metadata": {
        "colab": {
          "base_uri": "https://localhost:8080/"
        },
        "id": "u9-noc5mifAm",
        "outputId": "daeb0ee6-6a60-4cd9-9baa-98f9e41efc8b"
      },
      "execution_count": 8,
      "outputs": [
        {
          "output_type": "execute_result",
          "data": {
            "text/plain": [
              "False    550068\n",
              "Name: count, dtype: int64"
            ]
          },
          "metadata": {},
          "execution_count": 8
        }
      ]
    },
    {
      "cell_type": "markdown",
      "metadata": {
        "id": "0MLj10mCTYck"
      },
      "source": [
        "## Build Random Forest Model"
      ]
    },
    {
      "cell_type": "code",
      "execution_count": 9,
      "metadata": {
        "id": "D9bfik4UTYcl"
      },
      "outputs": [],
      "source": [
        "from sklearn.ensemble import RandomForestRegressor\n",
        "\n",
        "# Function for building and scoring Random Forest models\n",
        "def get_random_forest_mae(X_trn, X_tst, y_trn, y_tst):\n",
        "    mdlRfsBF = RandomForestRegressor(random_state=1)\n",
        "    mdlRfsBF.fit(X_trn, y_trn)\n",
        "    y_tst_prd = mdlRfsBF.predict(X_tst)\n",
        "    mae = mean_absolute_error(y_tst, y_tst_prd)\n",
        "    return (mae)"
      ]
    },
    {
      "cell_type": "markdown",
      "metadata": {
        "id": "2L-YTEz7TYcl"
      },
      "source": [
        "Let's try to build a model with all the features..."
      ]
    },
    {
      "cell_type": "code",
      "execution_count": 10,
      "metadata": {
        "colab": {
          "base_uri": "https://localhost:8080/",
          "height": 304
        },
        "id": "lXo4NSEaTYcm",
        "outputId": "69233176-9faa-455e-80ca-b854ede28ec2"
      },
      "outputs": [
        {
          "output_type": "error",
          "ename": "ValueError",
          "evalue": "could not convert string to float: 'P00304042'",
          "traceback": [
            "\u001b[0;31m---------------------------------------------------------------------------\u001b[0m",
            "\u001b[0;31mValueError\u001b[0m                                Traceback (most recent call last)",
            "\u001b[0;32m<ipython-input-10-2e80177dcb5f>\u001b[0m in \u001b[0;36m<cell line: 2>\u001b[0;34m()\u001b[0m\n\u001b[1;32m      1\u001b[0m \u001b[0;31m# Try to build a model using all features\u001b[0m\u001b[0;34m\u001b[0m\u001b[0;34m\u001b[0m\u001b[0m\n\u001b[0;32m----> 2\u001b[0;31m \u001b[0mget_random_forest_mae\u001b[0m\u001b[0;34m(\u001b[0m\u001b[0mX_train\u001b[0m\u001b[0;34m,\u001b[0m \u001b[0mX_test\u001b[0m\u001b[0;34m,\u001b[0m \u001b[0my_train\u001b[0m\u001b[0;34m,\u001b[0m \u001b[0my_test\u001b[0m\u001b[0;34m)\u001b[0m\u001b[0;34m\u001b[0m\u001b[0;34m\u001b[0m\u001b[0m\n\u001b[0m",
            "\u001b[0;32m<ipython-input-9-fcb9f5f9affb>\u001b[0m in \u001b[0;36mget_random_forest_mae\u001b[0;34m(X_trn, X_tst, y_trn, y_tst)\u001b[0m\n\u001b[1;32m      4\u001b[0m \u001b[0;32mdef\u001b[0m \u001b[0mget_random_forest_mae\u001b[0m\u001b[0;34m(\u001b[0m\u001b[0mX_trn\u001b[0m\u001b[0;34m,\u001b[0m \u001b[0mX_tst\u001b[0m\u001b[0;34m,\u001b[0m \u001b[0my_trn\u001b[0m\u001b[0;34m,\u001b[0m \u001b[0my_tst\u001b[0m\u001b[0;34m)\u001b[0m\u001b[0;34m:\u001b[0m\u001b[0;34m\u001b[0m\u001b[0;34m\u001b[0m\u001b[0m\n\u001b[1;32m      5\u001b[0m     \u001b[0mmdlRfsBF\u001b[0m \u001b[0;34m=\u001b[0m \u001b[0mRandomForestRegressor\u001b[0m\u001b[0;34m(\u001b[0m\u001b[0mrandom_state\u001b[0m\u001b[0;34m=\u001b[0m\u001b[0;36m1\u001b[0m\u001b[0;34m)\u001b[0m\u001b[0;34m\u001b[0m\u001b[0;34m\u001b[0m\u001b[0m\n\u001b[0;32m----> 6\u001b[0;31m     \u001b[0mmdlRfsBF\u001b[0m\u001b[0;34m.\u001b[0m\u001b[0mfit\u001b[0m\u001b[0;34m(\u001b[0m\u001b[0mX_trn\u001b[0m\u001b[0;34m,\u001b[0m \u001b[0my_trn\u001b[0m\u001b[0;34m)\u001b[0m\u001b[0;34m\u001b[0m\u001b[0;34m\u001b[0m\u001b[0m\n\u001b[0m\u001b[1;32m      7\u001b[0m     \u001b[0my_tst_prd\u001b[0m \u001b[0;34m=\u001b[0m \u001b[0mmdlRfsBF\u001b[0m\u001b[0;34m.\u001b[0m\u001b[0mpredict\u001b[0m\u001b[0;34m(\u001b[0m\u001b[0mX_tst\u001b[0m\u001b[0;34m)\u001b[0m\u001b[0;34m\u001b[0m\u001b[0;34m\u001b[0m\u001b[0m\n\u001b[1;32m      8\u001b[0m     \u001b[0mmae\u001b[0m \u001b[0;34m=\u001b[0m \u001b[0mmean_absolute_error\u001b[0m\u001b[0;34m(\u001b[0m\u001b[0my_tst\u001b[0m\u001b[0;34m,\u001b[0m \u001b[0my_tst_prd\u001b[0m\u001b[0;34m)\u001b[0m\u001b[0;34m\u001b[0m\u001b[0;34m\u001b[0m\u001b[0m\n",
            "\u001b[0;32m/usr/local/lib/python3.10/dist-packages/sklearn/ensemble/_forest.py\u001b[0m in \u001b[0;36mfit\u001b[0;34m(self, X, y, sample_weight)\u001b[0m\n\u001b[1;32m    343\u001b[0m         \u001b[0;32mif\u001b[0m \u001b[0missparse\u001b[0m\u001b[0;34m(\u001b[0m\u001b[0my\u001b[0m\u001b[0;34m)\u001b[0m\u001b[0;34m:\u001b[0m\u001b[0;34m\u001b[0m\u001b[0;34m\u001b[0m\u001b[0m\n\u001b[1;32m    344\u001b[0m             \u001b[0;32mraise\u001b[0m \u001b[0mValueError\u001b[0m\u001b[0;34m(\u001b[0m\u001b[0;34m\"sparse multilabel-indicator for y is not supported.\"\u001b[0m\u001b[0;34m)\u001b[0m\u001b[0;34m\u001b[0m\u001b[0;34m\u001b[0m\u001b[0m\n\u001b[0;32m--> 345\u001b[0;31m         X, y = self._validate_data(\n\u001b[0m\u001b[1;32m    346\u001b[0m             \u001b[0mX\u001b[0m\u001b[0;34m,\u001b[0m \u001b[0my\u001b[0m\u001b[0;34m,\u001b[0m \u001b[0mmulti_output\u001b[0m\u001b[0;34m=\u001b[0m\u001b[0;32mTrue\u001b[0m\u001b[0;34m,\u001b[0m \u001b[0maccept_sparse\u001b[0m\u001b[0;34m=\u001b[0m\u001b[0;34m\"csc\"\u001b[0m\u001b[0;34m,\u001b[0m \u001b[0mdtype\u001b[0m\u001b[0;34m=\u001b[0m\u001b[0mDTYPE\u001b[0m\u001b[0;34m\u001b[0m\u001b[0;34m\u001b[0m\u001b[0m\n\u001b[1;32m    347\u001b[0m         )\n",
            "\u001b[0;32m/usr/local/lib/python3.10/dist-packages/sklearn/base.py\u001b[0m in \u001b[0;36m_validate_data\u001b[0;34m(self, X, y, reset, validate_separately, **check_params)\u001b[0m\n\u001b[1;32m    582\u001b[0m                 \u001b[0my\u001b[0m \u001b[0;34m=\u001b[0m \u001b[0mcheck_array\u001b[0m\u001b[0;34m(\u001b[0m\u001b[0my\u001b[0m\u001b[0;34m,\u001b[0m \u001b[0minput_name\u001b[0m\u001b[0;34m=\u001b[0m\u001b[0;34m\"y\"\u001b[0m\u001b[0;34m,\u001b[0m \u001b[0;34m**\u001b[0m\u001b[0mcheck_y_params\u001b[0m\u001b[0;34m)\u001b[0m\u001b[0;34m\u001b[0m\u001b[0;34m\u001b[0m\u001b[0m\n\u001b[1;32m    583\u001b[0m             \u001b[0;32melse\u001b[0m\u001b[0;34m:\u001b[0m\u001b[0;34m\u001b[0m\u001b[0;34m\u001b[0m\u001b[0m\n\u001b[0;32m--> 584\u001b[0;31m                 \u001b[0mX\u001b[0m\u001b[0;34m,\u001b[0m \u001b[0my\u001b[0m \u001b[0;34m=\u001b[0m \u001b[0mcheck_X_y\u001b[0m\u001b[0;34m(\u001b[0m\u001b[0mX\u001b[0m\u001b[0;34m,\u001b[0m \u001b[0my\u001b[0m\u001b[0;34m,\u001b[0m \u001b[0;34m**\u001b[0m\u001b[0mcheck_params\u001b[0m\u001b[0;34m)\u001b[0m\u001b[0;34m\u001b[0m\u001b[0;34m\u001b[0m\u001b[0m\n\u001b[0m\u001b[1;32m    585\u001b[0m             \u001b[0mout\u001b[0m \u001b[0;34m=\u001b[0m \u001b[0mX\u001b[0m\u001b[0;34m,\u001b[0m \u001b[0my\u001b[0m\u001b[0;34m\u001b[0m\u001b[0;34m\u001b[0m\u001b[0m\n\u001b[1;32m    586\u001b[0m \u001b[0;34m\u001b[0m\u001b[0m\n",
            "\u001b[0;32m/usr/local/lib/python3.10/dist-packages/sklearn/utils/validation.py\u001b[0m in \u001b[0;36mcheck_X_y\u001b[0;34m(X, y, accept_sparse, accept_large_sparse, dtype, order, copy, force_all_finite, ensure_2d, allow_nd, multi_output, ensure_min_samples, ensure_min_features, y_numeric, estimator)\u001b[0m\n\u001b[1;32m   1104\u001b[0m         )\n\u001b[1;32m   1105\u001b[0m \u001b[0;34m\u001b[0m\u001b[0m\n\u001b[0;32m-> 1106\u001b[0;31m     X = check_array(\n\u001b[0m\u001b[1;32m   1107\u001b[0m         \u001b[0mX\u001b[0m\u001b[0;34m,\u001b[0m\u001b[0;34m\u001b[0m\u001b[0;34m\u001b[0m\u001b[0m\n\u001b[1;32m   1108\u001b[0m         \u001b[0maccept_sparse\u001b[0m\u001b[0;34m=\u001b[0m\u001b[0maccept_sparse\u001b[0m\u001b[0;34m,\u001b[0m\u001b[0;34m\u001b[0m\u001b[0;34m\u001b[0m\u001b[0m\n",
            "\u001b[0;32m/usr/local/lib/python3.10/dist-packages/sklearn/utils/validation.py\u001b[0m in \u001b[0;36mcheck_array\u001b[0;34m(array, accept_sparse, accept_large_sparse, dtype, order, copy, force_all_finite, ensure_2d, allow_nd, ensure_min_samples, ensure_min_features, estimator, input_name)\u001b[0m\n\u001b[1;32m    877\u001b[0m                     \u001b[0marray\u001b[0m \u001b[0;34m=\u001b[0m \u001b[0mxp\u001b[0m\u001b[0;34m.\u001b[0m\u001b[0mastype\u001b[0m\u001b[0;34m(\u001b[0m\u001b[0marray\u001b[0m\u001b[0;34m,\u001b[0m \u001b[0mdtype\u001b[0m\u001b[0;34m,\u001b[0m \u001b[0mcopy\u001b[0m\u001b[0;34m=\u001b[0m\u001b[0;32mFalse\u001b[0m\u001b[0;34m)\u001b[0m\u001b[0;34m\u001b[0m\u001b[0;34m\u001b[0m\u001b[0m\n\u001b[1;32m    878\u001b[0m                 \u001b[0;32melse\u001b[0m\u001b[0;34m:\u001b[0m\u001b[0;34m\u001b[0m\u001b[0;34m\u001b[0m\u001b[0m\n\u001b[0;32m--> 879\u001b[0;31m                     \u001b[0marray\u001b[0m \u001b[0;34m=\u001b[0m \u001b[0m_asarray_with_order\u001b[0m\u001b[0;34m(\u001b[0m\u001b[0marray\u001b[0m\u001b[0;34m,\u001b[0m \u001b[0morder\u001b[0m\u001b[0;34m=\u001b[0m\u001b[0morder\u001b[0m\u001b[0;34m,\u001b[0m \u001b[0mdtype\u001b[0m\u001b[0;34m=\u001b[0m\u001b[0mdtype\u001b[0m\u001b[0;34m,\u001b[0m \u001b[0mxp\u001b[0m\u001b[0;34m=\u001b[0m\u001b[0mxp\u001b[0m\u001b[0;34m)\u001b[0m\u001b[0;34m\u001b[0m\u001b[0;34m\u001b[0m\u001b[0m\n\u001b[0m\u001b[1;32m    880\u001b[0m             \u001b[0;32mexcept\u001b[0m \u001b[0mComplexWarning\u001b[0m \u001b[0;32mas\u001b[0m \u001b[0mcomplex_warning\u001b[0m\u001b[0;34m:\u001b[0m\u001b[0;34m\u001b[0m\u001b[0;34m\u001b[0m\u001b[0m\n\u001b[1;32m    881\u001b[0m                 raise ValueError(\n",
            "\u001b[0;32m/usr/local/lib/python3.10/dist-packages/sklearn/utils/_array_api.py\u001b[0m in \u001b[0;36m_asarray_with_order\u001b[0;34m(array, dtype, order, copy, xp)\u001b[0m\n\u001b[1;32m    183\u001b[0m     \u001b[0;32mif\u001b[0m \u001b[0mxp\u001b[0m\u001b[0;34m.\u001b[0m\u001b[0m__name__\u001b[0m \u001b[0;32min\u001b[0m \u001b[0;34m{\u001b[0m\u001b[0;34m\"numpy\"\u001b[0m\u001b[0;34m,\u001b[0m \u001b[0;34m\"numpy.array_api\"\u001b[0m\u001b[0;34m}\u001b[0m\u001b[0;34m:\u001b[0m\u001b[0;34m\u001b[0m\u001b[0;34m\u001b[0m\u001b[0m\n\u001b[1;32m    184\u001b[0m         \u001b[0;31m# Use NumPy API to support order\u001b[0m\u001b[0;34m\u001b[0m\u001b[0;34m\u001b[0m\u001b[0m\n\u001b[0;32m--> 185\u001b[0;31m         \u001b[0marray\u001b[0m \u001b[0;34m=\u001b[0m \u001b[0mnumpy\u001b[0m\u001b[0;34m.\u001b[0m\u001b[0masarray\u001b[0m\u001b[0;34m(\u001b[0m\u001b[0marray\u001b[0m\u001b[0;34m,\u001b[0m \u001b[0morder\u001b[0m\u001b[0;34m=\u001b[0m\u001b[0morder\u001b[0m\u001b[0;34m,\u001b[0m \u001b[0mdtype\u001b[0m\u001b[0;34m=\u001b[0m\u001b[0mdtype\u001b[0m\u001b[0;34m)\u001b[0m\u001b[0;34m\u001b[0m\u001b[0;34m\u001b[0m\u001b[0m\n\u001b[0m\u001b[1;32m    186\u001b[0m         \u001b[0;32mreturn\u001b[0m \u001b[0mxp\u001b[0m\u001b[0;34m.\u001b[0m\u001b[0masarray\u001b[0m\u001b[0;34m(\u001b[0m\u001b[0marray\u001b[0m\u001b[0;34m,\u001b[0m \u001b[0mcopy\u001b[0m\u001b[0;34m=\u001b[0m\u001b[0mcopy\u001b[0m\u001b[0;34m)\u001b[0m\u001b[0;34m\u001b[0m\u001b[0;34m\u001b[0m\u001b[0m\n\u001b[1;32m    187\u001b[0m     \u001b[0;32melse\u001b[0m\u001b[0;34m:\u001b[0m\u001b[0;34m\u001b[0m\u001b[0;34m\u001b[0m\u001b[0m\n",
            "\u001b[0;32m/usr/local/lib/python3.10/dist-packages/pandas/core/generic.py\u001b[0m in \u001b[0;36m__array__\u001b[0;34m(self, dtype)\u001b[0m\n\u001b[1;32m   1996\u001b[0m     \u001b[0;32mdef\u001b[0m \u001b[0m__array__\u001b[0m\u001b[0;34m(\u001b[0m\u001b[0mself\u001b[0m\u001b[0;34m,\u001b[0m \u001b[0mdtype\u001b[0m\u001b[0;34m:\u001b[0m \u001b[0mnpt\u001b[0m\u001b[0;34m.\u001b[0m\u001b[0mDTypeLike\u001b[0m \u001b[0;34m|\u001b[0m \u001b[0;32mNone\u001b[0m \u001b[0;34m=\u001b[0m \u001b[0;32mNone\u001b[0m\u001b[0;34m)\u001b[0m \u001b[0;34m->\u001b[0m \u001b[0mnp\u001b[0m\u001b[0;34m.\u001b[0m\u001b[0mndarray\u001b[0m\u001b[0;34m:\u001b[0m\u001b[0;34m\u001b[0m\u001b[0;34m\u001b[0m\u001b[0m\n\u001b[1;32m   1997\u001b[0m         \u001b[0mvalues\u001b[0m \u001b[0;34m=\u001b[0m \u001b[0mself\u001b[0m\u001b[0;34m.\u001b[0m\u001b[0m_values\u001b[0m\u001b[0;34m\u001b[0m\u001b[0;34m\u001b[0m\u001b[0m\n\u001b[0;32m-> 1998\u001b[0;31m         \u001b[0marr\u001b[0m \u001b[0;34m=\u001b[0m \u001b[0mnp\u001b[0m\u001b[0;34m.\u001b[0m\u001b[0masarray\u001b[0m\u001b[0;34m(\u001b[0m\u001b[0mvalues\u001b[0m\u001b[0;34m,\u001b[0m \u001b[0mdtype\u001b[0m\u001b[0;34m=\u001b[0m\u001b[0mdtype\u001b[0m\u001b[0;34m)\u001b[0m\u001b[0;34m\u001b[0m\u001b[0;34m\u001b[0m\u001b[0m\n\u001b[0m\u001b[1;32m   1999\u001b[0m         if (\n\u001b[1;32m   2000\u001b[0m             \u001b[0mastype_is_view\u001b[0m\u001b[0;34m(\u001b[0m\u001b[0mvalues\u001b[0m\u001b[0;34m.\u001b[0m\u001b[0mdtype\u001b[0m\u001b[0;34m,\u001b[0m \u001b[0marr\u001b[0m\u001b[0;34m.\u001b[0m\u001b[0mdtype\u001b[0m\u001b[0;34m)\u001b[0m\u001b[0;34m\u001b[0m\u001b[0;34m\u001b[0m\u001b[0m\n",
            "\u001b[0;31mValueError\u001b[0m: could not convert string to float: 'P00304042'"
          ]
        }
      ],
      "source": [
        "# Try to build a model using all features\n",
        "get_random_forest_mae(X_train, X_test, y_train, y_test)"
      ]
    },
    {
      "cell_type": "markdown",
      "metadata": {
        "id": "kYZc9VaFTYcm"
      },
      "source": [
        "Seems like some of the columns are non-numeric.  So, we have to use different methods to deal with them."
      ]
    },
    {
      "cell_type": "markdown",
      "metadata": {
        "id": "yK0say9MTYcn"
      },
      "source": [
        "![bt_1.PNG](data:image/png;base64,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)"
      ]
    },
    {
      "cell_type": "markdown",
      "metadata": {
        "id": "daVHYC0nTYco"
      },
      "source": [
        "## Numerical Features\n",
        "Columns with quantitative data - either Discrete or Continuous are called Numerical Features."
      ]
    },
    {
      "cell_type": "code",
      "execution_count": 11,
      "metadata": {
        "id": "gvWGLyT6TYco"
      },
      "outputs": [],
      "source": [
        "# Select numeric features\n",
        "cols_num = [col for col in X.columns if X[col].dtype in ['int64', 'float64']]\n",
        "Xnum = X[cols_num]\n",
        "\n",
        "# Split numeric features into training and test sets\n",
        "Xnum_train, Xnum_test, y_train, y_test = train_test_split(Xnum,y,train_size=0.8, test_size=0.2,random_state=1)"
      ]
    },
    {
      "cell_type": "code",
      "execution_count": 12,
      "metadata": {
        "colab": {
          "base_uri": "https://localhost:8080/",
          "height": 373
        },
        "id": "CvdCX_i9TYco",
        "outputId": "0edd76b5-2ce0-416e-f4e1-878b53a22e4d"
      },
      "outputs": [
        {
          "output_type": "error",
          "ename": "ValueError",
          "evalue": "Input X contains NaN.\nRandomForestRegressor does not accept missing values encoded as NaN natively. For supervised learning, you might want to consider sklearn.ensemble.HistGradientBoostingClassifier and Regressor which accept missing values encoded as NaNs natively. Alternatively, it is possible to preprocess the data, for instance by using an imputer transformer in a pipeline or drop samples with missing values. See https://scikit-learn.org/stable/modules/impute.html You can find a list of all estimators that handle NaN values at the following page: https://scikit-learn.org/stable/modules/impute.html#estimators-that-handle-nan-values",
          "traceback": [
            "\u001b[0;31m---------------------------------------------------------------------------\u001b[0m",
            "\u001b[0;31mValueError\u001b[0m                                Traceback (most recent call last)",
            "\u001b[0;32m<ipython-input-12-79496593634f>\u001b[0m in \u001b[0;36m<cell line: 2>\u001b[0;34m()\u001b[0m\n\u001b[1;32m      1\u001b[0m \u001b[0;31m# Try to build a model using all numeric features\u001b[0m\u001b[0;34m\u001b[0m\u001b[0;34m\u001b[0m\u001b[0m\n\u001b[0;32m----> 2\u001b[0;31m \u001b[0mget_random_forest_mae\u001b[0m\u001b[0;34m(\u001b[0m\u001b[0mXnum_train\u001b[0m\u001b[0;34m,\u001b[0m \u001b[0mXnum_test\u001b[0m\u001b[0;34m,\u001b[0m \u001b[0my_train\u001b[0m\u001b[0;34m,\u001b[0m \u001b[0my_test\u001b[0m\u001b[0;34m)\u001b[0m\u001b[0;34m\u001b[0m\u001b[0;34m\u001b[0m\u001b[0m\n\u001b[0m",
            "\u001b[0;32m<ipython-input-9-fcb9f5f9affb>\u001b[0m in \u001b[0;36mget_random_forest_mae\u001b[0;34m(X_trn, X_tst, y_trn, y_tst)\u001b[0m\n\u001b[1;32m      4\u001b[0m \u001b[0;32mdef\u001b[0m \u001b[0mget_random_forest_mae\u001b[0m\u001b[0;34m(\u001b[0m\u001b[0mX_trn\u001b[0m\u001b[0;34m,\u001b[0m \u001b[0mX_tst\u001b[0m\u001b[0;34m,\u001b[0m \u001b[0my_trn\u001b[0m\u001b[0;34m,\u001b[0m \u001b[0my_tst\u001b[0m\u001b[0;34m)\u001b[0m\u001b[0;34m:\u001b[0m\u001b[0;34m\u001b[0m\u001b[0;34m\u001b[0m\u001b[0m\n\u001b[1;32m      5\u001b[0m     \u001b[0mmdlRfsBF\u001b[0m \u001b[0;34m=\u001b[0m \u001b[0mRandomForestRegressor\u001b[0m\u001b[0;34m(\u001b[0m\u001b[0mrandom_state\u001b[0m\u001b[0;34m=\u001b[0m\u001b[0;36m1\u001b[0m\u001b[0;34m)\u001b[0m\u001b[0;34m\u001b[0m\u001b[0;34m\u001b[0m\u001b[0m\n\u001b[0;32m----> 6\u001b[0;31m     \u001b[0mmdlRfsBF\u001b[0m\u001b[0;34m.\u001b[0m\u001b[0mfit\u001b[0m\u001b[0;34m(\u001b[0m\u001b[0mX_trn\u001b[0m\u001b[0;34m,\u001b[0m \u001b[0my_trn\u001b[0m\u001b[0;34m)\u001b[0m\u001b[0;34m\u001b[0m\u001b[0;34m\u001b[0m\u001b[0m\n\u001b[0m\u001b[1;32m      7\u001b[0m     \u001b[0my_tst_prd\u001b[0m \u001b[0;34m=\u001b[0m \u001b[0mmdlRfsBF\u001b[0m\u001b[0;34m.\u001b[0m\u001b[0mpredict\u001b[0m\u001b[0;34m(\u001b[0m\u001b[0mX_tst\u001b[0m\u001b[0;34m)\u001b[0m\u001b[0;34m\u001b[0m\u001b[0;34m\u001b[0m\u001b[0m\n\u001b[1;32m      8\u001b[0m     \u001b[0mmae\u001b[0m \u001b[0;34m=\u001b[0m \u001b[0mmean_absolute_error\u001b[0m\u001b[0;34m(\u001b[0m\u001b[0my_tst\u001b[0m\u001b[0;34m,\u001b[0m \u001b[0my_tst_prd\u001b[0m\u001b[0;34m)\u001b[0m\u001b[0;34m\u001b[0m\u001b[0;34m\u001b[0m\u001b[0m\n",
            "\u001b[0;32m/usr/local/lib/python3.10/dist-packages/sklearn/ensemble/_forest.py\u001b[0m in \u001b[0;36mfit\u001b[0;34m(self, X, y, sample_weight)\u001b[0m\n\u001b[1;32m    343\u001b[0m         \u001b[0;32mif\u001b[0m \u001b[0missparse\u001b[0m\u001b[0;34m(\u001b[0m\u001b[0my\u001b[0m\u001b[0;34m)\u001b[0m\u001b[0;34m:\u001b[0m\u001b[0;34m\u001b[0m\u001b[0;34m\u001b[0m\u001b[0m\n\u001b[1;32m    344\u001b[0m             \u001b[0;32mraise\u001b[0m \u001b[0mValueError\u001b[0m\u001b[0;34m(\u001b[0m\u001b[0;34m\"sparse multilabel-indicator for y is not supported.\"\u001b[0m\u001b[0;34m)\u001b[0m\u001b[0;34m\u001b[0m\u001b[0;34m\u001b[0m\u001b[0m\n\u001b[0;32m--> 345\u001b[0;31m         X, y = self._validate_data(\n\u001b[0m\u001b[1;32m    346\u001b[0m             \u001b[0mX\u001b[0m\u001b[0;34m,\u001b[0m \u001b[0my\u001b[0m\u001b[0;34m,\u001b[0m \u001b[0mmulti_output\u001b[0m\u001b[0;34m=\u001b[0m\u001b[0;32mTrue\u001b[0m\u001b[0;34m,\u001b[0m \u001b[0maccept_sparse\u001b[0m\u001b[0;34m=\u001b[0m\u001b[0;34m\"csc\"\u001b[0m\u001b[0;34m,\u001b[0m \u001b[0mdtype\u001b[0m\u001b[0;34m=\u001b[0m\u001b[0mDTYPE\u001b[0m\u001b[0;34m\u001b[0m\u001b[0;34m\u001b[0m\u001b[0m\n\u001b[1;32m    347\u001b[0m         )\n",
            "\u001b[0;32m/usr/local/lib/python3.10/dist-packages/sklearn/base.py\u001b[0m in \u001b[0;36m_validate_data\u001b[0;34m(self, X, y, reset, validate_separately, **check_params)\u001b[0m\n\u001b[1;32m    582\u001b[0m                 \u001b[0my\u001b[0m \u001b[0;34m=\u001b[0m \u001b[0mcheck_array\u001b[0m\u001b[0;34m(\u001b[0m\u001b[0my\u001b[0m\u001b[0;34m,\u001b[0m \u001b[0minput_name\u001b[0m\u001b[0;34m=\u001b[0m\u001b[0;34m\"y\"\u001b[0m\u001b[0;34m,\u001b[0m \u001b[0;34m**\u001b[0m\u001b[0mcheck_y_params\u001b[0m\u001b[0;34m)\u001b[0m\u001b[0;34m\u001b[0m\u001b[0;34m\u001b[0m\u001b[0m\n\u001b[1;32m    583\u001b[0m             \u001b[0;32melse\u001b[0m\u001b[0;34m:\u001b[0m\u001b[0;34m\u001b[0m\u001b[0;34m\u001b[0m\u001b[0m\n\u001b[0;32m--> 584\u001b[0;31m                 \u001b[0mX\u001b[0m\u001b[0;34m,\u001b[0m \u001b[0my\u001b[0m \u001b[0;34m=\u001b[0m \u001b[0mcheck_X_y\u001b[0m\u001b[0;34m(\u001b[0m\u001b[0mX\u001b[0m\u001b[0;34m,\u001b[0m \u001b[0my\u001b[0m\u001b[0;34m,\u001b[0m \u001b[0;34m**\u001b[0m\u001b[0mcheck_params\u001b[0m\u001b[0;34m)\u001b[0m\u001b[0;34m\u001b[0m\u001b[0;34m\u001b[0m\u001b[0m\n\u001b[0m\u001b[1;32m    585\u001b[0m             \u001b[0mout\u001b[0m \u001b[0;34m=\u001b[0m \u001b[0mX\u001b[0m\u001b[0;34m,\u001b[0m \u001b[0my\u001b[0m\u001b[0;34m\u001b[0m\u001b[0;34m\u001b[0m\u001b[0m\n\u001b[1;32m    586\u001b[0m \u001b[0;34m\u001b[0m\u001b[0m\n",
            "\u001b[0;32m/usr/local/lib/python3.10/dist-packages/sklearn/utils/validation.py\u001b[0m in \u001b[0;36mcheck_X_y\u001b[0;34m(X, y, accept_sparse, accept_large_sparse, dtype, order, copy, force_all_finite, ensure_2d, allow_nd, multi_output, ensure_min_samples, ensure_min_features, y_numeric, estimator)\u001b[0m\n\u001b[1;32m   1104\u001b[0m         )\n\u001b[1;32m   1105\u001b[0m \u001b[0;34m\u001b[0m\u001b[0m\n\u001b[0;32m-> 1106\u001b[0;31m     X = check_array(\n\u001b[0m\u001b[1;32m   1107\u001b[0m         \u001b[0mX\u001b[0m\u001b[0;34m,\u001b[0m\u001b[0;34m\u001b[0m\u001b[0;34m\u001b[0m\u001b[0m\n\u001b[1;32m   1108\u001b[0m         \u001b[0maccept_sparse\u001b[0m\u001b[0;34m=\u001b[0m\u001b[0maccept_sparse\u001b[0m\u001b[0;34m,\u001b[0m\u001b[0;34m\u001b[0m\u001b[0;34m\u001b[0m\u001b[0m\n",
            "\u001b[0;32m/usr/local/lib/python3.10/dist-packages/sklearn/utils/validation.py\u001b[0m in \u001b[0;36mcheck_array\u001b[0;34m(array, accept_sparse, accept_large_sparse, dtype, order, copy, force_all_finite, ensure_2d, allow_nd, ensure_min_samples, ensure_min_features, estimator, input_name)\u001b[0m\n\u001b[1;32m    919\u001b[0m \u001b[0;34m\u001b[0m\u001b[0m\n\u001b[1;32m    920\u001b[0m         \u001b[0;32mif\u001b[0m \u001b[0mforce_all_finite\u001b[0m\u001b[0;34m:\u001b[0m\u001b[0;34m\u001b[0m\u001b[0;34m\u001b[0m\u001b[0m\n\u001b[0;32m--> 921\u001b[0;31m             _assert_all_finite(\n\u001b[0m\u001b[1;32m    922\u001b[0m                 \u001b[0marray\u001b[0m\u001b[0;34m,\u001b[0m\u001b[0;34m\u001b[0m\u001b[0;34m\u001b[0m\u001b[0m\n\u001b[1;32m    923\u001b[0m                 \u001b[0minput_name\u001b[0m\u001b[0;34m=\u001b[0m\u001b[0minput_name\u001b[0m\u001b[0;34m,\u001b[0m\u001b[0;34m\u001b[0m\u001b[0;34m\u001b[0m\u001b[0m\n",
            "\u001b[0;32m/usr/local/lib/python3.10/dist-packages/sklearn/utils/validation.py\u001b[0m in \u001b[0;36m_assert_all_finite\u001b[0;34m(X, allow_nan, msg_dtype, estimator_name, input_name)\u001b[0m\n\u001b[1;32m    159\u001b[0m                 \u001b[0;34m\"#estimators-that-handle-nan-values\"\u001b[0m\u001b[0;34m\u001b[0m\u001b[0;34m\u001b[0m\u001b[0m\n\u001b[1;32m    160\u001b[0m             )\n\u001b[0;32m--> 161\u001b[0;31m         \u001b[0;32mraise\u001b[0m \u001b[0mValueError\u001b[0m\u001b[0;34m(\u001b[0m\u001b[0mmsg_err\u001b[0m\u001b[0;34m)\u001b[0m\u001b[0;34m\u001b[0m\u001b[0;34m\u001b[0m\u001b[0m\n\u001b[0m\u001b[1;32m    162\u001b[0m \u001b[0;34m\u001b[0m\u001b[0m\n\u001b[1;32m    163\u001b[0m \u001b[0;34m\u001b[0m\u001b[0m\n",
            "\u001b[0;31mValueError\u001b[0m: Input X contains NaN.\nRandomForestRegressor does not accept missing values encoded as NaN natively. For supervised learning, you might want to consider sklearn.ensemble.HistGradientBoostingClassifier and Regressor which accept missing values encoded as NaNs natively. Alternatively, it is possible to preprocess the data, for instance by using an imputer transformer in a pipeline or drop samples with missing values. See https://scikit-learn.org/stable/modules/impute.html You can find a list of all estimators that handle NaN values at the following page: https://scikit-learn.org/stable/modules/impute.html#estimators-that-handle-nan-values"
          ]
        }
      ],
      "source": [
        "# Try to build a model using all numeric features\n",
        "get_random_forest_mae(Xnum_train, Xnum_test, y_train, y_test)"
      ]
    },
    {
      "cell_type": "markdown",
      "metadata": {
        "id": "tNv07CatTYco"
      },
      "source": [
        "Seems like some of the numeric columns have **Missing Values**."
      ]
    },
    {
      "cell_type": "code",
      "execution_count": 13,
      "metadata": {
        "colab": {
          "base_uri": "https://localhost:8080/"
        },
        "id": "n_nfNKM5TYcp",
        "outputId": "94027ded-2cb1-4ea3-d487-45c9f909b90b"
      },
      "outputs": [
        {
          "output_type": "execute_result",
          "data": {
            "text/plain": [
              "User_ID                    0\n",
              "Occupation                 0\n",
              "Marital_Status             0\n",
              "Product_Category_1         0\n",
              "Product_Category_2    138892\n",
              "Product_Category_3    306504\n",
              "dtype: int64"
            ]
          },
          "metadata": {},
          "execution_count": 13
        }
      ],
      "source": [
        "# Count number of missing values in each column of the training data\n",
        "Xnum_train.isna().sum()"
      ]
    },
    {
      "cell_type": "markdown",
      "metadata": {
        "id": "Ma8tXKO-TYcp"
      },
      "source": [
        "As expected, there are some missing values in Product_Category_2 and Product_Category_3.\n",
        "\n"
      ]
    },
    {
      "cell_type": "markdown",
      "metadata": {
        "id": "enYVsDRATYcq"
      },
      "source": [
        "#### Approach 1. Drop columns with missing values\n",
        "The simplest option is to **drop columns** with missing values."
      ]
    },
    {
      "cell_type": "code",
      "execution_count": 14,
      "metadata": {
        "id": "7O4Y7-RRTYcq"
      },
      "outputs": [],
      "source": [
        "# Identify columns with missing values and then drop such columns\n",
        "cols_num_null = [col for col in Xnum_train.columns\n",
        "    if Xnum_train[col].isnull().any()]\n",
        "Xnum_train_drpnull = Xnum_train.drop(cols_num_null, axis=1)\n",
        "Xnum_test_drpnull = Xnum_test.drop(cols_num_null, axis=1)"
      ]
    },
    {
      "cell_type": "code",
      "execution_count": 15,
      "metadata": {
        "colab": {
          "base_uri": "https://localhost:8080/"
        },
        "id": "SwYsEf2uTYcq",
        "outputId": "8853681e-340c-443b-b311-55a1c7c0756d"
      },
      "outputs": [
        {
          "output_type": "stream",
          "name": "stdout",
          "text": [
            "MAE from Approach 1 (Drop features with missing values):\n",
            "2091.2402741391948\n"
          ]
        }
      ],
      "source": [
        "print('MAE from Approach 1 (Drop features with missing values):')\n",
        "print(get_random_forest_mae(Xnum_train_drpnull, Xnum_test_drpnull, y_train, y_test))"
      ]
    },
    {
      "cell_type": "markdown",
      "metadata": {
        "id": "Na8zE-e1TYcr"
      },
      "source": [
        "#### Approach 2. Fill missing values by Imputation\n",
        "**Imputation** fills in the missing values with some number. For instance, we can fill in the mean value along each column."
      ]
    },
    {
      "cell_type": "code",
      "execution_count": 16,
      "metadata": {
        "colab": {
          "base_uri": "https://localhost:8080/",
          "height": 408
        },
        "id": "LGf18QtnTYcr",
        "outputId": "cb20d0d5-f844-4846-911c-84462c3c29e5"
      },
      "outputs": [
        {
          "output_type": "stream",
          "name": "stdout",
          "text": [
            "MAE from Approach 2 (Replace missing values with forward fill):\n"
          ]
        },
        {
          "output_type": "error",
          "ename": "ValueError",
          "evalue": "Input X contains NaN.\nRandomForestRegressor does not accept missing values encoded as NaN natively. For supervised learning, you might want to consider sklearn.ensemble.HistGradientBoostingClassifier and Regressor which accept missing values encoded as NaNs natively. Alternatively, it is possible to preprocess the data, for instance by using an imputer transformer in a pipeline or drop samples with missing values. See https://scikit-learn.org/stable/modules/impute.html You can find a list of all estimators that handle NaN values at the following page: https://scikit-learn.org/stable/modules/impute.html#estimators-that-handle-nan-values",
          "traceback": [
            "\u001b[0;31m---------------------------------------------------------------------------\u001b[0m",
            "\u001b[0;31mValueError\u001b[0m                                Traceback (most recent call last)",
            "\u001b[0;32m<ipython-input-16-675685a33c86>\u001b[0m in \u001b[0;36m<cell line: 6>\u001b[0;34m()\u001b[0m\n\u001b[1;32m      4\u001b[0m \u001b[0;34m\u001b[0m\u001b[0m\n\u001b[1;32m      5\u001b[0m \u001b[0mprint\u001b[0m\u001b[0;34m(\u001b[0m\u001b[0;34m'MAE from Approach 2 (Replace missing values with forward fill):'\u001b[0m\u001b[0;34m)\u001b[0m\u001b[0;34m\u001b[0m\u001b[0;34m\u001b[0m\u001b[0m\n\u001b[0;32m----> 6\u001b[0;31m \u001b[0mprint\u001b[0m\u001b[0;34m(\u001b[0m\u001b[0mget_random_forest_mae\u001b[0m\u001b[0;34m(\u001b[0m\u001b[0mXnum_train_repnull\u001b[0m\u001b[0;34m,\u001b[0m \u001b[0mXnum_test_repnull\u001b[0m\u001b[0;34m,\u001b[0m \u001b[0my_train\u001b[0m\u001b[0;34m,\u001b[0m \u001b[0my_test\u001b[0m\u001b[0;34m)\u001b[0m\u001b[0;34m)\u001b[0m\u001b[0;34m\u001b[0m\u001b[0;34m\u001b[0m\u001b[0m\n\u001b[0m",
            "\u001b[0;32m<ipython-input-9-fcb9f5f9affb>\u001b[0m in \u001b[0;36mget_random_forest_mae\u001b[0;34m(X_trn, X_tst, y_trn, y_tst)\u001b[0m\n\u001b[1;32m      4\u001b[0m \u001b[0;32mdef\u001b[0m \u001b[0mget_random_forest_mae\u001b[0m\u001b[0;34m(\u001b[0m\u001b[0mX_trn\u001b[0m\u001b[0;34m,\u001b[0m \u001b[0mX_tst\u001b[0m\u001b[0;34m,\u001b[0m \u001b[0my_trn\u001b[0m\u001b[0;34m,\u001b[0m \u001b[0my_tst\u001b[0m\u001b[0;34m)\u001b[0m\u001b[0;34m:\u001b[0m\u001b[0;34m\u001b[0m\u001b[0;34m\u001b[0m\u001b[0m\n\u001b[1;32m      5\u001b[0m     \u001b[0mmdlRfsBF\u001b[0m \u001b[0;34m=\u001b[0m \u001b[0mRandomForestRegressor\u001b[0m\u001b[0;34m(\u001b[0m\u001b[0mrandom_state\u001b[0m\u001b[0;34m=\u001b[0m\u001b[0;36m1\u001b[0m\u001b[0;34m)\u001b[0m\u001b[0;34m\u001b[0m\u001b[0;34m\u001b[0m\u001b[0m\n\u001b[0;32m----> 6\u001b[0;31m     \u001b[0mmdlRfsBF\u001b[0m\u001b[0;34m.\u001b[0m\u001b[0mfit\u001b[0m\u001b[0;34m(\u001b[0m\u001b[0mX_trn\u001b[0m\u001b[0;34m,\u001b[0m \u001b[0my_trn\u001b[0m\u001b[0;34m)\u001b[0m\u001b[0;34m\u001b[0m\u001b[0;34m\u001b[0m\u001b[0m\n\u001b[0m\u001b[1;32m      7\u001b[0m     \u001b[0my_tst_prd\u001b[0m \u001b[0;34m=\u001b[0m \u001b[0mmdlRfsBF\u001b[0m\u001b[0;34m.\u001b[0m\u001b[0mpredict\u001b[0m\u001b[0;34m(\u001b[0m\u001b[0mX_tst\u001b[0m\u001b[0;34m)\u001b[0m\u001b[0;34m\u001b[0m\u001b[0;34m\u001b[0m\u001b[0m\n\u001b[1;32m      8\u001b[0m     \u001b[0mmae\u001b[0m \u001b[0;34m=\u001b[0m \u001b[0mmean_absolute_error\u001b[0m\u001b[0;34m(\u001b[0m\u001b[0my_tst\u001b[0m\u001b[0;34m,\u001b[0m \u001b[0my_tst_prd\u001b[0m\u001b[0;34m)\u001b[0m\u001b[0;34m\u001b[0m\u001b[0;34m\u001b[0m\u001b[0m\n",
            "\u001b[0;32m/usr/local/lib/python3.10/dist-packages/sklearn/ensemble/_forest.py\u001b[0m in \u001b[0;36mfit\u001b[0;34m(self, X, y, sample_weight)\u001b[0m\n\u001b[1;32m    343\u001b[0m         \u001b[0;32mif\u001b[0m \u001b[0missparse\u001b[0m\u001b[0;34m(\u001b[0m\u001b[0my\u001b[0m\u001b[0;34m)\u001b[0m\u001b[0;34m:\u001b[0m\u001b[0;34m\u001b[0m\u001b[0;34m\u001b[0m\u001b[0m\n\u001b[1;32m    344\u001b[0m             \u001b[0;32mraise\u001b[0m \u001b[0mValueError\u001b[0m\u001b[0;34m(\u001b[0m\u001b[0;34m\"sparse multilabel-indicator for y is not supported.\"\u001b[0m\u001b[0;34m)\u001b[0m\u001b[0;34m\u001b[0m\u001b[0;34m\u001b[0m\u001b[0m\n\u001b[0;32m--> 345\u001b[0;31m         X, y = self._validate_data(\n\u001b[0m\u001b[1;32m    346\u001b[0m             \u001b[0mX\u001b[0m\u001b[0;34m,\u001b[0m \u001b[0my\u001b[0m\u001b[0;34m,\u001b[0m \u001b[0mmulti_output\u001b[0m\u001b[0;34m=\u001b[0m\u001b[0;32mTrue\u001b[0m\u001b[0;34m,\u001b[0m \u001b[0maccept_sparse\u001b[0m\u001b[0;34m=\u001b[0m\u001b[0;34m\"csc\"\u001b[0m\u001b[0;34m,\u001b[0m \u001b[0mdtype\u001b[0m\u001b[0;34m=\u001b[0m\u001b[0mDTYPE\u001b[0m\u001b[0;34m\u001b[0m\u001b[0;34m\u001b[0m\u001b[0m\n\u001b[1;32m    347\u001b[0m         )\n",
            "\u001b[0;32m/usr/local/lib/python3.10/dist-packages/sklearn/base.py\u001b[0m in \u001b[0;36m_validate_data\u001b[0;34m(self, X, y, reset, validate_separately, **check_params)\u001b[0m\n\u001b[1;32m    582\u001b[0m                 \u001b[0my\u001b[0m \u001b[0;34m=\u001b[0m \u001b[0mcheck_array\u001b[0m\u001b[0;34m(\u001b[0m\u001b[0my\u001b[0m\u001b[0;34m,\u001b[0m \u001b[0minput_name\u001b[0m\u001b[0;34m=\u001b[0m\u001b[0;34m\"y\"\u001b[0m\u001b[0;34m,\u001b[0m \u001b[0;34m**\u001b[0m\u001b[0mcheck_y_params\u001b[0m\u001b[0;34m)\u001b[0m\u001b[0;34m\u001b[0m\u001b[0;34m\u001b[0m\u001b[0m\n\u001b[1;32m    583\u001b[0m             \u001b[0;32melse\u001b[0m\u001b[0;34m:\u001b[0m\u001b[0;34m\u001b[0m\u001b[0;34m\u001b[0m\u001b[0m\n\u001b[0;32m--> 584\u001b[0;31m                 \u001b[0mX\u001b[0m\u001b[0;34m,\u001b[0m \u001b[0my\u001b[0m \u001b[0;34m=\u001b[0m \u001b[0mcheck_X_y\u001b[0m\u001b[0;34m(\u001b[0m\u001b[0mX\u001b[0m\u001b[0;34m,\u001b[0m \u001b[0my\u001b[0m\u001b[0;34m,\u001b[0m \u001b[0;34m**\u001b[0m\u001b[0mcheck_params\u001b[0m\u001b[0;34m)\u001b[0m\u001b[0;34m\u001b[0m\u001b[0;34m\u001b[0m\u001b[0m\n\u001b[0m\u001b[1;32m    585\u001b[0m             \u001b[0mout\u001b[0m \u001b[0;34m=\u001b[0m \u001b[0mX\u001b[0m\u001b[0;34m,\u001b[0m \u001b[0my\u001b[0m\u001b[0;34m\u001b[0m\u001b[0;34m\u001b[0m\u001b[0m\n\u001b[1;32m    586\u001b[0m \u001b[0;34m\u001b[0m\u001b[0m\n",
            "\u001b[0;32m/usr/local/lib/python3.10/dist-packages/sklearn/utils/validation.py\u001b[0m in \u001b[0;36mcheck_X_y\u001b[0;34m(X, y, accept_sparse, accept_large_sparse, dtype, order, copy, force_all_finite, ensure_2d, allow_nd, multi_output, ensure_min_samples, ensure_min_features, y_numeric, estimator)\u001b[0m\n\u001b[1;32m   1104\u001b[0m         )\n\u001b[1;32m   1105\u001b[0m \u001b[0;34m\u001b[0m\u001b[0m\n\u001b[0;32m-> 1106\u001b[0;31m     X = check_array(\n\u001b[0m\u001b[1;32m   1107\u001b[0m         \u001b[0mX\u001b[0m\u001b[0;34m,\u001b[0m\u001b[0;34m\u001b[0m\u001b[0;34m\u001b[0m\u001b[0m\n\u001b[1;32m   1108\u001b[0m         \u001b[0maccept_sparse\u001b[0m\u001b[0;34m=\u001b[0m\u001b[0maccept_sparse\u001b[0m\u001b[0;34m,\u001b[0m\u001b[0;34m\u001b[0m\u001b[0;34m\u001b[0m\u001b[0m\n",
            "\u001b[0;32m/usr/local/lib/python3.10/dist-packages/sklearn/utils/validation.py\u001b[0m in \u001b[0;36mcheck_array\u001b[0;34m(array, accept_sparse, accept_large_sparse, dtype, order, copy, force_all_finite, ensure_2d, allow_nd, ensure_min_samples, ensure_min_features, estimator, input_name)\u001b[0m\n\u001b[1;32m    919\u001b[0m \u001b[0;34m\u001b[0m\u001b[0m\n\u001b[1;32m    920\u001b[0m         \u001b[0;32mif\u001b[0m \u001b[0mforce_all_finite\u001b[0m\u001b[0;34m:\u001b[0m\u001b[0;34m\u001b[0m\u001b[0;34m\u001b[0m\u001b[0m\n\u001b[0;32m--> 921\u001b[0;31m             _assert_all_finite(\n\u001b[0m\u001b[1;32m    922\u001b[0m                 \u001b[0marray\u001b[0m\u001b[0;34m,\u001b[0m\u001b[0;34m\u001b[0m\u001b[0;34m\u001b[0m\u001b[0m\n\u001b[1;32m    923\u001b[0m                 \u001b[0minput_name\u001b[0m\u001b[0;34m=\u001b[0m\u001b[0minput_name\u001b[0m\u001b[0;34m,\u001b[0m\u001b[0;34m\u001b[0m\u001b[0;34m\u001b[0m\u001b[0m\n",
            "\u001b[0;32m/usr/local/lib/python3.10/dist-packages/sklearn/utils/validation.py\u001b[0m in \u001b[0;36m_assert_all_finite\u001b[0;34m(X, allow_nan, msg_dtype, estimator_name, input_name)\u001b[0m\n\u001b[1;32m    159\u001b[0m                 \u001b[0;34m\"#estimators-that-handle-nan-values\"\u001b[0m\u001b[0;34m\u001b[0m\u001b[0;34m\u001b[0m\u001b[0m\n\u001b[1;32m    160\u001b[0m             )\n\u001b[0;32m--> 161\u001b[0;31m         \u001b[0;32mraise\u001b[0m \u001b[0mValueError\u001b[0m\u001b[0;34m(\u001b[0m\u001b[0mmsg_err\u001b[0m\u001b[0;34m)\u001b[0m\u001b[0;34m\u001b[0m\u001b[0;34m\u001b[0m\u001b[0m\n\u001b[0m\u001b[1;32m    162\u001b[0m \u001b[0;34m\u001b[0m\u001b[0m\n\u001b[1;32m    163\u001b[0m \u001b[0;34m\u001b[0m\u001b[0m\n",
            "\u001b[0;31mValueError\u001b[0m: Input X contains NaN.\nRandomForestRegressor does not accept missing values encoded as NaN natively. For supervised learning, you might want to consider sklearn.ensemble.HistGradientBoostingClassifier and Regressor which accept missing values encoded as NaNs natively. Alternatively, it is possible to preprocess the data, for instance by using an imputer transformer in a pipeline or drop samples with missing values. See https://scikit-learn.org/stable/modules/impute.html You can find a list of all estimators that handle NaN values at the following page: https://scikit-learn.org/stable/modules/impute.html#estimators-that-handle-nan-values"
          ]
        }
      ],
      "source": [
        "# Replace with specific value (0, bfill, ffill)\n",
        "Xnum_train_repnull = Xnum_train.fillna(method = 'ffill')\n",
        "Xnum_test_repnull = Xnum_test.fillna(method = 'ffill')\n",
        "\n",
        "print('MAE from Approach 2 (Replace missing values with forward fill):')\n",
        "print(get_random_forest_mae(Xnum_train_repnull, Xnum_test_repnull, y_train, y_test))"
      ]
    },
    {
      "cell_type": "markdown",
      "source": [
        "The NaN values prevent the model from work truely so we have to replace all NaN values with 0."
      ],
      "metadata": {
        "id": "mGI5dwGZojra"
      }
    },
    {
      "cell_type": "code",
      "source": [
        "# Replace with specific value (0, bfill, ffill)\n",
        "Xnum_train_repnull = Xnum_train.fillna(method = 'ffill')\n",
        "Xnum_test_repnull = Xnum_test.fillna(method = 'ffill')\n",
        "\n",
        "# Fill any remaining NaNs with 0\n",
        "Xnum_train_repnull = Xnum_train_repnull.fillna(0)  # Fill remaining NaNs with 0\n",
        "Xnum_test_repnull = Xnum_test_repnull.fillna(0)    # Fill remaining NaNs with 0\n",
        "\n",
        "# Verify if NaNs still exist\n",
        "print(\"Remaining NaNs in Xnum_train_repnull:\", Xnum_train_repnull.isna().sum().sum())\n",
        "print(\"Remaining NaNs in Xnum_test_repnull:\", Xnum_test_repnull.isna().sum().sum())\n",
        "\n",
        "print('MAE from Approach 2 (Replace missing values with forward fill):')\n",
        "print(get_random_forest_mae(Xnum_train_repnull, Xnum_test_repnull, y_train, y_test))"
      ],
      "metadata": {
        "colab": {
          "base_uri": "https://localhost:8080/"
        },
        "id": "yvLYDjhBo53B",
        "outputId": "6a992044-99dc-4c4a-b492-d81ad4745926"
      },
      "execution_count": 18,
      "outputs": [
        {
          "output_type": "stream",
          "name": "stdout",
          "text": [
            "Remaining NaNs in Xnum_train_repnull: 0\n",
            "Remaining NaNs in Xnum_test_repnull: 0\n",
            "MAE from Approach 2 (Replace missing values with forward fill):\n",
            "2272.0611026771116\n"
          ]
        }
      ]
    },
    {
      "cell_type": "code",
      "execution_count": 19,
      "metadata": {
        "colab": {
          "base_uri": "https://localhost:8080/"
        },
        "id": "B2TdtqsZTYcr",
        "outputId": "a55db7d3-5dda-467f-d92d-562008eae242"
      },
      "outputs": [
        {
          "output_type": "stream",
          "name": "stdout",
          "text": [
            "MAE from Approach 2 (Replace missing values with mean):\n",
            "2193.456214200903\n"
          ]
        }
      ],
      "source": [
        "# Replace with mean value\n",
        "Xnum_train_repnull = Xnum_train.fillna(Xnum_train.mean())\n",
        "Xnum_test_repnull = Xnum_test.fillna(Xnum_train.mean())\n",
        "\n",
        "print('MAE from Approach 2 (Replace missing values with mean):')\n",
        "print(get_random_forest_mae(Xnum_train_repnull, Xnum_test_repnull, y_train, y_test))"
      ]
    },
    {
      "cell_type": "markdown",
      "metadata": {
        "id": "hoaFRlwnTYcs"
      },
      "source": [
        "Filling with mean value makes result better but dropping columns still have  better result than filling method because the number of dropped columns is not much to increase error."
      ]
    },
    {
      "cell_type": "code",
      "execution_count": 20,
      "metadata": {
        "id": "7QiVObxMTYcs"
      },
      "outputs": [],
      "source": [
        "# Going forward, let us replace all missing numeric values with the column mean\n",
        "X_train[cols_num]=Xnum_train_repnull[cols_num]\n",
        "X_test[cols_num]=Xnum_test_repnull[cols_num]"
      ]
    },
    {
      "cell_type": "markdown",
      "metadata": {
        "id": "hJf-dZyTTYcs"
      },
      "source": [
        "Next, let's try to improve the model by including some non-numeric features..."
      ]
    },
    {
      "cell_type": "markdown",
      "metadata": {
        "id": "vTnomaKOTYcs"
      },
      "source": [
        "![utexas_ds_orie_divider_gray.png](data:image/png;base64,iVBORw0KGgoAAAANSUhEUgAAB0YAAAAKCAYAAAAgjz0QAAAAAXNSR0IArs4c6QAAAHhlWElmTU0AKgAAAAgABAEaAAUAAAABAAAAPgEbAAUAAAABAAAARgEoAAMAAAABAAIAAIdpAAQAAAABAAAATgAAAAAAAACWAAAAAQAAAJYAAAABAAOgAQADAAAAAQABAACgAgAEAAAAAQAAB0agAwAEAAAAAQAAAAoAAAAAoOuQ6gAAAAlwSFlzAAAXEgAAFxIBZ5/SUgAAAbBJREFUeAHt2bEVAiEURcHFsxyKMLU6jcyogQKsxzo01h6IEAqwgb9DQnwHsrdtDgECBAgQIECAAAECBAgQIECAAAECBAgQIECAAAECBIILpNVXa73knM/BW+URIECAAAECBAgQIECAAAECBAgQIECAAAECBAgQIHAwgd77u7X23Vd3KeU+r+vBDOQSIECAAAECBAgQIECAAAECBAgQIECAAAECBAgQIBBcYG6ht5n4OAXvlEeAAAECBAgQIECAAAECBAgQIECAAAECBAgQIECAAIHNMOoTECBAgAABAgQIECBAgAABAgQIECBAgAABAgQIECAQXsAwGv6JBRIgQIAAAQIECBAgQIAAAQIECBAgQIAAAQIECBAgYBj1BwgQIECAAAECBAgQIECAAAECBAgQIECAAAECBAgQCC9gGA3/xAIJECBAgAABAgQIECBAgAABAgQIECBAgAABAgQIENgXwRjjlVJ64iBAgAABAgQIECBAgAABAgQIECBAgAABAgQIECBAgEAkgbmDfiL1aCFAgAABAgQIECBAgAABAgQIECBAgAABAgQIECBAgMBfgR+MbQ+c2cysKQAAAABJRU5ErkJggg==)"
      ]
    },
    {
      "cell_type": "markdown",
      "metadata": {
        "id": "BVx-x7dETYcs"
      },
      "source": [
        "## Non-numerical Features"
      ]
    },
    {
      "cell_type": "markdown",
      "metadata": {
        "id": "UVoCjzEnTYcs"
      },
      "source": [
        "We have already seen the error generated by non-numeric features, but let's try to convert them to numeric values so that they can be used in the model."
      ]
    },
    {
      "cell_type": "code",
      "execution_count": 21,
      "metadata": {
        "colab": {
          "base_uri": "https://localhost:8080/"
        },
        "id": "H8gI88RnTYcs",
        "outputId": "85246e86-4036-4249-ba36-e6b959729ded"
      },
      "outputs": [
        {
          "output_type": "execute_result",
          "data": {
            "text/plain": [
              "['Product_ID', 'Gender', 'Age', 'City_Category', 'Stay_In_Current_City_Years']"
            ]
          },
          "metadata": {},
          "execution_count": 21
        }
      ],
      "source": [
        "# Select non-numeric features\n",
        "cols_obj = [col for col in X.columns if X[col].dtype == 'object']\n",
        "cols_obj"
      ]
    },
    {
      "cell_type": "code",
      "execution_count": 22,
      "metadata": {
        "colab": {
          "base_uri": "https://localhost:8080/",
          "height": 408
        },
        "id": "pps6rbdLTYct",
        "outputId": "c7e48e78-8512-41e2-a9ed-9ad3a0e01d54"
      },
      "outputs": [
        {
          "output_type": "error",
          "ename": "ValueError",
          "evalue": "y contains previously unseen labels: 'P00206242'",
          "traceback": [
            "\u001b[0;31m---------------------------------------------------------------------------\u001b[0m",
            "\u001b[0;31mKeyError\u001b[0m                                  Traceback (most recent call last)",
            "\u001b[0;32m/usr/local/lib/python3.10/dist-packages/sklearn/utils/_encode.py\u001b[0m in \u001b[0;36m_encode\u001b[0;34m(values, uniques, check_unknown)\u001b[0m\n\u001b[1;32m    223\u001b[0m         \u001b[0;32mtry\u001b[0m\u001b[0;34m:\u001b[0m\u001b[0;34m\u001b[0m\u001b[0;34m\u001b[0m\u001b[0m\n\u001b[0;32m--> 224\u001b[0;31m             \u001b[0;32mreturn\u001b[0m \u001b[0m_map_to_integer\u001b[0m\u001b[0;34m(\u001b[0m\u001b[0mvalues\u001b[0m\u001b[0;34m,\u001b[0m \u001b[0muniques\u001b[0m\u001b[0;34m)\u001b[0m\u001b[0;34m\u001b[0m\u001b[0;34m\u001b[0m\u001b[0m\n\u001b[0m\u001b[1;32m    225\u001b[0m         \u001b[0;32mexcept\u001b[0m \u001b[0mKeyError\u001b[0m \u001b[0;32mas\u001b[0m \u001b[0me\u001b[0m\u001b[0;34m:\u001b[0m\u001b[0;34m\u001b[0m\u001b[0;34m\u001b[0m\u001b[0m\n",
            "\u001b[0;32m/usr/local/lib/python3.10/dist-packages/sklearn/utils/_encode.py\u001b[0m in \u001b[0;36m_map_to_integer\u001b[0;34m(values, uniques)\u001b[0m\n\u001b[1;32m    163\u001b[0m     \u001b[0mtable\u001b[0m \u001b[0;34m=\u001b[0m \u001b[0m_nandict\u001b[0m\u001b[0;34m(\u001b[0m\u001b[0;34m{\u001b[0m\u001b[0mval\u001b[0m\u001b[0;34m:\u001b[0m \u001b[0mi\u001b[0m \u001b[0;32mfor\u001b[0m \u001b[0mi\u001b[0m\u001b[0;34m,\u001b[0m \u001b[0mval\u001b[0m \u001b[0;32min\u001b[0m \u001b[0menumerate\u001b[0m\u001b[0;34m(\u001b[0m\u001b[0muniques\u001b[0m\u001b[0;34m)\u001b[0m\u001b[0;34m}\u001b[0m\u001b[0;34m)\u001b[0m\u001b[0;34m\u001b[0m\u001b[0;34m\u001b[0m\u001b[0m\n\u001b[0;32m--> 164\u001b[0;31m     \u001b[0;32mreturn\u001b[0m \u001b[0mnp\u001b[0m\u001b[0;34m.\u001b[0m\u001b[0marray\u001b[0m\u001b[0;34m(\u001b[0m\u001b[0;34m[\u001b[0m\u001b[0mtable\u001b[0m\u001b[0;34m[\u001b[0m\u001b[0mv\u001b[0m\u001b[0;34m]\u001b[0m \u001b[0;32mfor\u001b[0m \u001b[0mv\u001b[0m \u001b[0;32min\u001b[0m \u001b[0mvalues\u001b[0m\u001b[0;34m]\u001b[0m\u001b[0;34m)\u001b[0m\u001b[0;34m\u001b[0m\u001b[0;34m\u001b[0m\u001b[0m\n\u001b[0m\u001b[1;32m    165\u001b[0m \u001b[0;34m\u001b[0m\u001b[0m\n",
            "\u001b[0;32m/usr/local/lib/python3.10/dist-packages/sklearn/utils/_encode.py\u001b[0m in \u001b[0;36m<listcomp>\u001b[0;34m(.0)\u001b[0m\n\u001b[1;32m    163\u001b[0m     \u001b[0mtable\u001b[0m \u001b[0;34m=\u001b[0m \u001b[0m_nandict\u001b[0m\u001b[0;34m(\u001b[0m\u001b[0;34m{\u001b[0m\u001b[0mval\u001b[0m\u001b[0;34m:\u001b[0m \u001b[0mi\u001b[0m \u001b[0;32mfor\u001b[0m \u001b[0mi\u001b[0m\u001b[0;34m,\u001b[0m \u001b[0mval\u001b[0m \u001b[0;32min\u001b[0m \u001b[0menumerate\u001b[0m\u001b[0;34m(\u001b[0m\u001b[0muniques\u001b[0m\u001b[0;34m)\u001b[0m\u001b[0;34m}\u001b[0m\u001b[0;34m)\u001b[0m\u001b[0;34m\u001b[0m\u001b[0;34m\u001b[0m\u001b[0m\n\u001b[0;32m--> 164\u001b[0;31m     \u001b[0;32mreturn\u001b[0m \u001b[0mnp\u001b[0m\u001b[0;34m.\u001b[0m\u001b[0marray\u001b[0m\u001b[0;34m(\u001b[0m\u001b[0;34m[\u001b[0m\u001b[0mtable\u001b[0m\u001b[0;34m[\u001b[0m\u001b[0mv\u001b[0m\u001b[0;34m]\u001b[0m \u001b[0;32mfor\u001b[0m \u001b[0mv\u001b[0m \u001b[0;32min\u001b[0m \u001b[0mvalues\u001b[0m\u001b[0;34m]\u001b[0m\u001b[0;34m)\u001b[0m\u001b[0;34m\u001b[0m\u001b[0;34m\u001b[0m\u001b[0m\n\u001b[0m\u001b[1;32m    165\u001b[0m \u001b[0;34m\u001b[0m\u001b[0m\n",
            "\u001b[0;32m/usr/local/lib/python3.10/dist-packages/sklearn/utils/_encode.py\u001b[0m in \u001b[0;36m__missing__\u001b[0;34m(self, key)\u001b[0m\n\u001b[1;32m    157\u001b[0m             \u001b[0;32mreturn\u001b[0m \u001b[0mself\u001b[0m\u001b[0;34m.\u001b[0m\u001b[0mnan_value\u001b[0m\u001b[0;34m\u001b[0m\u001b[0;34m\u001b[0m\u001b[0m\n\u001b[0;32m--> 158\u001b[0;31m         \u001b[0;32mraise\u001b[0m \u001b[0mKeyError\u001b[0m\u001b[0;34m(\u001b[0m\u001b[0mkey\u001b[0m\u001b[0;34m)\u001b[0m\u001b[0;34m\u001b[0m\u001b[0;34m\u001b[0m\u001b[0m\n\u001b[0m\u001b[1;32m    159\u001b[0m \u001b[0;34m\u001b[0m\u001b[0m\n",
            "\u001b[0;31mKeyError\u001b[0m: 'P00206242'",
            "\nDuring handling of the above exception, another exception occurred:\n",
            "\u001b[0;31mValueError\u001b[0m                                Traceback (most recent call last)",
            "\u001b[0;32m<ipython-input-22-0eebd340aabb>\u001b[0m in \u001b[0;36m<cell line: 9>\u001b[0;34m()\u001b[0m\n\u001b[1;32m      9\u001b[0m \u001b[0;32mfor\u001b[0m \u001b[0mcol\u001b[0m \u001b[0;32min\u001b[0m \u001b[0mcols_obj\u001b[0m\u001b[0;34m:\u001b[0m\u001b[0;34m\u001b[0m\u001b[0;34m\u001b[0m\u001b[0m\n\u001b[1;32m     10\u001b[0m     \u001b[0mXle_train\u001b[0m\u001b[0;34m[\u001b[0m\u001b[0mcol\u001b[0m\u001b[0;34m]\u001b[0m \u001b[0;34m=\u001b[0m \u001b[0mlabel_encoder\u001b[0m\u001b[0;34m.\u001b[0m\u001b[0mfit_transform\u001b[0m\u001b[0;34m(\u001b[0m\u001b[0mX_train\u001b[0m\u001b[0;34m[\u001b[0m\u001b[0mcol\u001b[0m\u001b[0;34m]\u001b[0m\u001b[0;34m)\u001b[0m\u001b[0;34m\u001b[0m\u001b[0;34m\u001b[0m\u001b[0m\n\u001b[0;32m---> 11\u001b[0;31m     \u001b[0mXle_test\u001b[0m\u001b[0;34m[\u001b[0m\u001b[0mcol\u001b[0m\u001b[0;34m]\u001b[0m \u001b[0;34m=\u001b[0m \u001b[0mlabel_encoder\u001b[0m\u001b[0;34m.\u001b[0m\u001b[0mtransform\u001b[0m\u001b[0;34m(\u001b[0m\u001b[0mX_test\u001b[0m\u001b[0;34m[\u001b[0m\u001b[0mcol\u001b[0m\u001b[0;34m]\u001b[0m\u001b[0;34m)\u001b[0m\u001b[0;34m\u001b[0m\u001b[0;34m\u001b[0m\u001b[0m\n\u001b[0m",
            "\u001b[0;32m/usr/local/lib/python3.10/dist-packages/sklearn/utils/_set_output.py\u001b[0m in \u001b[0;36mwrapped\u001b[0;34m(self, X, *args, **kwargs)\u001b[0m\n\u001b[1;32m    138\u001b[0m     \u001b[0;34m@\u001b[0m\u001b[0mwraps\u001b[0m\u001b[0;34m(\u001b[0m\u001b[0mf\u001b[0m\u001b[0;34m)\u001b[0m\u001b[0;34m\u001b[0m\u001b[0;34m\u001b[0m\u001b[0m\n\u001b[1;32m    139\u001b[0m     \u001b[0;32mdef\u001b[0m \u001b[0mwrapped\u001b[0m\u001b[0;34m(\u001b[0m\u001b[0mself\u001b[0m\u001b[0;34m,\u001b[0m \u001b[0mX\u001b[0m\u001b[0;34m,\u001b[0m \u001b[0;34m*\u001b[0m\u001b[0margs\u001b[0m\u001b[0;34m,\u001b[0m \u001b[0;34m**\u001b[0m\u001b[0mkwargs\u001b[0m\u001b[0;34m)\u001b[0m\u001b[0;34m:\u001b[0m\u001b[0;34m\u001b[0m\u001b[0;34m\u001b[0m\u001b[0m\n\u001b[0;32m--> 140\u001b[0;31m         \u001b[0mdata_to_wrap\u001b[0m \u001b[0;34m=\u001b[0m \u001b[0mf\u001b[0m\u001b[0;34m(\u001b[0m\u001b[0mself\u001b[0m\u001b[0;34m,\u001b[0m \u001b[0mX\u001b[0m\u001b[0;34m,\u001b[0m \u001b[0;34m*\u001b[0m\u001b[0margs\u001b[0m\u001b[0;34m,\u001b[0m \u001b[0;34m**\u001b[0m\u001b[0mkwargs\u001b[0m\u001b[0;34m)\u001b[0m\u001b[0;34m\u001b[0m\u001b[0;34m\u001b[0m\u001b[0m\n\u001b[0m\u001b[1;32m    141\u001b[0m         \u001b[0;32mif\u001b[0m \u001b[0misinstance\u001b[0m\u001b[0;34m(\u001b[0m\u001b[0mdata_to_wrap\u001b[0m\u001b[0;34m,\u001b[0m \u001b[0mtuple\u001b[0m\u001b[0;34m)\u001b[0m\u001b[0;34m:\u001b[0m\u001b[0;34m\u001b[0m\u001b[0;34m\u001b[0m\u001b[0m\n\u001b[1;32m    142\u001b[0m             \u001b[0;31m# only wrap the first output for cross decomposition\u001b[0m\u001b[0;34m\u001b[0m\u001b[0;34m\u001b[0m\u001b[0m\n",
            "\u001b[0;32m/usr/local/lib/python3.10/dist-packages/sklearn/preprocessing/_label.py\u001b[0m in \u001b[0;36mtransform\u001b[0;34m(self, y)\u001b[0m\n\u001b[1;32m    137\u001b[0m             \u001b[0;32mreturn\u001b[0m \u001b[0mnp\u001b[0m\u001b[0;34m.\u001b[0m\u001b[0marray\u001b[0m\u001b[0;34m(\u001b[0m\u001b[0;34m[\u001b[0m\u001b[0;34m]\u001b[0m\u001b[0;34m)\u001b[0m\u001b[0;34m\u001b[0m\u001b[0;34m\u001b[0m\u001b[0m\n\u001b[1;32m    138\u001b[0m \u001b[0;34m\u001b[0m\u001b[0m\n\u001b[0;32m--> 139\u001b[0;31m         \u001b[0;32mreturn\u001b[0m \u001b[0m_encode\u001b[0m\u001b[0;34m(\u001b[0m\u001b[0my\u001b[0m\u001b[0;34m,\u001b[0m \u001b[0muniques\u001b[0m\u001b[0;34m=\u001b[0m\u001b[0mself\u001b[0m\u001b[0;34m.\u001b[0m\u001b[0mclasses_\u001b[0m\u001b[0;34m)\u001b[0m\u001b[0;34m\u001b[0m\u001b[0;34m\u001b[0m\u001b[0m\n\u001b[0m\u001b[1;32m    140\u001b[0m \u001b[0;34m\u001b[0m\u001b[0m\n\u001b[1;32m    141\u001b[0m     \u001b[0;32mdef\u001b[0m \u001b[0minverse_transform\u001b[0m\u001b[0;34m(\u001b[0m\u001b[0mself\u001b[0m\u001b[0;34m,\u001b[0m \u001b[0my\u001b[0m\u001b[0;34m)\u001b[0m\u001b[0;34m:\u001b[0m\u001b[0;34m\u001b[0m\u001b[0;34m\u001b[0m\u001b[0m\n",
            "\u001b[0;32m/usr/local/lib/python3.10/dist-packages/sklearn/utils/_encode.py\u001b[0m in \u001b[0;36m_encode\u001b[0;34m(values, uniques, check_unknown)\u001b[0m\n\u001b[1;32m    224\u001b[0m             \u001b[0;32mreturn\u001b[0m \u001b[0m_map_to_integer\u001b[0m\u001b[0;34m(\u001b[0m\u001b[0mvalues\u001b[0m\u001b[0;34m,\u001b[0m \u001b[0muniques\u001b[0m\u001b[0;34m)\u001b[0m\u001b[0;34m\u001b[0m\u001b[0;34m\u001b[0m\u001b[0m\n\u001b[1;32m    225\u001b[0m         \u001b[0;32mexcept\u001b[0m \u001b[0mKeyError\u001b[0m \u001b[0;32mas\u001b[0m \u001b[0me\u001b[0m\u001b[0;34m:\u001b[0m\u001b[0;34m\u001b[0m\u001b[0;34m\u001b[0m\u001b[0m\n\u001b[0;32m--> 226\u001b[0;31m             \u001b[0;32mraise\u001b[0m \u001b[0mValueError\u001b[0m\u001b[0;34m(\u001b[0m\u001b[0;34mf\"y contains previously unseen labels: {str(e)}\"\u001b[0m\u001b[0;34m)\u001b[0m\u001b[0;34m\u001b[0m\u001b[0;34m\u001b[0m\u001b[0m\n\u001b[0m\u001b[1;32m    227\u001b[0m     \u001b[0;32melse\u001b[0m\u001b[0;34m:\u001b[0m\u001b[0;34m\u001b[0m\u001b[0;34m\u001b[0m\u001b[0m\n\u001b[1;32m    228\u001b[0m         \u001b[0;32mif\u001b[0m \u001b[0mcheck_unknown\u001b[0m\u001b[0;34m:\u001b[0m\u001b[0;34m\u001b[0m\u001b[0;34m\u001b[0m\u001b[0m\n",
            "\u001b[0;31mValueError\u001b[0m: y contains previously unseen labels: 'P00206242'"
          ]
        }
      ],
      "source": [
        "# Label encoding on all non-numeric features\n",
        "\n",
        "from sklearn.preprocessing import LabelEncoder\n",
        "\n",
        "Xle_train = X_train.copy()\n",
        "Xle_test = X_test.copy()\n",
        "# Apply label encoder to each column with non-numeric data\n",
        "label_encoder = LabelEncoder()\n",
        "for col in cols_obj:\n",
        "    Xle_train[col] = label_encoder.fit_transform(X_train[col])\n",
        "    Xle_test[col] = label_encoder.transform(X_test[col])"
      ]
    },
    {
      "cell_type": "markdown",
      "metadata": {
        "id": "_JhfH2IyTYct"
      },
      "source": [
        "There are too many values to be label encoded.  So, we would need to take only those non-numeric features with low cardinality aka **Categorical features**."
      ]
    },
    {
      "cell_type": "code",
      "execution_count": 23,
      "metadata": {
        "colab": {
          "base_uri": "https://localhost:8080/"
        },
        "id": "315c2Fl3TYct",
        "outputId": "33f69f26-f875-4800-c344-bcac74896716"
      },
      "outputs": [
        {
          "output_type": "execute_result",
          "data": {
            "text/plain": [
              "['Gender', 'Age', 'City_Category', 'Stay_In_Current_City_Years']"
            ]
          },
          "metadata": {},
          "execution_count": 23
        }
      ],
      "source": [
        "# Select categorical features\n",
        "cols_cat = [col for col in X.columns if X[col].dtype == 'object' and X[col].nunique()<10]\n",
        "cols_cat"
      ]
    },
    {
      "cell_type": "code",
      "execution_count": 24,
      "metadata": {
        "id": "6PalB_d2TYct"
      },
      "outputs": [],
      "source": [
        "# Label encoding on only categorical features\n",
        "\n",
        "from sklearn.preprocessing import LabelEncoder\n",
        "\n",
        "Xle_train = X_train.copy()\n",
        "Xle_test = X_test.copy()\n",
        "# Apply label encoder to each column with categorical data\n",
        "label_encoder = LabelEncoder()\n",
        "for col in cols_cat:\n",
        "    Xle_train[col] = label_encoder.fit_transform(X_train[col])\n",
        "    Xle_test[col] = label_encoder.transform(X_test[col])"
      ]
    },
    {
      "cell_type": "code",
      "execution_count": 25,
      "metadata": {
        "colab": {
          "base_uri": "https://localhost:8080/"
        },
        "id": "RQQzDMTbTYcu",
        "outputId": "2bf144e3-bf87-460d-e66e-d02c46d3305d"
      },
      "outputs": [
        {
          "output_type": "stream",
          "name": "stdout",
          "text": [
            "MAE from Label Encoding all Categorical columns:\n",
            "2154.210619732392\n"
          ]
        }
      ],
      "source": [
        "# Encode and Build/Score using all Categorical columns\n",
        "\n",
        "mae = get_random_forest_mae(Xle_train[cols_num + cols_cat], Xle_test[cols_num + cols_cat], y_train, y_test)\n",
        "print(\"MAE from Label Encoding all Categorical columns:\")\n",
        "print(mae)"
      ]
    },
    {
      "cell_type": "markdown",
      "metadata": {
        "id": "psR4LWVyTYcu"
      },
      "source": [
        "The result becomes worse when converting non-numeric values to numeric values. This is probably because missing values in non numeric values increase the error by turning them into numeric values."
      ]
    },
    {
      "cell_type": "markdown",
      "metadata": {
        "id": "ZDjRnoD3TYcu"
      },
      "source": [
        "## Build Gradient Boosted Tree Model"
      ]
    },
    {
      "cell_type": "markdown",
      "metadata": {
        "id": "a-vnkjnjTYcu"
      },
      "source": [
        "Let's begin by training a simple Gradient Boosting model..."
      ]
    },
    {
      "cell_type": "code",
      "execution_count": 27,
      "metadata": {
        "colab": {
          "base_uri": "https://localhost:8080/"
        },
        "id": "knA_nKxPTYcv",
        "outputId": "6246a4c2-dc95-4627-bcff-ad48169b4663"
      },
      "outputs": [
        {
          "output_type": "stream",
          "name": "stdout",
          "text": [
            "MAE from default XGBoost model:\n",
            "2090.9818629360047\n"
          ]
        }
      ],
      "source": [
        "from xgboost import XGBRegressor\n",
        "\n",
        "#Build and score default Gradient Boosting Model\n",
        "mdlXgbBF = XGBRegressor()\n",
        "mdlXgbBF.fit(Xle_train[cols_num + cols_cat], y_train)\n",
        "y_test_pred = mdlXgbBF.predict(Xle_test[cols_num + cols_cat])\n",
        "mae = mean_absolute_error(y_test_pred, y_test)\n",
        "\n",
        "print(\"MAE from default XGBoost model:\")\n",
        "print(mae)"
      ]
    },
    {
      "cell_type": "markdown",
      "metadata": {
        "id": "wF8L4wXkTYcv"
      },
      "source": [
        " The result here is best. However, we can still try to improve this by **tuning the parameters** that drive the Gradient Boosting model.  Below are some popular parameters...\n",
        "\n",
        "`n_estimators`: maximum number of decision trees that will be ensembled\n",
        "\n",
        "`max_depth`: maximum depth of each tree (typically 3-10)\n",
        "\n",
        "`learning_rate`: weight applied to each tree (typically 0.01-0.2)"
      ]
    },
    {
      "cell_type": "code",
      "execution_count": 29,
      "metadata": {
        "colab": {
          "base_uri": "https://localhost:8080/"
        },
        "id": "2PMaQ_H1TYcv",
        "outputId": "e3e92a7e-ab12-4fc0-f4b4-52ed8bf22c2c"
      },
      "outputs": [
        {
          "output_type": "stream",
          "name": "stdout",
          "text": [
            "MAE from tuned XGBoost model:\n",
            "2100.3951026451473\n"
          ]
        }
      ],
      "source": [
        "#Build and score a tuned Gradient Boosting Model\n",
        "mdlXgbBF = XGBRegressor(n_estimators=5000, learning_rate=0.01, max_depth=5)\n",
        "mdlXgbBF.fit(Xle_train[cols_num + cols_cat], y_train)\n",
        "y_test_pred = mdlXgbBF.predict(Xle_test[cols_num + cols_cat])\n",
        "mae = mean_absolute_error(y_test_pred, y_test)\n",
        "\n",
        "print(\"MAE from tuned XGBoost model:\")\n",
        "print(mae)"
      ]
    },
    {
      "cell_type": "markdown",
      "source": [
        "Ironically, instead tuned model improves the result of the default one, it results worse."
      ],
      "metadata": {
        "id": "NaICHj9e5VL-"
      }
    },
    {
      "cell_type": "markdown",
      "metadata": {
        "id": "RXsB9Ij5TYcv"
      },
      "source": [
        "## Conclusion\n",
        "\n",
        "* The first problem was non-numeric columns so we used model with only numeric features.\n",
        "* The second problem was missing values in numeric features. We used two different method, dropping column and filling missing values, to solve it by random forest model and dropping column had a better result.  \n",
        "* Label encoding is also used in random forest model but it had worse result.\n",
        "* Ensembled many decision trees more intelligently using the *Gradient Boosting* model and it had a best result. However, *Parameter Tuning* had a worse result instead of improving.\n",
        "* Shortly, the best result recorded by default Gradient Boosting Model."
      ]
    }
  ],
  "metadata": {
    "kernelspec": {
      "display_name": "Python 3",
      "language": "python",
      "name": "python3"
    },
    "language_info": {
      "codemirror_mode": {
        "name": "ipython",
        "version": 3
      },
      "file_extension": ".py",
      "mimetype": "text/x-python",
      "name": "python",
      "nbconvert_exporter": "python",
      "pygments_lexer": "ipython3",
      "version": "3.7.1"
    },
    "colab": {
      "provenance": [],
      "include_colab_link": true
    }
  },
  "nbformat": 4,
  "nbformat_minor": 0
}