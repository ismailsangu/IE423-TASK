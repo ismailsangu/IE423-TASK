{
  "cells": [
    {
      "cell_type": "markdown",
      "metadata": {
        "id": "view-in-github",
        "colab_type": "text"
      },
      "source": [
        "<a href=\"https://colab.research.google.com/github/ismailsangu/IE423-TASK/blob/main/Task_6.ipynb\" target=\"_parent\"><img src=\"https://colab.research.google.com/assets/colab-badge.svg\" alt=\"Open In Colab\"/></a>"
      ]
    },
    {
      "cell_type": "markdown",
      "metadata": {
        "id": "HP_GsEZsc51_"
      },
      "source": [
        "# Customer Segmentation:\n",
        "#Can you segment customers by purchasing behavior?"
      ]
    },
    {
      "cell_type": "markdown",
      "metadata": {
        "id": "2NnO6Edic52A"
      },
      "source": [
        "## Initialize"
      ]
    },
    {
      "cell_type": "code",
      "execution_count": null,
      "metadata": {
        "id": "ldQXelu2c52A"
      },
      "outputs": [],
      "source": [
        "import pandas as pd\n",
        "import matplotlib.pyplot as plt\n",
        "\n",
        "from sklearn.preprocessing import scale\n",
        "\n",
        "import numpy as np\n",
        "\n",
        "import sklearn\n",
        "from sklearn.model_selection import train_test_split\n",
        "from sklearn.metrics import mean_absolute_error\n",
        "\n",
        "import warnings\n",
        "warnings.simplefilter(action='ignore', category=FutureWarning)"
      ]
    },
    {
      "cell_type": "markdown",
      "metadata": {
        "id": "PW7o33CPc52C"
      },
      "source": [
        "## Load Data"
      ]
    },
    {
      "cell_type": "code",
      "source": [
        "from google.colab import drive\n",
        "drive.mount('/content/drive')"
      ],
      "metadata": {
        "colab": {
          "base_uri": "https://localhost:8080/"
        },
        "id": "CgrdUKAzdakJ",
        "outputId": "566118cf-537e-4b13-9494-39be8a0d9957"
      },
      "execution_count": null,
      "outputs": [
        {
          "output_type": "stream",
          "name": "stdout",
          "text": [
            "Mounted at /content/drive\n"
          ]
        }
      ]
    },
    {
      "cell_type": "code",
      "execution_count": null,
      "metadata": {
        "id": "u-qEe59Ic52D"
      },
      "outputs": [],
      "source": [
        "dfRet =  pd.read_csv('/content/drive/MyDrive/Data_Sets/train.csv', encoding = \"ISO-8859-1\")"
      ]
    },
    {
      "cell_type": "code",
      "execution_count": null,
      "metadata": {
        "id": "48BjaTRKc52E",
        "outputId": "575fbcbf-d96b-497d-b75f-52c86f564033",
        "colab": {
          "base_uri": "https://localhost:8080/",
          "height": 295
        }
      },
      "outputs": [
        {
          "output_type": "execute_result",
          "data": {
            "text/plain": [
              "   User_ID Product_ID Gender   Age  Occupation City_Category  \\\n",
              "0  1000001  P00069042      F  0-17          10             A   \n",
              "1  1000001  P00248942      F  0-17          10             A   \n",
              "2  1000001  P00087842      F  0-17          10             A   \n",
              "3  1000001  P00085442      F  0-17          10             A   \n",
              "4  1000002  P00285442      M   55+          16             C   \n",
              "\n",
              "  Stay_In_Current_City_Years  Marital_Status  Product_Category_1  \\\n",
              "0                          2               0                   3   \n",
              "1                          2               0                   1   \n",
              "2                          2               0                  12   \n",
              "3                          2               0                  12   \n",
              "4                         4+               0                   8   \n",
              "\n",
              "   Product_Category_2  Product_Category_3  Purchase  \n",
              "0                 NaN                 NaN      8370  \n",
              "1                 6.0                14.0     15200  \n",
              "2                 NaN                 NaN      1422  \n",
              "3                14.0                 NaN      1057  \n",
              "4                 NaN                 NaN      7969  "
            ],
            "text/html": [
              "\n",
              "  <div id=\"df-5801c5e6-4c59-4bd0-8831-89b0ac01ff93\" class=\"colab-df-container\">\n",
              "    <div>\n",
              "<style scoped>\n",
              "    .dataframe tbody tr th:only-of-type {\n",
              "        vertical-align: middle;\n",
              "    }\n",
              "\n",
              "    .dataframe tbody tr th {\n",
              "        vertical-align: top;\n",
              "    }\n",
              "\n",
              "    .dataframe thead th {\n",
              "        text-align: right;\n",
              "    }\n",
              "</style>\n",
              "<table border=\"1\" class=\"dataframe\">\n",
              "  <thead>\n",
              "    <tr style=\"text-align: right;\">\n",
              "      <th></th>\n",
              "      <th>User_ID</th>\n",
              "      <th>Product_ID</th>\n",
              "      <th>Gender</th>\n",
              "      <th>Age</th>\n",
              "      <th>Occupation</th>\n",
              "      <th>City_Category</th>\n",
              "      <th>Stay_In_Current_City_Years</th>\n",
              "      <th>Marital_Status</th>\n",
              "      <th>Product_Category_1</th>\n",
              "      <th>Product_Category_2</th>\n",
              "      <th>Product_Category_3</th>\n",
              "      <th>Purchase</th>\n",
              "    </tr>\n",
              "  </thead>\n",
              "  <tbody>\n",
              "    <tr>\n",
              "      <th>0</th>\n",
              "      <td>1000001</td>\n",
              "      <td>P00069042</td>\n",
              "      <td>F</td>\n",
              "      <td>0-17</td>\n",
              "      <td>10</td>\n",
              "      <td>A</td>\n",
              "      <td>2</td>\n",
              "      <td>0</td>\n",
              "      <td>3</td>\n",
              "      <td>NaN</td>\n",
              "      <td>NaN</td>\n",
              "      <td>8370</td>\n",
              "    </tr>\n",
              "    <tr>\n",
              "      <th>1</th>\n",
              "      <td>1000001</td>\n",
              "      <td>P00248942</td>\n",
              "      <td>F</td>\n",
              "      <td>0-17</td>\n",
              "      <td>10</td>\n",
              "      <td>A</td>\n",
              "      <td>2</td>\n",
              "      <td>0</td>\n",
              "      <td>1</td>\n",
              "      <td>6.0</td>\n",
              "      <td>14.0</td>\n",
              "      <td>15200</td>\n",
              "    </tr>\n",
              "    <tr>\n",
              "      <th>2</th>\n",
              "      <td>1000001</td>\n",
              "      <td>P00087842</td>\n",
              "      <td>F</td>\n",
              "      <td>0-17</td>\n",
              "      <td>10</td>\n",
              "      <td>A</td>\n",
              "      <td>2</td>\n",
              "      <td>0</td>\n",
              "      <td>12</td>\n",
              "      <td>NaN</td>\n",
              "      <td>NaN</td>\n",
              "      <td>1422</td>\n",
              "    </tr>\n",
              "    <tr>\n",
              "      <th>3</th>\n",
              "      <td>1000001</td>\n",
              "      <td>P00085442</td>\n",
              "      <td>F</td>\n",
              "      <td>0-17</td>\n",
              "      <td>10</td>\n",
              "      <td>A</td>\n",
              "      <td>2</td>\n",
              "      <td>0</td>\n",
              "      <td>12</td>\n",
              "      <td>14.0</td>\n",
              "      <td>NaN</td>\n",
              "      <td>1057</td>\n",
              "    </tr>\n",
              "    <tr>\n",
              "      <th>4</th>\n",
              "      <td>1000002</td>\n",
              "      <td>P00285442</td>\n",
              "      <td>M</td>\n",
              "      <td>55+</td>\n",
              "      <td>16</td>\n",
              "      <td>C</td>\n",
              "      <td>4+</td>\n",
              "      <td>0</td>\n",
              "      <td>8</td>\n",
              "      <td>NaN</td>\n",
              "      <td>NaN</td>\n",
              "      <td>7969</td>\n",
              "    </tr>\n",
              "  </tbody>\n",
              "</table>\n",
              "</div>\n",
              "    <div class=\"colab-df-buttons\">\n",
              "\n",
              "  <div class=\"colab-df-container\">\n",
              "    <button class=\"colab-df-convert\" onclick=\"convertToInteractive('df-5801c5e6-4c59-4bd0-8831-89b0ac01ff93')\"\n",
              "            title=\"Convert this dataframe to an interactive table.\"\n",
              "            style=\"display:none;\">\n",
              "\n",
              "  <svg xmlns=\"http://www.w3.org/2000/svg\" height=\"24px\" viewBox=\"0 -960 960 960\">\n",
              "    <path d=\"M120-120v-720h720v720H120Zm60-500h600v-160H180v160Zm220 220h160v-160H400v160Zm0 220h160v-160H400v160ZM180-400h160v-160H180v160Zm440 0h160v-160H620v160ZM180-180h160v-160H180v160Zm440 0h160v-160H620v160Z\"/>\n",
              "  </svg>\n",
              "    </button>\n",
              "\n",
              "  <style>\n",
              "    .colab-df-container {\n",
              "      display:flex;\n",
              "      gap: 12px;\n",
              "    }\n",
              "\n",
              "    .colab-df-convert {\n",
              "      background-color: #E8F0FE;\n",
              "      border: none;\n",
              "      border-radius: 50%;\n",
              "      cursor: pointer;\n",
              "      display: none;\n",
              "      fill: #1967D2;\n",
              "      height: 32px;\n",
              "      padding: 0 0 0 0;\n",
              "      width: 32px;\n",
              "    }\n",
              "\n",
              "    .colab-df-convert:hover {\n",
              "      background-color: #E2EBFA;\n",
              "      box-shadow: 0px 1px 2px rgba(60, 64, 67, 0.3), 0px 1px 3px 1px rgba(60, 64, 67, 0.15);\n",
              "      fill: #174EA6;\n",
              "    }\n",
              "\n",
              "    .colab-df-buttons div {\n",
              "      margin-bottom: 4px;\n",
              "    }\n",
              "\n",
              "    [theme=dark] .colab-df-convert {\n",
              "      background-color: #3B4455;\n",
              "      fill: #D2E3FC;\n",
              "    }\n",
              "\n",
              "    [theme=dark] .colab-df-convert:hover {\n",
              "      background-color: #434B5C;\n",
              "      box-shadow: 0px 1px 3px 1px rgba(0, 0, 0, 0.15);\n",
              "      filter: drop-shadow(0px 1px 2px rgba(0, 0, 0, 0.3));\n",
              "      fill: #FFFFFF;\n",
              "    }\n",
              "  </style>\n",
              "\n",
              "    <script>\n",
              "      const buttonEl =\n",
              "        document.querySelector('#df-5801c5e6-4c59-4bd0-8831-89b0ac01ff93 button.colab-df-convert');\n",
              "      buttonEl.style.display =\n",
              "        google.colab.kernel.accessAllowed ? 'block' : 'none';\n",
              "\n",
              "      async function convertToInteractive(key) {\n",
              "        const element = document.querySelector('#df-5801c5e6-4c59-4bd0-8831-89b0ac01ff93');\n",
              "        const dataTable =\n",
              "          await google.colab.kernel.invokeFunction('convertToInteractive',\n",
              "                                                    [key], {});\n",
              "        if (!dataTable) return;\n",
              "\n",
              "        const docLinkHtml = 'Like what you see? Visit the ' +\n",
              "          '<a target=\"_blank\" href=https://colab.research.google.com/notebooks/data_table.ipynb>data table notebook</a>'\n",
              "          + ' to learn more about interactive tables.';\n",
              "        element.innerHTML = '';\n",
              "        dataTable['output_type'] = 'display_data';\n",
              "        await google.colab.output.renderOutput(dataTable, element);\n",
              "        const docLink = document.createElement('div');\n",
              "        docLink.innerHTML = docLinkHtml;\n",
              "        element.appendChild(docLink);\n",
              "      }\n",
              "    </script>\n",
              "  </div>\n",
              "\n",
              "\n",
              "<div id=\"df-190354b1-7fa7-41c5-893c-58133c403cc6\">\n",
              "  <button class=\"colab-df-quickchart\" onclick=\"quickchart('df-190354b1-7fa7-41c5-893c-58133c403cc6')\"\n",
              "            title=\"Suggest charts\"\n",
              "            style=\"display:none;\">\n",
              "\n",
              "<svg xmlns=\"http://www.w3.org/2000/svg\" height=\"24px\"viewBox=\"0 0 24 24\"\n",
              "     width=\"24px\">\n",
              "    <g>\n",
              "        <path d=\"M19 3H5c-1.1 0-2 .9-2 2v14c0 1.1.9 2 2 2h14c1.1 0 2-.9 2-2V5c0-1.1-.9-2-2-2zM9 17H7v-7h2v7zm4 0h-2V7h2v10zm4 0h-2v-4h2v4z\"/>\n",
              "    </g>\n",
              "</svg>\n",
              "  </button>\n",
              "\n",
              "<style>\n",
              "  .colab-df-quickchart {\n",
              "      --bg-color: #E8F0FE;\n",
              "      --fill-color: #1967D2;\n",
              "      --hover-bg-color: #E2EBFA;\n",
              "      --hover-fill-color: #174EA6;\n",
              "      --disabled-fill-color: #AAA;\n",
              "      --disabled-bg-color: #DDD;\n",
              "  }\n",
              "\n",
              "  [theme=dark] .colab-df-quickchart {\n",
              "      --bg-color: #3B4455;\n",
              "      --fill-color: #D2E3FC;\n",
              "      --hover-bg-color: #434B5C;\n",
              "      --hover-fill-color: #FFFFFF;\n",
              "      --disabled-bg-color: #3B4455;\n",
              "      --disabled-fill-color: #666;\n",
              "  }\n",
              "\n",
              "  .colab-df-quickchart {\n",
              "    background-color: var(--bg-color);\n",
              "    border: none;\n",
              "    border-radius: 50%;\n",
              "    cursor: pointer;\n",
              "    display: none;\n",
              "    fill: var(--fill-color);\n",
              "    height: 32px;\n",
              "    padding: 0;\n",
              "    width: 32px;\n",
              "  }\n",
              "\n",
              "  .colab-df-quickchart:hover {\n",
              "    background-color: var(--hover-bg-color);\n",
              "    box-shadow: 0 1px 2px rgba(60, 64, 67, 0.3), 0 1px 3px 1px rgba(60, 64, 67, 0.15);\n",
              "    fill: var(--button-hover-fill-color);\n",
              "  }\n",
              "\n",
              "  .colab-df-quickchart-complete:disabled,\n",
              "  .colab-df-quickchart-complete:disabled:hover {\n",
              "    background-color: var(--disabled-bg-color);\n",
              "    fill: var(--disabled-fill-color);\n",
              "    box-shadow: none;\n",
              "  }\n",
              "\n",
              "  .colab-df-spinner {\n",
              "    border: 2px solid var(--fill-color);\n",
              "    border-color: transparent;\n",
              "    border-bottom-color: var(--fill-color);\n",
              "    animation:\n",
              "      spin 1s steps(1) infinite;\n",
              "  }\n",
              "\n",
              "  @keyframes spin {\n",
              "    0% {\n",
              "      border-color: transparent;\n",
              "      border-bottom-color: var(--fill-color);\n",
              "      border-left-color: var(--fill-color);\n",
              "    }\n",
              "    20% {\n",
              "      border-color: transparent;\n",
              "      border-left-color: var(--fill-color);\n",
              "      border-top-color: var(--fill-color);\n",
              "    }\n",
              "    30% {\n",
              "      border-color: transparent;\n",
              "      border-left-color: var(--fill-color);\n",
              "      border-top-color: var(--fill-color);\n",
              "      border-right-color: var(--fill-color);\n",
              "    }\n",
              "    40% {\n",
              "      border-color: transparent;\n",
              "      border-right-color: var(--fill-color);\n",
              "      border-top-color: var(--fill-color);\n",
              "    }\n",
              "    60% {\n",
              "      border-color: transparent;\n",
              "      border-right-color: var(--fill-color);\n",
              "    }\n",
              "    80% {\n",
              "      border-color: transparent;\n",
              "      border-right-color: var(--fill-color);\n",
              "      border-bottom-color: var(--fill-color);\n",
              "    }\n",
              "    90% {\n",
              "      border-color: transparent;\n",
              "      border-bottom-color: var(--fill-color);\n",
              "    }\n",
              "  }\n",
              "</style>\n",
              "\n",
              "  <script>\n",
              "    async function quickchart(key) {\n",
              "      const quickchartButtonEl =\n",
              "        document.querySelector('#' + key + ' button');\n",
              "      quickchartButtonEl.disabled = true;  // To prevent multiple clicks.\n",
              "      quickchartButtonEl.classList.add('colab-df-spinner');\n",
              "      try {\n",
              "        const charts = await google.colab.kernel.invokeFunction(\n",
              "            'suggestCharts', [key], {});\n",
              "      } catch (error) {\n",
              "        console.error('Error during call to suggestCharts:', error);\n",
              "      }\n",
              "      quickchartButtonEl.classList.remove('colab-df-spinner');\n",
              "      quickchartButtonEl.classList.add('colab-df-quickchart-complete');\n",
              "    }\n",
              "    (() => {\n",
              "      let quickchartButtonEl =\n",
              "        document.querySelector('#df-190354b1-7fa7-41c5-893c-58133c403cc6 button');\n",
              "      quickchartButtonEl.style.display =\n",
              "        google.colab.kernel.accessAllowed ? 'block' : 'none';\n",
              "    })();\n",
              "  </script>\n",
              "</div>\n",
              "\n",
              "    </div>\n",
              "  </div>\n"
            ],
            "application/vnd.google.colaboratory.intrinsic+json": {
              "type": "dataframe",
              "variable_name": "dfRet"
            }
          },
          "metadata": {},
          "execution_count": 4
        }
      ],
      "source": [
        "dfRet.head()"
      ]
    },
    {
      "cell_type": "code",
      "source": [
        "dfRet.describe()\n"
      ],
      "metadata": {
        "colab": {
          "base_uri": "https://localhost:8080/",
          "height": 300
        },
        "id": "e1leuR58JD_k",
        "outputId": "df96c921-f135-41f1-bb1b-ed2e42a38de0"
      },
      "execution_count": null,
      "outputs": [
        {
          "output_type": "execute_result",
          "data": {
            "text/plain": [
              "            User_ID     Occupation  Marital_Status  Product_Category_1  \\\n",
              "count  5.500680e+05  550068.000000   550068.000000       550068.000000   \n",
              "mean   1.003029e+06       8.076707        0.409653            5.404270   \n",
              "std    1.727592e+03       6.522660        0.491770            3.936211   \n",
              "min    1.000001e+06       0.000000        0.000000            1.000000   \n",
              "25%    1.001516e+06       2.000000        0.000000            1.000000   \n",
              "50%    1.003077e+06       7.000000        0.000000            5.000000   \n",
              "75%    1.004478e+06      14.000000        1.000000            8.000000   \n",
              "max    1.006040e+06      20.000000        1.000000           20.000000   \n",
              "\n",
              "       Product_Category_2  Product_Category_3       Purchase  \n",
              "count       376430.000000       166821.000000  550068.000000  \n",
              "mean             9.842329           12.668243    9263.968713  \n",
              "std              5.086590            4.125338    5023.065394  \n",
              "min              2.000000            3.000000      12.000000  \n",
              "25%              5.000000            9.000000    5823.000000  \n",
              "50%              9.000000           14.000000    8047.000000  \n",
              "75%             15.000000           16.000000   12054.000000  \n",
              "max             18.000000           18.000000   23961.000000  "
            ],
            "text/html": [
              "\n",
              "  <div id=\"df-fee0e9e1-9056-4085-8801-0709af678815\" class=\"colab-df-container\">\n",
              "    <div>\n",
              "<style scoped>\n",
              "    .dataframe tbody tr th:only-of-type {\n",
              "        vertical-align: middle;\n",
              "    }\n",
              "\n",
              "    .dataframe tbody tr th {\n",
              "        vertical-align: top;\n",
              "    }\n",
              "\n",
              "    .dataframe thead th {\n",
              "        text-align: right;\n",
              "    }\n",
              "</style>\n",
              "<table border=\"1\" class=\"dataframe\">\n",
              "  <thead>\n",
              "    <tr style=\"text-align: right;\">\n",
              "      <th></th>\n",
              "      <th>User_ID</th>\n",
              "      <th>Occupation</th>\n",
              "      <th>Marital_Status</th>\n",
              "      <th>Product_Category_1</th>\n",
              "      <th>Product_Category_2</th>\n",
              "      <th>Product_Category_3</th>\n",
              "      <th>Purchase</th>\n",
              "    </tr>\n",
              "  </thead>\n",
              "  <tbody>\n",
              "    <tr>\n",
              "      <th>count</th>\n",
              "      <td>5.500680e+05</td>\n",
              "      <td>550068.000000</td>\n",
              "      <td>550068.000000</td>\n",
              "      <td>550068.000000</td>\n",
              "      <td>376430.000000</td>\n",
              "      <td>166821.000000</td>\n",
              "      <td>550068.000000</td>\n",
              "    </tr>\n",
              "    <tr>\n",
              "      <th>mean</th>\n",
              "      <td>1.003029e+06</td>\n",
              "      <td>8.076707</td>\n",
              "      <td>0.409653</td>\n",
              "      <td>5.404270</td>\n",
              "      <td>9.842329</td>\n",
              "      <td>12.668243</td>\n",
              "      <td>9263.968713</td>\n",
              "    </tr>\n",
              "    <tr>\n",
              "      <th>std</th>\n",
              "      <td>1.727592e+03</td>\n",
              "      <td>6.522660</td>\n",
              "      <td>0.491770</td>\n",
              "      <td>3.936211</td>\n",
              "      <td>5.086590</td>\n",
              "      <td>4.125338</td>\n",
              "      <td>5023.065394</td>\n",
              "    </tr>\n",
              "    <tr>\n",
              "      <th>min</th>\n",
              "      <td>1.000001e+06</td>\n",
              "      <td>0.000000</td>\n",
              "      <td>0.000000</td>\n",
              "      <td>1.000000</td>\n",
              "      <td>2.000000</td>\n",
              "      <td>3.000000</td>\n",
              "      <td>12.000000</td>\n",
              "    </tr>\n",
              "    <tr>\n",
              "      <th>25%</th>\n",
              "      <td>1.001516e+06</td>\n",
              "      <td>2.000000</td>\n",
              "      <td>0.000000</td>\n",
              "      <td>1.000000</td>\n",
              "      <td>5.000000</td>\n",
              "      <td>9.000000</td>\n",
              "      <td>5823.000000</td>\n",
              "    </tr>\n",
              "    <tr>\n",
              "      <th>50%</th>\n",
              "      <td>1.003077e+06</td>\n",
              "      <td>7.000000</td>\n",
              "      <td>0.000000</td>\n",
              "      <td>5.000000</td>\n",
              "      <td>9.000000</td>\n",
              "      <td>14.000000</td>\n",
              "      <td>8047.000000</td>\n",
              "    </tr>\n",
              "    <tr>\n",
              "      <th>75%</th>\n",
              "      <td>1.004478e+06</td>\n",
              "      <td>14.000000</td>\n",
              "      <td>1.000000</td>\n",
              "      <td>8.000000</td>\n",
              "      <td>15.000000</td>\n",
              "      <td>16.000000</td>\n",
              "      <td>12054.000000</td>\n",
              "    </tr>\n",
              "    <tr>\n",
              "      <th>max</th>\n",
              "      <td>1.006040e+06</td>\n",
              "      <td>20.000000</td>\n",
              "      <td>1.000000</td>\n",
              "      <td>20.000000</td>\n",
              "      <td>18.000000</td>\n",
              "      <td>18.000000</td>\n",
              "      <td>23961.000000</td>\n",
              "    </tr>\n",
              "  </tbody>\n",
              "</table>\n",
              "</div>\n",
              "    <div class=\"colab-df-buttons\">\n",
              "\n",
              "  <div class=\"colab-df-container\">\n",
              "    <button class=\"colab-df-convert\" onclick=\"convertToInteractive('df-fee0e9e1-9056-4085-8801-0709af678815')\"\n",
              "            title=\"Convert this dataframe to an interactive table.\"\n",
              "            style=\"display:none;\">\n",
              "\n",
              "  <svg xmlns=\"http://www.w3.org/2000/svg\" height=\"24px\" viewBox=\"0 -960 960 960\">\n",
              "    <path d=\"M120-120v-720h720v720H120Zm60-500h600v-160H180v160Zm220 220h160v-160H400v160Zm0 220h160v-160H400v160ZM180-400h160v-160H180v160Zm440 0h160v-160H620v160ZM180-180h160v-160H180v160Zm440 0h160v-160H620v160Z\"/>\n",
              "  </svg>\n",
              "    </button>\n",
              "\n",
              "  <style>\n",
              "    .colab-df-container {\n",
              "      display:flex;\n",
              "      gap: 12px;\n",
              "    }\n",
              "\n",
              "    .colab-df-convert {\n",
              "      background-color: #E8F0FE;\n",
              "      border: none;\n",
              "      border-radius: 50%;\n",
              "      cursor: pointer;\n",
              "      display: none;\n",
              "      fill: #1967D2;\n",
              "      height: 32px;\n",
              "      padding: 0 0 0 0;\n",
              "      width: 32px;\n",
              "    }\n",
              "\n",
              "    .colab-df-convert:hover {\n",
              "      background-color: #E2EBFA;\n",
              "      box-shadow: 0px 1px 2px rgba(60, 64, 67, 0.3), 0px 1px 3px 1px rgba(60, 64, 67, 0.15);\n",
              "      fill: #174EA6;\n",
              "    }\n",
              "\n",
              "    .colab-df-buttons div {\n",
              "      margin-bottom: 4px;\n",
              "    }\n",
              "\n",
              "    [theme=dark] .colab-df-convert {\n",
              "      background-color: #3B4455;\n",
              "      fill: #D2E3FC;\n",
              "    }\n",
              "\n",
              "    [theme=dark] .colab-df-convert:hover {\n",
              "      background-color: #434B5C;\n",
              "      box-shadow: 0px 1px 3px 1px rgba(0, 0, 0, 0.15);\n",
              "      filter: drop-shadow(0px 1px 2px rgba(0, 0, 0, 0.3));\n",
              "      fill: #FFFFFF;\n",
              "    }\n",
              "  </style>\n",
              "\n",
              "    <script>\n",
              "      const buttonEl =\n",
              "        document.querySelector('#df-fee0e9e1-9056-4085-8801-0709af678815 button.colab-df-convert');\n",
              "      buttonEl.style.display =\n",
              "        google.colab.kernel.accessAllowed ? 'block' : 'none';\n",
              "\n",
              "      async function convertToInteractive(key) {\n",
              "        const element = document.querySelector('#df-fee0e9e1-9056-4085-8801-0709af678815');\n",
              "        const dataTable =\n",
              "          await google.colab.kernel.invokeFunction('convertToInteractive',\n",
              "                                                    [key], {});\n",
              "        if (!dataTable) return;\n",
              "\n",
              "        const docLinkHtml = 'Like what you see? Visit the ' +\n",
              "          '<a target=\"_blank\" href=https://colab.research.google.com/notebooks/data_table.ipynb>data table notebook</a>'\n",
              "          + ' to learn more about interactive tables.';\n",
              "        element.innerHTML = '';\n",
              "        dataTable['output_type'] = 'display_data';\n",
              "        await google.colab.output.renderOutput(dataTable, element);\n",
              "        const docLink = document.createElement('div');\n",
              "        docLink.innerHTML = docLinkHtml;\n",
              "        element.appendChild(docLink);\n",
              "      }\n",
              "    </script>\n",
              "  </div>\n",
              "\n",
              "\n",
              "<div id=\"df-9503ccb5-8323-438a-83a5-3cf5c9a039c0\">\n",
              "  <button class=\"colab-df-quickchart\" onclick=\"quickchart('df-9503ccb5-8323-438a-83a5-3cf5c9a039c0')\"\n",
              "            title=\"Suggest charts\"\n",
              "            style=\"display:none;\">\n",
              "\n",
              "<svg xmlns=\"http://www.w3.org/2000/svg\" height=\"24px\"viewBox=\"0 0 24 24\"\n",
              "     width=\"24px\">\n",
              "    <g>\n",
              "        <path d=\"M19 3H5c-1.1 0-2 .9-2 2v14c0 1.1.9 2 2 2h14c1.1 0 2-.9 2-2V5c0-1.1-.9-2-2-2zM9 17H7v-7h2v7zm4 0h-2V7h2v10zm4 0h-2v-4h2v4z\"/>\n",
              "    </g>\n",
              "</svg>\n",
              "  </button>\n",
              "\n",
              "<style>\n",
              "  .colab-df-quickchart {\n",
              "      --bg-color: #E8F0FE;\n",
              "      --fill-color: #1967D2;\n",
              "      --hover-bg-color: #E2EBFA;\n",
              "      --hover-fill-color: #174EA6;\n",
              "      --disabled-fill-color: #AAA;\n",
              "      --disabled-bg-color: #DDD;\n",
              "  }\n",
              "\n",
              "  [theme=dark] .colab-df-quickchart {\n",
              "      --bg-color: #3B4455;\n",
              "      --fill-color: #D2E3FC;\n",
              "      --hover-bg-color: #434B5C;\n",
              "      --hover-fill-color: #FFFFFF;\n",
              "      --disabled-bg-color: #3B4455;\n",
              "      --disabled-fill-color: #666;\n",
              "  }\n",
              "\n",
              "  .colab-df-quickchart {\n",
              "    background-color: var(--bg-color);\n",
              "    border: none;\n",
              "    border-radius: 50%;\n",
              "    cursor: pointer;\n",
              "    display: none;\n",
              "    fill: var(--fill-color);\n",
              "    height: 32px;\n",
              "    padding: 0;\n",
              "    width: 32px;\n",
              "  }\n",
              "\n",
              "  .colab-df-quickchart:hover {\n",
              "    background-color: var(--hover-bg-color);\n",
              "    box-shadow: 0 1px 2px rgba(60, 64, 67, 0.3), 0 1px 3px 1px rgba(60, 64, 67, 0.15);\n",
              "    fill: var(--button-hover-fill-color);\n",
              "  }\n",
              "\n",
              "  .colab-df-quickchart-complete:disabled,\n",
              "  .colab-df-quickchart-complete:disabled:hover {\n",
              "    background-color: var(--disabled-bg-color);\n",
              "    fill: var(--disabled-fill-color);\n",
              "    box-shadow: none;\n",
              "  }\n",
              "\n",
              "  .colab-df-spinner {\n",
              "    border: 2px solid var(--fill-color);\n",
              "    border-color: transparent;\n",
              "    border-bottom-color: var(--fill-color);\n",
              "    animation:\n",
              "      spin 1s steps(1) infinite;\n",
              "  }\n",
              "\n",
              "  @keyframes spin {\n",
              "    0% {\n",
              "      border-color: transparent;\n",
              "      border-bottom-color: var(--fill-color);\n",
              "      border-left-color: var(--fill-color);\n",
              "    }\n",
              "    20% {\n",
              "      border-color: transparent;\n",
              "      border-left-color: var(--fill-color);\n",
              "      border-top-color: var(--fill-color);\n",
              "    }\n",
              "    30% {\n",
              "      border-color: transparent;\n",
              "      border-left-color: var(--fill-color);\n",
              "      border-top-color: var(--fill-color);\n",
              "      border-right-color: var(--fill-color);\n",
              "    }\n",
              "    40% {\n",
              "      border-color: transparent;\n",
              "      border-right-color: var(--fill-color);\n",
              "      border-top-color: var(--fill-color);\n",
              "    }\n",
              "    60% {\n",
              "      border-color: transparent;\n",
              "      border-right-color: var(--fill-color);\n",
              "    }\n",
              "    80% {\n",
              "      border-color: transparent;\n",
              "      border-right-color: var(--fill-color);\n",
              "      border-bottom-color: var(--fill-color);\n",
              "    }\n",
              "    90% {\n",
              "      border-color: transparent;\n",
              "      border-bottom-color: var(--fill-color);\n",
              "    }\n",
              "  }\n",
              "</style>\n",
              "\n",
              "  <script>\n",
              "    async function quickchart(key) {\n",
              "      const quickchartButtonEl =\n",
              "        document.querySelector('#' + key + ' button');\n",
              "      quickchartButtonEl.disabled = true;  // To prevent multiple clicks.\n",
              "      quickchartButtonEl.classList.add('colab-df-spinner');\n",
              "      try {\n",
              "        const charts = await google.colab.kernel.invokeFunction(\n",
              "            'suggestCharts', [key], {});\n",
              "      } catch (error) {\n",
              "        console.error('Error during call to suggestCharts:', error);\n",
              "      }\n",
              "      quickchartButtonEl.classList.remove('colab-df-spinner');\n",
              "      quickchartButtonEl.classList.add('colab-df-quickchart-complete');\n",
              "    }\n",
              "    (() => {\n",
              "      let quickchartButtonEl =\n",
              "        document.querySelector('#df-9503ccb5-8323-438a-83a5-3cf5c9a039c0 button');\n",
              "      quickchartButtonEl.style.display =\n",
              "        google.colab.kernel.accessAllowed ? 'block' : 'none';\n",
              "    })();\n",
              "  </script>\n",
              "</div>\n",
              "\n",
              "    </div>\n",
              "  </div>\n"
            ],
            "application/vnd.google.colaboratory.intrinsic+json": {
              "type": "dataframe",
              "summary": "{\n  \"name\": \"dfRet\",\n  \"rows\": 8,\n  \"fields\": [\n    {\n      \"column\": \"User_ID\",\n      \"properties\": {\n        \"dtype\": \"number\",\n        \"std\": 367117.89753373514,\n        \"min\": 1727.5915855305516,\n        \"max\": 1006040.0,\n        \"num_unique_values\": 8,\n        \"samples\": [\n          1003028.8424013031,\n          1003077.0,\n          550068.0\n        ],\n        \"semantic_type\": \"\",\n        \"description\": \"\"\n      }\n    },\n    {\n      \"column\": \"Occupation\",\n      \"properties\": {\n        \"dtype\": \"number\",\n        \"std\": 194475.49735336297,\n        \"min\": 0.0,\n        \"max\": 550068.0,\n        \"num_unique_values\": 8,\n        \"samples\": [\n          8.076706879876669,\n          7.0,\n          550068.0\n        ],\n        \"semantic_type\": \"\",\n        \"description\": \"\"\n      }\n    },\n    {\n      \"column\": \"Marital_Status\",\n      \"properties\": {\n        \"dtype\": \"number\",\n        \"std\": 194478.25991330715,\n        \"min\": 0.0,\n        \"max\": 550068.0,\n        \"num_unique_values\": 5,\n        \"samples\": [\n          0.40965298835780306,\n          1.0,\n          0.49177012631733\n        ],\n        \"semantic_type\": \"\",\n        \"description\": \"\"\n      }\n    },\n    {\n      \"column\": \"Product_Category_1\",\n      \"properties\": {\n        \"dtype\": \"number\",\n        \"std\": 194476.16701795228,\n        \"min\": 1.0,\n        \"max\": 550068.0,\n        \"num_unique_values\": 7,\n        \"samples\": [\n          550068.0,\n          5.404270017525106,\n          8.0\n        ],\n        \"semantic_type\": \"\",\n        \"description\": \"\"\n      }\n    },\n    {\n      \"column\": \"Product_Category_2\",\n      \"properties\": {\n        \"dtype\": \"number\",\n        \"std\": 133084.87402923752,\n        \"min\": 2.0,\n        \"max\": 376430.0,\n        \"num_unique_values\": 8,\n        \"samples\": [\n          9.842329251122386,\n          9.0,\n          376430.0\n        ],\n        \"semantic_type\": \"\",\n        \"description\": \"\"\n      }\n    },\n    {\n      \"column\": \"Product_Category_3\",\n      \"properties\": {\n        \"dtype\": \"number\",\n        \"std\": 58976.25175409139,\n        \"min\": 3.0,\n        \"max\": 166821.0,\n        \"num_unique_values\": 8,\n        \"samples\": [\n          12.668243206790512,\n          14.0,\n          166821.0\n        ],\n        \"semantic_type\": \"\",\n        \"description\": \"\"\n      }\n    },\n    {\n      \"column\": \"Purchase\",\n      \"properties\": {\n        \"dtype\": \"number\",\n        \"std\": 191363.80903912007,\n        \"min\": 12.0,\n        \"max\": 550068.0,\n        \"num_unique_values\": 8,\n        \"samples\": [\n          9263.968712959126,\n          8047.0,\n          550068.0\n        ],\n        \"semantic_type\": \"\",\n        \"description\": \"\"\n      }\n    }\n  ]\n}"
            }
          },
          "metadata": {},
          "execution_count": 5
        }
      ]
    },
    {
      "cell_type": "code",
      "source": [
        "dfRet.duplicated().value_counts()"
      ],
      "metadata": {
        "colab": {
          "base_uri": "https://localhost:8080/"
        },
        "id": "T0RBrM4IJRkY",
        "outputId": "cc36e027-c3ee-45e7-ebff-ae338632f239"
      },
      "execution_count": null,
      "outputs": [
        {
          "output_type": "execute_result",
          "data": {
            "text/plain": [
              "False    550068\n",
              "Name: count, dtype: int64"
            ]
          },
          "metadata": {},
          "execution_count": 6
        }
      ]
    },
    {
      "cell_type": "markdown",
      "source": [
        "There is no duplication."
      ],
      "metadata": {
        "id": "40RMlnoeJrFb"
      }
    },
    {
      "cell_type": "code",
      "source": [
        "dfRet.isna().sum()"
      ],
      "metadata": {
        "colab": {
          "base_uri": "https://localhost:8080/"
        },
        "id": "jYb5o7HVJ9Oi",
        "outputId": "ff39ef13-9d2a-4870-aa3b-bc65ff19dc21"
      },
      "execution_count": null,
      "outputs": [
        {
          "output_type": "execute_result",
          "data": {
            "text/plain": [
              "User_ID                            0\n",
              "Product_ID                         0\n",
              "Gender                             0\n",
              "Age                                0\n",
              "Occupation                         0\n",
              "City_Category                      0\n",
              "Stay_In_Current_City_Years         0\n",
              "Marital_Status                     0\n",
              "Product_Category_1                 0\n",
              "Product_Category_2            173638\n",
              "Product_Category_3            383247\n",
              "Purchase                           0\n",
              "dtype: int64"
            ]
          },
          "metadata": {},
          "execution_count": 53
        }
      ]
    },
    {
      "cell_type": "markdown",
      "source": [
        "There are missed values."
      ],
      "metadata": {
        "id": "R5iNG-BqkSE9"
      }
    },
    {
      "cell_type": "markdown",
      "source": [
        "# Prepare Data"
      ],
      "metadata": {
        "id": "np_ySEolt_G6"
      }
    },
    {
      "cell_type": "code",
      "execution_count": null,
      "metadata": {
        "colab": {
          "base_uri": "https://localhost:8080/",
          "height": 455
        },
        "id": "60g-QmqYc52H",
        "outputId": "330ece31-0d82-49a7-f2cb-2df3386267ea"
      },
      "outputs": [
        {
          "output_type": "execute_result",
          "data": {
            "text/plain": [
              "         Purchase_count  Purchase_sum\n",
              "User_ID                              \n",
              "1000001              35        334093\n",
              "1000002              77        810472\n",
              "1000003              29        341635\n",
              "1000004              14        206468\n",
              "1000005             106        821001\n",
              "...                 ...           ...\n",
              "1006036             514       4116058\n",
              "1006037             122       1119538\n",
              "1006038              12         90034\n",
              "1006039              74        590319\n",
              "1006040             180       1653299\n",
              "\n",
              "[5891 rows x 2 columns]"
            ],
            "text/html": [
              "\n",
              "  <div id=\"df-9f769ac5-f269-482d-b239-85d8c6e14ce3\" class=\"colab-df-container\">\n",
              "    <div>\n",
              "<style scoped>\n",
              "    .dataframe tbody tr th:only-of-type {\n",
              "        vertical-align: middle;\n",
              "    }\n",
              "\n",
              "    .dataframe tbody tr th {\n",
              "        vertical-align: top;\n",
              "    }\n",
              "\n",
              "    .dataframe thead th {\n",
              "        text-align: right;\n",
              "    }\n",
              "</style>\n",
              "<table border=\"1\" class=\"dataframe\">\n",
              "  <thead>\n",
              "    <tr style=\"text-align: right;\">\n",
              "      <th></th>\n",
              "      <th>Purchase_count</th>\n",
              "      <th>Purchase_sum</th>\n",
              "    </tr>\n",
              "    <tr>\n",
              "      <th>User_ID</th>\n",
              "      <th></th>\n",
              "      <th></th>\n",
              "    </tr>\n",
              "  </thead>\n",
              "  <tbody>\n",
              "    <tr>\n",
              "      <th>1000001</th>\n",
              "      <td>35</td>\n",
              "      <td>334093</td>\n",
              "    </tr>\n",
              "    <tr>\n",
              "      <th>1000002</th>\n",
              "      <td>77</td>\n",
              "      <td>810472</td>\n",
              "    </tr>\n",
              "    <tr>\n",
              "      <th>1000003</th>\n",
              "      <td>29</td>\n",
              "      <td>341635</td>\n",
              "    </tr>\n",
              "    <tr>\n",
              "      <th>1000004</th>\n",
              "      <td>14</td>\n",
              "      <td>206468</td>\n",
              "    </tr>\n",
              "    <tr>\n",
              "      <th>1000005</th>\n",
              "      <td>106</td>\n",
              "      <td>821001</td>\n",
              "    </tr>\n",
              "    <tr>\n",
              "      <th>...</th>\n",
              "      <td>...</td>\n",
              "      <td>...</td>\n",
              "    </tr>\n",
              "    <tr>\n",
              "      <th>1006036</th>\n",
              "      <td>514</td>\n",
              "      <td>4116058</td>\n",
              "    </tr>\n",
              "    <tr>\n",
              "      <th>1006037</th>\n",
              "      <td>122</td>\n",
              "      <td>1119538</td>\n",
              "    </tr>\n",
              "    <tr>\n",
              "      <th>1006038</th>\n",
              "      <td>12</td>\n",
              "      <td>90034</td>\n",
              "    </tr>\n",
              "    <tr>\n",
              "      <th>1006039</th>\n",
              "      <td>74</td>\n",
              "      <td>590319</td>\n",
              "    </tr>\n",
              "    <tr>\n",
              "      <th>1006040</th>\n",
              "      <td>180</td>\n",
              "      <td>1653299</td>\n",
              "    </tr>\n",
              "  </tbody>\n",
              "</table>\n",
              "<p>5891 rows × 2 columns</p>\n",
              "</div>\n",
              "    <div class=\"colab-df-buttons\">\n",
              "\n",
              "  <div class=\"colab-df-container\">\n",
              "    <button class=\"colab-df-convert\" onclick=\"convertToInteractive('df-9f769ac5-f269-482d-b239-85d8c6e14ce3')\"\n",
              "            title=\"Convert this dataframe to an interactive table.\"\n",
              "            style=\"display:none;\">\n",
              "\n",
              "  <svg xmlns=\"http://www.w3.org/2000/svg\" height=\"24px\" viewBox=\"0 -960 960 960\">\n",
              "    <path d=\"M120-120v-720h720v720H120Zm60-500h600v-160H180v160Zm220 220h160v-160H400v160Zm0 220h160v-160H400v160ZM180-400h160v-160H180v160Zm440 0h160v-160H620v160ZM180-180h160v-160H180v160Zm440 0h160v-160H620v160Z\"/>\n",
              "  </svg>\n",
              "    </button>\n",
              "\n",
              "  <style>\n",
              "    .colab-df-container {\n",
              "      display:flex;\n",
              "      gap: 12px;\n",
              "    }\n",
              "\n",
              "    .colab-df-convert {\n",
              "      background-color: #E8F0FE;\n",
              "      border: none;\n",
              "      border-radius: 50%;\n",
              "      cursor: pointer;\n",
              "      display: none;\n",
              "      fill: #1967D2;\n",
              "      height: 32px;\n",
              "      padding: 0 0 0 0;\n",
              "      width: 32px;\n",
              "    }\n",
              "\n",
              "    .colab-df-convert:hover {\n",
              "      background-color: #E2EBFA;\n",
              "      box-shadow: 0px 1px 2px rgba(60, 64, 67, 0.3), 0px 1px 3px 1px rgba(60, 64, 67, 0.15);\n",
              "      fill: #174EA6;\n",
              "    }\n",
              "\n",
              "    .colab-df-buttons div {\n",
              "      margin-bottom: 4px;\n",
              "    }\n",
              "\n",
              "    [theme=dark] .colab-df-convert {\n",
              "      background-color: #3B4455;\n",
              "      fill: #D2E3FC;\n",
              "    }\n",
              "\n",
              "    [theme=dark] .colab-df-convert:hover {\n",
              "      background-color: #434B5C;\n",
              "      box-shadow: 0px 1px 3px 1px rgba(0, 0, 0, 0.15);\n",
              "      filter: drop-shadow(0px 1px 2px rgba(0, 0, 0, 0.3));\n",
              "      fill: #FFFFFF;\n",
              "    }\n",
              "  </style>\n",
              "\n",
              "    <script>\n",
              "      const buttonEl =\n",
              "        document.querySelector('#df-9f769ac5-f269-482d-b239-85d8c6e14ce3 button.colab-df-convert');\n",
              "      buttonEl.style.display =\n",
              "        google.colab.kernel.accessAllowed ? 'block' : 'none';\n",
              "\n",
              "      async function convertToInteractive(key) {\n",
              "        const element = document.querySelector('#df-9f769ac5-f269-482d-b239-85d8c6e14ce3');\n",
              "        const dataTable =\n",
              "          await google.colab.kernel.invokeFunction('convertToInteractive',\n",
              "                                                    [key], {});\n",
              "        if (!dataTable) return;\n",
              "\n",
              "        const docLinkHtml = 'Like what you see? Visit the ' +\n",
              "          '<a target=\"_blank\" href=https://colab.research.google.com/notebooks/data_table.ipynb>data table notebook</a>'\n",
              "          + ' to learn more about interactive tables.';\n",
              "        element.innerHTML = '';\n",
              "        dataTable['output_type'] = 'display_data';\n",
              "        await google.colab.output.renderOutput(dataTable, element);\n",
              "        const docLink = document.createElement('div');\n",
              "        docLink.innerHTML = docLinkHtml;\n",
              "        element.appendChild(docLink);\n",
              "      }\n",
              "    </script>\n",
              "  </div>\n",
              "\n",
              "\n",
              "<div id=\"df-6f8c2fe2-2a34-406d-b847-4f2476c5397c\">\n",
              "  <button class=\"colab-df-quickchart\" onclick=\"quickchart('df-6f8c2fe2-2a34-406d-b847-4f2476c5397c')\"\n",
              "            title=\"Suggest charts\"\n",
              "            style=\"display:none;\">\n",
              "\n",
              "<svg xmlns=\"http://www.w3.org/2000/svg\" height=\"24px\"viewBox=\"0 0 24 24\"\n",
              "     width=\"24px\">\n",
              "    <g>\n",
              "        <path d=\"M19 3H5c-1.1 0-2 .9-2 2v14c0 1.1.9 2 2 2h14c1.1 0 2-.9 2-2V5c0-1.1-.9-2-2-2zM9 17H7v-7h2v7zm4 0h-2V7h2v10zm4 0h-2v-4h2v4z\"/>\n",
              "    </g>\n",
              "</svg>\n",
              "  </button>\n",
              "\n",
              "<style>\n",
              "  .colab-df-quickchart {\n",
              "      --bg-color: #E8F0FE;\n",
              "      --fill-color: #1967D2;\n",
              "      --hover-bg-color: #E2EBFA;\n",
              "      --hover-fill-color: #174EA6;\n",
              "      --disabled-fill-color: #AAA;\n",
              "      --disabled-bg-color: #DDD;\n",
              "  }\n",
              "\n",
              "  [theme=dark] .colab-df-quickchart {\n",
              "      --bg-color: #3B4455;\n",
              "      --fill-color: #D2E3FC;\n",
              "      --hover-bg-color: #434B5C;\n",
              "      --hover-fill-color: #FFFFFF;\n",
              "      --disabled-bg-color: #3B4455;\n",
              "      --disabled-fill-color: #666;\n",
              "  }\n",
              "\n",
              "  .colab-df-quickchart {\n",
              "    background-color: var(--bg-color);\n",
              "    border: none;\n",
              "    border-radius: 50%;\n",
              "    cursor: pointer;\n",
              "    display: none;\n",
              "    fill: var(--fill-color);\n",
              "    height: 32px;\n",
              "    padding: 0;\n",
              "    width: 32px;\n",
              "  }\n",
              "\n",
              "  .colab-df-quickchart:hover {\n",
              "    background-color: var(--hover-bg-color);\n",
              "    box-shadow: 0 1px 2px rgba(60, 64, 67, 0.3), 0 1px 3px 1px rgba(60, 64, 67, 0.15);\n",
              "    fill: var(--button-hover-fill-color);\n",
              "  }\n",
              "\n",
              "  .colab-df-quickchart-complete:disabled,\n",
              "  .colab-df-quickchart-complete:disabled:hover {\n",
              "    background-color: var(--disabled-bg-color);\n",
              "    fill: var(--disabled-fill-color);\n",
              "    box-shadow: none;\n",
              "  }\n",
              "\n",
              "  .colab-df-spinner {\n",
              "    border: 2px solid var(--fill-color);\n",
              "    border-color: transparent;\n",
              "    border-bottom-color: var(--fill-color);\n",
              "    animation:\n",
              "      spin 1s steps(1) infinite;\n",
              "  }\n",
              "\n",
              "  @keyframes spin {\n",
              "    0% {\n",
              "      border-color: transparent;\n",
              "      border-bottom-color: var(--fill-color);\n",
              "      border-left-color: var(--fill-color);\n",
              "    }\n",
              "    20% {\n",
              "      border-color: transparent;\n",
              "      border-left-color: var(--fill-color);\n",
              "      border-top-color: var(--fill-color);\n",
              "    }\n",
              "    30% {\n",
              "      border-color: transparent;\n",
              "      border-left-color: var(--fill-color);\n",
              "      border-top-color: var(--fill-color);\n",
              "      border-right-color: var(--fill-color);\n",
              "    }\n",
              "    40% {\n",
              "      border-color: transparent;\n",
              "      border-right-color: var(--fill-color);\n",
              "      border-top-color: var(--fill-color);\n",
              "    }\n",
              "    60% {\n",
              "      border-color: transparent;\n",
              "      border-right-color: var(--fill-color);\n",
              "    }\n",
              "    80% {\n",
              "      border-color: transparent;\n",
              "      border-right-color: var(--fill-color);\n",
              "      border-bottom-color: var(--fill-color);\n",
              "    }\n",
              "    90% {\n",
              "      border-color: transparent;\n",
              "      border-bottom-color: var(--fill-color);\n",
              "    }\n",
              "  }\n",
              "</style>\n",
              "\n",
              "  <script>\n",
              "    async function quickchart(key) {\n",
              "      const quickchartButtonEl =\n",
              "        document.querySelector('#' + key + ' button');\n",
              "      quickchartButtonEl.disabled = true;  // To prevent multiple clicks.\n",
              "      quickchartButtonEl.classList.add('colab-df-spinner');\n",
              "      try {\n",
              "        const charts = await google.colab.kernel.invokeFunction(\n",
              "            'suggestCharts', [key], {});\n",
              "      } catch (error) {\n",
              "        console.error('Error during call to suggestCharts:', error);\n",
              "      }\n",
              "      quickchartButtonEl.classList.remove('colab-df-spinner');\n",
              "      quickchartButtonEl.classList.add('colab-df-quickchart-complete');\n",
              "    }\n",
              "    (() => {\n",
              "      let quickchartButtonEl =\n",
              "        document.querySelector('#df-6f8c2fe2-2a34-406d-b847-4f2476c5397c button');\n",
              "      quickchartButtonEl.style.display =\n",
              "        google.colab.kernel.accessAllowed ? 'block' : 'none';\n",
              "    })();\n",
              "  </script>\n",
              "</div>\n",
              "\n",
              "  <div id=\"id_8cdd2bc4-8627-4210-bbf2-f6eaa6e1f951\">\n",
              "    <style>\n",
              "      .colab-df-generate {\n",
              "        background-color: #E8F0FE;\n",
              "        border: none;\n",
              "        border-radius: 50%;\n",
              "        cursor: pointer;\n",
              "        display: none;\n",
              "        fill: #1967D2;\n",
              "        height: 32px;\n",
              "        padding: 0 0 0 0;\n",
              "        width: 32px;\n",
              "      }\n",
              "\n",
              "      .colab-df-generate:hover {\n",
              "        background-color: #E2EBFA;\n",
              "        box-shadow: 0px 1px 2px rgba(60, 64, 67, 0.3), 0px 1px 3px 1px rgba(60, 64, 67, 0.15);\n",
              "        fill: #174EA6;\n",
              "      }\n",
              "\n",
              "      [theme=dark] .colab-df-generate {\n",
              "        background-color: #3B4455;\n",
              "        fill: #D2E3FC;\n",
              "      }\n",
              "\n",
              "      [theme=dark] .colab-df-generate:hover {\n",
              "        background-color: #434B5C;\n",
              "        box-shadow: 0px 1px 3px 1px rgba(0, 0, 0, 0.15);\n",
              "        filter: drop-shadow(0px 1px 2px rgba(0, 0, 0, 0.3));\n",
              "        fill: #FFFFFF;\n",
              "      }\n",
              "    </style>\n",
              "    <button class=\"colab-df-generate\" onclick=\"generateWithVariable('dfRtc')\"\n",
              "            title=\"Generate code using this dataframe.\"\n",
              "            style=\"display:none;\">\n",
              "\n",
              "  <svg xmlns=\"http://www.w3.org/2000/svg\" height=\"24px\"viewBox=\"0 0 24 24\"\n",
              "       width=\"24px\">\n",
              "    <path d=\"M7,19H8.4L18.45,9,17,7.55,7,17.6ZM5,21V16.75L18.45,3.32a2,2,0,0,1,2.83,0l1.4,1.43a1.91,1.91,0,0,1,.58,1.4,1.91,1.91,0,0,1-.58,1.4L9.25,21ZM18.45,9,17,7.55Zm-12,3A5.31,5.31,0,0,0,4.9,8.1,5.31,5.31,0,0,0,1,6.5,5.31,5.31,0,0,0,4.9,4.9,5.31,5.31,0,0,0,6.5,1,5.31,5.31,0,0,0,8.1,4.9,5.31,5.31,0,0,0,12,6.5,5.46,5.46,0,0,0,6.5,12Z\"/>\n",
              "  </svg>\n",
              "    </button>\n",
              "    <script>\n",
              "      (() => {\n",
              "      const buttonEl =\n",
              "        document.querySelector('#id_8cdd2bc4-8627-4210-bbf2-f6eaa6e1f951 button.colab-df-generate');\n",
              "      buttonEl.style.display =\n",
              "        google.colab.kernel.accessAllowed ? 'block' : 'none';\n",
              "\n",
              "      buttonEl.onclick = () => {\n",
              "        google.colab.notebook.generateWithVariable('dfRtc');\n",
              "      }\n",
              "      })();\n",
              "    </script>\n",
              "  </div>\n",
              "\n",
              "    </div>\n",
              "  </div>\n"
            ],
            "application/vnd.google.colaboratory.intrinsic+json": {
              "type": "dataframe",
              "variable_name": "dfRtc",
              "summary": "{\n  \"name\": \"dfRtc\",\n  \"rows\": 5891,\n  \"fields\": [\n    {\n      \"column\": \"User_ID\",\n      \"properties\": {\n        \"dtype\": \"number\",\n        \"std\": 1743,\n        \"min\": 1000001,\n        \"max\": 1006040,\n        \"num_unique_values\": 5891,\n        \"samples\": [\n          1005508,\n          1005718,\n          1005135\n        ],\n        \"semantic_type\": \"\",\n        \"description\": \"\"\n      }\n    },\n    {\n      \"column\": \"Purchase_count\",\n      \"properties\": {\n        \"dtype\": \"number\",\n        \"std\": 107,\n        \"min\": 6,\n        \"max\": 1026,\n        \"num_unique_values\": 482,\n        \"samples\": [\n          671,\n          482,\n          61\n        ],\n        \"semantic_type\": \"\",\n        \"description\": \"\"\n      }\n    },\n    {\n      \"column\": \"Purchase_sum\",\n      \"properties\": {\n        \"dtype\": \"number\",\n        \"std\": 943644,\n        \"min\": 46681,\n        \"max\": 10536909,\n        \"num_unique_values\": 5876,\n        \"samples\": [\n          1719342,\n          345260,\n          389087\n        ],\n        \"semantic_type\": \"\",\n        \"description\": \"\"\n      }\n    }\n  ]\n}"
            }
          },
          "metadata": {},
          "execution_count": 23
        }
      ],
      "source": [
        "# Aggregate by customer ID\n",
        "dfRtc = (dfRet.groupby('User_ID').agg({'User_ID':'count','Purchase':'sum'})\n",
        "             .rename(columns={'User_ID':'Purchase_count', 'Purchase':'Purchase_sum'}))\n",
        "dfRtc"
      ]
    },
    {
      "cell_type": "markdown",
      "source": [
        "To prepare data, we have taken purchase data of customers, which is most important criteria for analyzing sales, and get rid of other datas, which have missed values and non-numerical values. Hence, we don't need any approach in Task 3 to find best mae."
      ],
      "metadata": {
        "id": "rOr2SOaa5po2"
      }
    },
    {
      "cell_type": "code",
      "source": [
        "dfRtc.info()"
      ],
      "metadata": {
        "colab": {
          "base_uri": "https://localhost:8080/"
        },
        "id": "jNaCQa2do-ut",
        "outputId": "a869d609-d62a-4658-e78f-25a935fd37d8"
      },
      "execution_count": null,
      "outputs": [
        {
          "output_type": "stream",
          "name": "stdout",
          "text": [
            "<class 'pandas.core.frame.DataFrame'>\n",
            "Index: 5891 entries, 1000001 to 1006040\n",
            "Data columns (total 2 columns):\n",
            " #   Column          Non-Null Count  Dtype\n",
            "---  ------          --------------  -----\n",
            " 0   Purchase_count  5891 non-null   int64\n",
            " 1   Purchase_sum    5891 non-null   int64\n",
            "dtypes: int64(2)\n",
            "memory usage: 138.1 KB\n"
          ]
        }
      ]
    },
    {
      "cell_type": "markdown",
      "source": [
        "There is no problem with our new set."
      ],
      "metadata": {
        "id": "eAqA_WM971Ji"
      }
    },
    {
      "cell_type": "code",
      "execution_count": null,
      "metadata": {
        "id": "vZTufxZic52J"
      },
      "outputs": [],
      "source": [
        "# Scale data\n",
        "X = dfRtc\n",
        "X[X.columns] = scale(X[X.columns])"
      ]
    },
    {
      "cell_type": "markdown",
      "source": [
        "The numerical features are standardized."
      ],
      "metadata": {
        "id": "0f8XIf13_c53"
      }
    },
    {
      "cell_type": "code",
      "source": [
        "# Visualize scatterplot\n",
        "\n",
        "plt.scatter(X['Purchase_count'],X['Purchase_sum'])\n",
        "plt.xlabel('Purchase_count')\n",
        "plt.ylabel('Purchase_sum')"
      ],
      "metadata": {
        "colab": {
          "base_uri": "https://localhost:8080/",
          "height": 467
        },
        "id": "H89PRILOqssD",
        "outputId": "396d5823-ffb8-455c-8c19-3d1785f46193"
      },
      "execution_count": null,
      "outputs": [
        {
          "output_type": "execute_result",
          "data": {
            "text/plain": [
              "Text(0, 0.5, 'Purchase_sum')"
            ]
          },
          "metadata": {},
          "execution_count": 27
        },
        {
          "output_type": "display_data",
          "data": {
            "text/plain": [
              "<Figure size 640x480 with 1 Axes>"
            ],
            "image/png": "[encoded data removed]"
          },
          "metadata": {}
        }
      ]
    },
    {
      "cell_type": "markdown",
      "source": [
        "In order to segment the customers, let's start by a random assignment and then Iteratively improve the result."
      ],
      "metadata": {
        "id": "EgHWCziZ_1oh"
      }
    },
    {
      "cell_type": "markdown",
      "metadata": {
        "id": "6dd1J7v6c52K"
      },
      "source": [
        "### K-Means Clustering"
      ]
    },
    {
      "cell_type": "markdown",
      "metadata": {
        "id": "KHauY9X8c52K"
      },
      "source": [
        "**K-Means Clustering** makes easy for us to understand and implement segmentation by choosing random K centroids and iterating it until finding most stabil model."
      ]
    },
    {
      "cell_type": "markdown",
      "source": [
        "![image.png](data:image/png;base64,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)"
      ],
      "metadata": {
        "id": "SYse4XTiSlcS"
      }
    },
    {
      "cell_type": "code",
      "execution_count": null,
      "metadata": {
        "id": "pxUTgZS_c52M",
        "colab": {
          "base_uri": "https://localhost:8080/"
        },
        "outputId": "ea9610ef-7c8a-41f4-e00d-bb02cc888f40"
      },
      "outputs": [
        {
          "output_type": "stream",
          "name": "stderr",
          "text": [
            "/usr/local/lib/python3.10/dist-packages/sklearn/cluster/_kmeans.py:870: FutureWarning: The default value of `n_init` will change from 10 to 'auto' in 1.4. Set the value of `n_init` explicitly to suppress the warning\n",
            "  warnings.warn(\n"
          ]
        }
      ],
      "source": [
        "# Build k-Means Clustering model\n",
        "\n",
        "from sklearn.cluster import KMeans\n",
        "\n",
        "mdlKmcRtc = KMeans(n_clusters=3, random_state=1)\n",
        "mdlKmcRtc.fit(X)\n",
        "kMeans_labels = mdlKmcRtc.labels_"
      ]
    },
    {
      "cell_type": "code",
      "execution_count": null,
      "metadata": {
        "colab": {
          "base_uri": "https://localhost:8080/",
          "height": 489
        },
        "id": "32i00y8lc52M",
        "outputId": "070fa5de-88fb-4f77-e3cc-1178d8d47e91"
      },
      "outputs": [
        {
          "output_type": "execute_result",
          "data": {
            "text/plain": [
              "Text(0.5, 1.0, 'K-Means Clustering')"
            ]
          },
          "metadata": {},
          "execution_count": 29
        },
        {
          "output_type": "display_data",
          "data": {
            "text/plain": [
              "<Figure size 640x480 with 1 Axes>"
            ],
            "image/png": "[encoded data removed]"
          },
          "metadata": {}
        }
      ],
      "source": [
        "# Display k-Means cluster on scatter plot\n",
        "\n",
        "plt.scatter(X['Purchase_count'],X['Purchase_sum'],c=kMeans_labels)\n",
        "plt.xlabel('Purchase_count')\n",
        "plt.ylabel('Purchase_sum')\n",
        "plt.title('K-Means Clustering')"
      ]
    },
    {
      "cell_type": "markdown",
      "source": [
        "We divide scatter plot to 3 part by n_clusters=3. Now we have 3 segments for purchase of customers."
      ],
      "metadata": {
        "id": "F3YnJg98B7NY"
      }
    },
    {
      "cell_type": "markdown",
      "metadata": {
        "id": "UXJ1VArQc52M"
      },
      "source": [
        "We have to need **Silhouette Score** of the clusterings to find best model having object is well matched to its own cluster and poorly matched to neighboring clusters, which is equal to high Silhouette Score."
      ]
    },
    {
      "cell_type": "code",
      "execution_count": null,
      "metadata": {
        "colab": {
          "base_uri": "https://localhost:8080/"
        },
        "id": "oKVGHGIYc52W",
        "outputId": "6af1beeb-d107-4500-890e-3d944f2c974a"
      },
      "outputs": [
        {
          "output_type": "execute_result",
          "data": {
            "text/plain": [
              "0.6652767061197826"
            ]
          },
          "metadata": {},
          "execution_count": 30
        }
      ],
      "source": [
        "# Evaluate quality of clusters\n",
        "from sklearn.metrics import silhouette_score\n",
        "\n",
        "silhouette_score(X, mdlKmcRtc.labels_)"
      ]
    },
    {
      "cell_type": "code",
      "execution_count": null,
      "metadata": {
        "id": "HjcYe5uBc52W"
      },
      "outputs": [],
      "source": [
        "# Function for K-means Clustering\n",
        "def cluster_kMeans(X, k):\n",
        "    mdlKmcRtc = KMeans(n_clusters=k, random_state=1)\n",
        "    mdlKmcRtc.fit(X)\n",
        "    kMeans_labels = mdlKmcRtc.labels_\n",
        "    kMeans_sil_score = silhouette_score(X, mdlKmcRtc.labels_)\n",
        "    return (kMeans_labels, kMeans_sil_score)"
      ]
    },
    {
      "cell_type": "code",
      "execution_count": null,
      "metadata": {
        "colab": {
          "base_uri": "https://localhost:8080/"
        },
        "id": "uL8Ui6l-c52W",
        "outputId": "295c90f8-3841-4df3-de2d-6bbca4780418"
      },
      "outputs": [
        {
          "output_type": "stream",
          "name": "stderr",
          "text": [
            "/usr/local/lib/python3.10/dist-packages/sklearn/cluster/_kmeans.py:870: FutureWarning: The default value of `n_init` will change from 10 to 'auto' in 1.4. Set the value of `n_init` explicitly to suppress the warning\n",
            "  warnings.warn(\n"
          ]
        },
        {
          "output_type": "stream",
          "name": "stdout",
          "text": [
            "k:  2 \t\t Silhouette Score:  0.7261408452722743\n"
          ]
        },
        {
          "output_type": "stream",
          "name": "stderr",
          "text": [
            "/usr/local/lib/python3.10/dist-packages/sklearn/cluster/_kmeans.py:870: FutureWarning: The default value of `n_init` will change from 10 to 'auto' in 1.4. Set the value of `n_init` explicitly to suppress the warning\n",
            "  warnings.warn(\n"
          ]
        },
        {
          "output_type": "stream",
          "name": "stdout",
          "text": [
            "k:  3 \t\t Silhouette Score:  0.6652767061197826\n"
          ]
        },
        {
          "output_type": "stream",
          "name": "stderr",
          "text": [
            "/usr/local/lib/python3.10/dist-packages/sklearn/cluster/_kmeans.py:870: FutureWarning: The default value of `n_init` will change from 10 to 'auto' in 1.4. Set the value of `n_init` explicitly to suppress the warning\n",
            "  warnings.warn(\n"
          ]
        },
        {
          "output_type": "stream",
          "name": "stdout",
          "text": [
            "k:  4 \t\t Silhouette Score:  0.6076933751194181\n"
          ]
        },
        {
          "output_type": "stream",
          "name": "stderr",
          "text": [
            "/usr/local/lib/python3.10/dist-packages/sklearn/cluster/_kmeans.py:870: FutureWarning: The default value of `n_init` will change from 10 to 'auto' in 1.4. Set the value of `n_init` explicitly to suppress the warning\n",
            "  warnings.warn(\n"
          ]
        },
        {
          "output_type": "stream",
          "name": "stdout",
          "text": [
            "k:  5 \t\t Silhouette Score:  0.5846368698345823\n"
          ]
        },
        {
          "output_type": "stream",
          "name": "stderr",
          "text": [
            "/usr/local/lib/python3.10/dist-packages/sklearn/cluster/_kmeans.py:870: FutureWarning: The default value of `n_init` will change from 10 to 'auto' in 1.4. Set the value of `n_init` explicitly to suppress the warning\n",
            "  warnings.warn(\n"
          ]
        },
        {
          "output_type": "stream",
          "name": "stdout",
          "text": [
            "k:  6 \t\t Silhouette Score:  0.5749005958029301\n"
          ]
        }
      ],
      "source": [
        "# Iterate over different values of k to determine best silhouette score\n",
        "\n",
        "for k in range(2,7):\n",
        "    kMeans_labels, kMeans_sil_score = cluster_kMeans(X,k)\n",
        "    print('k: ',k,'\\t\\t', 'Silhouette Score: ', kMeans_sil_score)"
      ]
    },
    {
      "cell_type": "markdown",
      "metadata": {
        "id": "3JUxIaZAc52X"
      },
      "source": [
        "The best cluster size seems to be '2' at which the Silhouette Score is 0.726, which means when we have 2 segments, the objects have best match on their own clusters."
      ]
    },
    {
      "cell_type": "markdown",
      "metadata": {
        "id": "S5GLBXFRc52X"
      },
      "source": [
        "Let's see if we can improve the customer segmentation by starting with each customer in its own cluster and then *Hierarchically* grouping them together... (This is only possible when the dataset is small)"
      ]
    },
    {
      "cell_type": "markdown",
      "metadata": {
        "id": "WwEF4vDwc52X"
      },
      "source": [
        "### Hierarchical Clustering"
      ]
    },
    {
      "cell_type": "code",
      "execution_count": null,
      "metadata": {
        "id": "XvxYX2WOc52Y"
      },
      "outputs": [],
      "source": [
        "# Generate linkages between data points\n",
        "from scipy.cluster import hierarchy\n",
        "\n",
        "Z = hierarchy.linkage(X, 'ward')"
      ]
    },
    {
      "cell_type": "code",
      "execution_count": null,
      "metadata": {
        "colab": {
          "base_uri": "https://localhost:8080/",
          "height": 493
        },
        "id": "OWqtsBlvc52Y",
        "outputId": "2b58e217-76c3-49a2-f574-5d74e6c1b63c"
      },
      "outputs": [
        {
          "output_type": "execute_result",
          "data": {
            "text/plain": [
              "Text(0.5, 1.0, 'Hierarchical Clustering')"
            ]
          },
          "metadata": {},
          "execution_count": 36
        },
        {
          "output_type": "display_data",
          "data": {
            "text/plain": [
              "<Figure size 640x480 with 1 Axes>"
            ],
            "image/png": "[encoded data removed]"
          },
          "metadata": {}
        }
      ],
      "source": [
        "# Visualize Dendrogram of Clusters\n",
        "\n",
        "hierarchy.dendrogram(Z)\n",
        "plt.xlabel('Cluster Size')\n",
        "plt.ylabel('Distance')\n",
        "plt.title('Hierarchical Clustering')"
      ]
    },
    {
      "cell_type": "markdown",
      "source": [
        "As we can see The greater the y-axis distance, the more spaced apart the clusters are. So, after 2 cluster model becomes worse and not ideal. We can input n_clusters to find best score instead of waiting for  generation of full dendogram.\n"
      ],
      "metadata": {
        "id": "LHMYt5v2TUNH"
      }
    },
    {
      "cell_type": "code",
      "execution_count": 60,
      "metadata": {
        "id": "pR1uzbnFc52Z",
        "colab": {
          "base_uri": "https://localhost:8080/"
        },
        "outputId": "b96c4412-d62d-4182-c1f5-80c031521ef6"
      },
      "outputs": [
        {
          "output_type": "execute_result",
          "data": {
            "text/plain": [
              "0.7454258816188772"
            ]
          },
          "metadata": {},
          "execution_count": 60
        }
      ],
      "source": [
        "# Build Hierarchical Clustering model\n",
        "from sklearn.cluster import AgglomerativeClustering\n",
        "\n",
        "mdlHrcRtc = AgglomerativeClustering(n_clusters=2)\n",
        "mdlHrcRtc.fit(X)\n",
        "hClust_labels = mdlHrcRtc.labels_\n",
        "silhouette_score(X, mdlHrcRtc.labels_)"
      ]
    },
    {
      "cell_type": "code",
      "execution_count": 61,
      "metadata": {
        "colab": {
          "base_uri": "https://localhost:8080/"
        },
        "id": "KQP6PEW-c52Z",
        "outputId": "9e615c6e-9a83-422c-a292-c5ef07d0cfd8"
      },
      "outputs": [
        {
          "output_type": "execute_result",
          "data": {
            "text/plain": [
              "0.6415136338507116"
            ]
          },
          "metadata": {},
          "execution_count": 61
        }
      ],
      "source": [
        "# Build Hierarchical Clustering model\n",
        "from sklearn.cluster import AgglomerativeClustering\n",
        "\n",
        "mdlHrcRtc = AgglomerativeClustering(n_clusters=3)\n",
        "mdlHrcRtc.fit(X)\n",
        "hClust_labels = mdlHrcRtc.labels_\n",
        "silhouette_score(X, mdlHrcRtc.labels_)"
      ]
    },
    {
      "cell_type": "code",
      "source": [
        "# Build Hierarchical Clustering model\n",
        "from sklearn.cluster import AgglomerativeClustering\n",
        "\n",
        "mdlHrcRtc = AgglomerativeClustering(n_clusters=10)\n",
        "mdlHrcRtc.fit(X)\n",
        "hClust_labels = mdlHrcRtc.labels_\n",
        "silhouette_score(X, mdlHrcRtc.labels_)"
      ],
      "metadata": {
        "id": "nJId5x2uHhFt",
        "colab": {
          "base_uri": "https://localhost:8080/"
        },
        "outputId": "92006f07-9e42-4d68-8118-0d1fb883a191"
      },
      "execution_count": 62,
      "outputs": [
        {
          "output_type": "execute_result",
          "data": {
            "text/plain": [
              "0.4830097565263201"
            ]
          },
          "metadata": {},
          "execution_count": 62
        }
      ]
    },
    {
      "cell_type": "code",
      "execution_count": 63,
      "metadata": {
        "colab": {
          "base_uri": "https://localhost:8080/",
          "height": 489
        },
        "id": "i6iUPixcc52Z",
        "outputId": "a4b15c79-d277-4ed5-9ccf-37c55fc7fa8f"
      },
      "outputs": [
        {
          "output_type": "execute_result",
          "data": {
            "text/plain": [
              "Text(0.5, 1.0, 'Hierarchical Clustering')"
            ]
          },
          "metadata": {},
          "execution_count": 63
        },
        {
          "output_type": "display_data",
          "data": {
            "text/plain": [
              "<Figure size 640x480 with 1 Axes>"
            ],
            "image/png": "[encoded data removed]"
          },
          "metadata": {}
        }
      ],
      "source": [
        "# Display Hierarchical cluster on scatter plot\n",
        "\n",
        "plt.scatter(X['Purchase_count'],X['Purchase_sum'],c=hClust_labels)\n",
        "plt.xlabel('Purchase_count')\n",
        "plt.ylabel('Purchase_sum')\n",
        "plt.title('Hierarchical Clustering')"
      ]
    },
    {
      "cell_type": "code",
      "execution_count": null,
      "metadata": {
        "id": "ft2Ns_uqc52a"
      },
      "outputs": [],
      "source": [
        "# Function for Hierarchical Clustering\n",
        "def cluster_hierarchy(X, k):\n",
        "    mdlHrcRtc = AgglomerativeClustering(n_clusters=k)\n",
        "    mdlHrcRtc.fit(X)\n",
        "    hClust_labels = mdlHrcRtc.labels_\n",
        "    hClust_sil_score = silhouette_score(X, mdlHrcRtc.labels_)\n",
        "    return (hClust_labels, hClust_sil_score)"
      ]
    },
    {
      "cell_type": "code",
      "execution_count": null,
      "metadata": {
        "colab": {
          "base_uri": "https://localhost:8080/"
        },
        "id": "D6baEFytc52a",
        "outputId": "677a3822-f42a-40a4-b074-b82f910ad796"
      },
      "outputs": [
        {
          "output_type": "stream",
          "name": "stdout",
          "text": [
            "k:  2 \t\t Silhouette Score:  0.7454258816188772\n",
            "k:  3 \t\t Silhouette Score:  0.6415136338507116\n",
            "k:  4 \t\t Silhouette Score:  0.6399901867458228\n",
            "k:  5 \t\t Silhouette Score:  0.506267207431757\n",
            "k:  6 \t\t Silhouette Score:  0.5070500323467254\n"
          ]
        }
      ],
      "source": [
        "# Iterate over different values of k to determine best silhouette score\n",
        "\n",
        "for k in range(2,7):\n",
        "    hClust_labels, hClust_sil_score = cluster_hierarchy(X,k)\n",
        "    print('k: ',k,'\\t\\t', 'Silhouette Score: ', hClust_sil_score)"
      ]
    },
    {
      "cell_type": "markdown",
      "metadata": {
        "id": "PoFPVV6Uc52a"
      },
      "source": [
        "Even in Hierarchical Clustering, the ideal cluster size is '2', which is reassuring.  However, the cluster labels seem to be slightly better now with a Silhouette Score of 0.745 over the score of 0.726 in K-Means Clustering."
      ]
    },
    {
      "cell_type": "markdown",
      "metadata": {
        "id": "uuFymLHqc52b"
      },
      "source": [
        "![utexas_ds_orie_divider_gray.png](data:image/png;base64,iVBORw0KGgoAAAANSUhEUgAAB0YAAAAKCAYAAAAgjz0QAAAAAXNSR0IArs4c6QAAAHhlWElmTU0AKgAAAAgABAEaAAUAAAABAAAAPgEbAAUAAAABAAAARgEoAAMAAAABAAIAAIdpAAQAAAABAAAATgAAAAAAAACWAAAAAQAAAJYAAAABAAOgAQADAAAAAQABAACgAgAEAAAAAQAAB0agAwAEAAAAAQAAAAoAAAAAoOuQ6gAAAAlwSFlzAAAXEgAAFxIBZ5/SUgAAAbBJREFUeAHt2bEVAiEURcHFsxyKMLU6jcyogQKsxzo01h6IEAqwgb9DQnwHsrdtDgECBAgQIECAAAECBAgQIECAAAECBAgQIECAAAECBIILpNVXa73knM/BW+URIECAAAECBAgQIECAAAECBAgQIECAAAECBAgQIHAwgd77u7X23Vd3KeU+r+vBDOQSIECAAAECBAgQIECAAAECBAgQIECAAAECBAgQIBBcYG6ht5n4OAXvlEeAAAECBAgQIECAAAECBAgQIECAAAECBAgQIECAAIHNMOoTECBAgAABAgQIECBAgAABAgQIECBAgAABAgQIECAQXsAwGv6JBRIgQIAAAQIECBAgQIAAAQIECBAgQIAAAQIECBAgYBj1BwgQIECAAAECBAgQIECAAAECBAgQIECAAAECBAgQCC9gGA3/xAIJECBAgAABAgQIECBAgAABAgQIECBAgAABAgQIENgXwRjjlVJ64iBAgAABAgQIECBAgAABAgQIECBAgAABAgQIECBAgEAkgbmDfiL1aCFAgAABAgQIECBAgAABAgQIECBAgAABAgQIECBAgMBfgR+MbQ+c2cysKQAAAABJRU5ErkJggg==)"
      ]
    },
    {
      "cell_type": "markdown",
      "metadata": {
        "id": "P69-I7noc52b"
      },
      "source": [
        "### DBScan Clustering and Anomaly Detection"
      ]
    },
    {
      "cell_type": "markdown",
      "metadata": {
        "id": "Zxd7eTdQc52b"
      },
      "source": [
        "DBScan model is clustering values by distance measure and minimum number of points."
      ]
    },
    {
      "cell_type": "code",
      "execution_count": null,
      "metadata": {
        "id": "Q574S_nJc52b"
      },
      "outputs": [],
      "source": [
        "# Build DBScan model\n",
        "\n",
        "from sklearn.cluster import DBSCAN\n",
        "\n",
        "mdlDbsRtc = DBSCAN(eps=0.2)\n",
        "mdlDbsRtc.fit(X)\n",
        "dbscan_labels = mdlDbsRtc.labels_"
      ]
    },
    {
      "cell_type": "code",
      "execution_count": null,
      "metadata": {
        "colab": {
          "base_uri": "https://localhost:8080/"
        },
        "id": "BIzxpBr0c52c",
        "outputId": "39c7310e-ff9c-492b-a890-50fdccaa3d82"
      },
      "outputs": [
        {
          "output_type": "execute_result",
          "data": {
            "text/plain": [
              "0.6568861530009426"
            ]
          },
          "metadata": {},
          "execution_count": 46
        }
      ],
      "source": [
        "silhouette_score(X, dbscan_labels)"
      ]
    },
    {
      "cell_type": "code",
      "source": [
        "# calculate number of clusters\n",
        "dbscan_clusters = len(set(dbscan_labels)) - (1 if -1 in dbscan_labels else 0)\n",
        "dbscan_clusters"
      ],
      "metadata": {
        "id": "K22rn9PpYfgs",
        "colab": {
          "base_uri": "https://localhost:8080/"
        },
        "outputId": "ac2ea58f-3281-4b05-cd21-be8816f417ba"
      },
      "execution_count": null,
      "outputs": [
        {
          "output_type": "execute_result",
          "data": {
            "text/plain": [
              "4"
            ]
          },
          "metadata": {},
          "execution_count": 47
        }
      ]
    },
    {
      "cell_type": "code",
      "source": [
        "# calculate number of anomalies\n",
        "dbscan_anomalies = list(dbscan_labels).count(-1)\n",
        "dbscan_anomalies"
      ],
      "metadata": {
        "id": "jEylZ2h7Z2lR",
        "colab": {
          "base_uri": "https://localhost:8080/"
        },
        "outputId": "69a12736-0462-4473-ac88-128472907323"
      },
      "execution_count": null,
      "outputs": [
        {
          "output_type": "execute_result",
          "data": {
            "text/plain": [
              "60"
            ]
          },
          "metadata": {},
          "execution_count": 48
        }
      ]
    },
    {
      "cell_type": "code",
      "execution_count": null,
      "metadata": {
        "colab": {
          "base_uri": "https://localhost:8080/",
          "height": 489
        },
        "id": "MiqufZn5c52c",
        "outputId": "3c6bc364-958a-4a22-c690-f2714c2ab676"
      },
      "outputs": [
        {
          "output_type": "execute_result",
          "data": {
            "text/plain": [
              "Text(0.5, 1.0, 'DBScan Clustering')"
            ]
          },
          "metadata": {},
          "execution_count": 50
        },
        {
          "output_type": "display_data",
          "data": {
            "text/plain": [
              "<Figure size 640x480 with 1 Axes>"
            ],
            "image/png": "[encoded data removed]"
          },
          "metadata": {}
        }
      ],
      "source": [
        "# Display DBScan cluster on scatter plot\n",
        "\n",
        "plt.scatter(X['Purchase_count'],X['Purchase_sum'],c=dbscan_labels)\n",
        "plt.xlabel('Purchase_count')\n",
        "plt.ylabel('Purchase_sum')\n",
        "plt.title('DBScan Clustering')"
      ]
    },
    {
      "cell_type": "code",
      "execution_count": null,
      "metadata": {
        "id": "FEz72CEUc52c"
      },
      "outputs": [],
      "source": [
        "# Function for DBScan Clustering\n",
        "\n",
        "def cluster_dbscan(X, e):\n",
        "    mdlDbsRtc = DBSCAN(eps=e)\n",
        "    mdlDbsRtc.fit(X)\n",
        "    dbscan_labels = mdlDbsRtc.labels_\n",
        "    dbscan_sil_score = silhouette_score(X, dbscan_labels)\n",
        "\n",
        "    # count number of clusters and noise points\n",
        "    dbscan_clusters = len(set(dbscan_labels)) - (1 if -1 in dbscan_labels else 0)\n",
        "    dbscan_anomalies = list(dbscan_labels).count(-1)\n",
        "    return(dbscan_clusters, dbscan_anomalies, dbscan_sil_score)"
      ]
    },
    {
      "cell_type": "code",
      "execution_count": null,
      "metadata": {
        "colab": {
          "base_uri": "https://localhost:8080/"
        },
        "id": "Jl3u8SeKc52c",
        "outputId": "dad00e1a-5472-4e6a-a908-caa16b28e58c"
      },
      "outputs": [
        {
          "output_type": "stream",
          "name": "stdout",
          "text": [
            "eps:  0.1 \t Clusters:  10 \t Noise:  255 \t Silhouette Score:  0.5661972006437398\n",
            "eps:  0.2 \t Clusters:  4 \t Noise:  60 \t Silhouette Score:  0.6568861530009426\n",
            "eps:  0.3 \t Clusters:  1 \t Noise:  40 \t Silhouette Score:  0.8024435045110658\n",
            "eps:  0.4 \t Clusters:  3 \t Noise:  20 \t Silhouette Score:  0.7872811055480032\n",
            "eps:  0.5 \t Clusters:  3 \t Noise:  15 \t Silhouette Score:  0.7927236996940684\n",
            "eps:  0.6 \t Clusters:  3 \t Noise:  7 \t Silhouette Score:  0.7943119387842261\n",
            "eps:  0.7 \t Clusters:  2 \t Noise:  6 \t Silhouette Score:  0.8011975322057425\n"
          ]
        }
      ],
      "source": [
        "# Iterate over different values of eps to determine best silhouette score\n",
        "\n",
        "for eps in [0.1, 0.2, 0.3, 0.4, 0.5, 0.6, 0.7]:\n",
        "    dbscan_clusters, dbscan_anomalies, dbscan_sil_score = cluster_dbscan(X, eps)\n",
        "    print('eps: ',eps,'\\t', 'Clusters: ', dbscan_clusters, '\\t', 'Noise: ', dbscan_anomalies, '\\t', 'Silhouette Score: ', dbscan_sil_score)"
      ]
    },
    {
      "cell_type": "markdown",
      "metadata": {
        "id": "jSp97HI7c52d"
      },
      "source": [
        "The highest Silhouette Score in the DBScan model is for a cluster size '1', but it really means there would be 2 clusters where the second cluster is a collection of all the outliers and it gives best score. It also determines outliers.\n",
        "\n"
      ]
    },
    {
      "cell_type": "markdown",
      "metadata": {
        "id": "mkXABIlvc52d"
      },
      "source": [
        "#Conclusion\n",
        "* By using only purchase data for segmentation, additional aprroaches to preapare data for best mae are got rid of.\n",
        "* K-Means Clustering* is used firstly and gives Silhouette Score:0.726 for n_clustering=2 by choosing random centroids.\n",
        "* Hierarchical Clustering is used after that and gives Silhouette Score:0.745 for n_clustering=2, which is better than K-Means Clustering by assaigning each data point to own cluster.\n",
        "* DBScan model gives the best Silhouette Score:0.802 by clustering according to distance measurement among data points,density, and providing outliers.\n"
      ]
    }
  ],
  "metadata": {
    "kernelspec": {
      "display_name": "Python 3",
      "language": "python",
      "name": "python3"
    },
    "language_info": {
      "codemirror_mode": {
        "name": "ipython",
        "version": 3
      },
      "file_extension": ".py",
      "mimetype": "text/x-python",
      "name": "python",
      "nbconvert_exporter": "python",
      "pygments_lexer": "ipython3",
      "version": "3.7.1"
    },
    "colab": {
      "provenance": [],
      "include_colab_link": true
    }
  },
  "nbformat": 4,
  "nbformat_minor": 0
}